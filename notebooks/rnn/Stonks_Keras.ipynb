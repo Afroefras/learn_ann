{
 "cells": [
  {
   "cell_type": "markdown",
   "id": "51778eaa",
   "metadata": {},
   "source": [
    "# Google stock prediction"
   ]
  },
  {
   "cell_type": "markdown",
   "id": "3d46c853",
   "metadata": {
    "heading_collapsed": true
   },
   "source": [
    "## Parameters"
   ]
  },
  {
   "cell_type": "code",
   "execution_count": 1,
   "id": "11ef682a",
   "metadata": {
    "ExecuteTime": {
     "end_time": "2021-04-11T21:17:18.509212Z",
     "start_time": "2021-04-11T21:17:18.491475Z"
    },
    "hidden": true
   },
   "outputs": [
    {
     "name": "stdout",
     "output_type": "stream",
     "text": [
      "['.DS_Store', 'Google_Stock_Price_Train.csv', 'Google_Stock_Price_Test.csv', 'rnn_stonks.json', 'rnn_stonks_weights.h5']\n"
     ]
    }
   ],
   "source": [
    "import os\n",
    "\n",
    "BASE_DIR = '/Users/efraflores/Desktop/EF/Diplo/Stocks'\n",
    "print(os.listdir(BASE_DIR))\n",
    "EPHOCS = 92\n",
    "BATCH_SIZE = 27"
   ]
  },
  {
   "cell_type": "markdown",
   "id": "44bc32d2",
   "metadata": {
    "heading_collapsed": true
   },
   "source": [
    "## Preprocessing"
   ]
  },
  {
   "cell_type": "code",
   "execution_count": 2,
   "id": "07feefe5",
   "metadata": {
    "ExecuteTime": {
     "end_time": "2021-04-11T21:17:19.139089Z",
     "start_time": "2021-04-11T21:17:18.511560Z"
    },
    "hidden": true
   },
   "outputs": [
    {
     "data": {
      "text/html": [
       "<div>\n",
       "<style scoped>\n",
       "    .dataframe tbody tr th:only-of-type {\n",
       "        vertical-align: middle;\n",
       "    }\n",
       "\n",
       "    .dataframe tbody tr th {\n",
       "        vertical-align: top;\n",
       "    }\n",
       "\n",
       "    .dataframe thead th {\n",
       "        text-align: right;\n",
       "    }\n",
       "</style>\n",
       "<table border=\"1\" class=\"dataframe\">\n",
       "  <thead>\n",
       "    <tr style=\"text-align: right;\">\n",
       "      <th></th>\n",
       "      <th>Date</th>\n",
       "      <th>Open</th>\n",
       "      <th>High</th>\n",
       "      <th>Low</th>\n",
       "      <th>Close</th>\n",
       "      <th>Volume</th>\n",
       "    </tr>\n",
       "  </thead>\n",
       "  <tbody>\n",
       "    <tr>\n",
       "      <th>0</th>\n",
       "      <td>1/3/2012</td>\n",
       "      <td>325.25</td>\n",
       "      <td>332.83</td>\n",
       "      <td>324.97</td>\n",
       "      <td>663.59</td>\n",
       "      <td>7,380,500</td>\n",
       "    </tr>\n",
       "    <tr>\n",
       "      <th>1</th>\n",
       "      <td>1/4/2012</td>\n",
       "      <td>331.27</td>\n",
       "      <td>333.87</td>\n",
       "      <td>329.08</td>\n",
       "      <td>666.45</td>\n",
       "      <td>5,749,400</td>\n",
       "    </tr>\n",
       "    <tr>\n",
       "      <th>2</th>\n",
       "      <td>1/5/2012</td>\n",
       "      <td>329.83</td>\n",
       "      <td>330.75</td>\n",
       "      <td>326.89</td>\n",
       "      <td>657.21</td>\n",
       "      <td>6,590,300</td>\n",
       "    </tr>\n",
       "    <tr>\n",
       "      <th>3</th>\n",
       "      <td>1/6/2012</td>\n",
       "      <td>328.34</td>\n",
       "      <td>328.77</td>\n",
       "      <td>323.68</td>\n",
       "      <td>648.24</td>\n",
       "      <td>5,405,900</td>\n",
       "    </tr>\n",
       "    <tr>\n",
       "      <th>4</th>\n",
       "      <td>1/9/2012</td>\n",
       "      <td>322.04</td>\n",
       "      <td>322.29</td>\n",
       "      <td>309.46</td>\n",
       "      <td>620.76</td>\n",
       "      <td>11,688,800</td>\n",
       "    </tr>\n",
       "    <tr>\n",
       "      <th>1253</th>\n",
       "      <td>12/23/2016</td>\n",
       "      <td>790.90</td>\n",
       "      <td>792.74</td>\n",
       "      <td>787.28</td>\n",
       "      <td>789.91</td>\n",
       "      <td>623,400</td>\n",
       "    </tr>\n",
       "    <tr>\n",
       "      <th>1254</th>\n",
       "      <td>12/27/2016</td>\n",
       "      <td>790.68</td>\n",
       "      <td>797.86</td>\n",
       "      <td>787.66</td>\n",
       "      <td>791.55</td>\n",
       "      <td>789,100</td>\n",
       "    </tr>\n",
       "    <tr>\n",
       "      <th>1255</th>\n",
       "      <td>12/28/2016</td>\n",
       "      <td>793.70</td>\n",
       "      <td>794.23</td>\n",
       "      <td>783.20</td>\n",
       "      <td>785.05</td>\n",
       "      <td>1,153,800</td>\n",
       "    </tr>\n",
       "    <tr>\n",
       "      <th>1256</th>\n",
       "      <td>12/29/2016</td>\n",
       "      <td>783.33</td>\n",
       "      <td>785.93</td>\n",
       "      <td>778.92</td>\n",
       "      <td>782.79</td>\n",
       "      <td>744,300</td>\n",
       "    </tr>\n",
       "    <tr>\n",
       "      <th>1257</th>\n",
       "      <td>12/30/2016</td>\n",
       "      <td>782.75</td>\n",
       "      <td>782.78</td>\n",
       "      <td>770.41</td>\n",
       "      <td>771.82</td>\n",
       "      <td>1,770,000</td>\n",
       "    </tr>\n",
       "  </tbody>\n",
       "</table>\n",
       "</div>"
      ],
      "text/plain": [
       "            Date    Open    High     Low   Close      Volume\n",
       "0       1/3/2012  325.25  332.83  324.97  663.59   7,380,500\n",
       "1       1/4/2012  331.27  333.87  329.08  666.45   5,749,400\n",
       "2       1/5/2012  329.83  330.75  326.89  657.21   6,590,300\n",
       "3       1/6/2012  328.34  328.77  323.68  648.24   5,405,900\n",
       "4       1/9/2012  322.04  322.29  309.46  620.76  11,688,800\n",
       "1253  12/23/2016  790.90  792.74  787.28  789.91     623,400\n",
       "1254  12/27/2016  790.68  797.86  787.66  791.55     789,100\n",
       "1255  12/28/2016  793.70  794.23  783.20  785.05   1,153,800\n",
       "1256  12/29/2016  783.33  785.93  778.92  782.79     744,300\n",
       "1257  12/30/2016  782.75  782.78  770.41  771.82   1,770,000"
      ]
     },
     "execution_count": 2,
     "metadata": {},
     "output_type": "execute_result"
    }
   ],
   "source": [
    "import pandas as pd\n",
    "\n",
    "df = pd.read_csv(os.path.join(BASE_DIR,'Google_Stock_Price_Train.csv'))\n",
    "df.head().append(df.tail())"
   ]
  },
  {
   "cell_type": "code",
   "execution_count": 3,
   "id": "6aa54357",
   "metadata": {
    "ExecuteTime": {
     "end_time": "2021-04-11T21:17:20.056098Z",
     "start_time": "2021-04-11T21:17:19.141301Z"
    },
    "hidden": true
   },
   "outputs": [
    {
     "name": "stdout",
     "output_type": "stream",
     "text": [
      "0.0 1.0\n"
     ]
    }
   ],
   "source": [
    "from sklearn.preprocessing import MinMaxScaler\n",
    "\n",
    "mm_x = MinMaxScaler()\n",
    "data_train = mm_x.fit_transform(df[['Open']])\n",
    "print(data_train.min(),data_train.max())"
   ]
  },
  {
   "cell_type": "code",
   "execution_count": 4,
   "id": "e6332b3c",
   "metadata": {
    "ExecuteTime": {
     "end_time": "2021-04-11T21:17:20.075192Z",
     "start_time": "2021-04-11T21:17:20.064659Z"
    },
    "hidden": true
   },
   "outputs": [
    {
     "name": "stdout",
     "output_type": "stream",
     "text": [
      "(1198, 60)\n"
     ]
    }
   ],
   "source": [
    "import numpy as np\n",
    "\n",
    "X_train = []\n",
    "y_train = []\n",
    "for i in range(60,len(data_train)):\n",
    "    X_train.append(data_train[i-60:i,0])\n",
    "    y_train.append(data_train[i,0])\n",
    "X_train, y_train = np.array(X_train), np.array(y_train)\n",
    "print(X_train.shape)"
   ]
  },
  {
   "cell_type": "code",
   "execution_count": 5,
   "id": "aa904290",
   "metadata": {
    "ExecuteTime": {
     "end_time": "2021-04-11T21:17:20.084082Z",
     "start_time": "2021-04-11T21:17:20.078856Z"
    },
    "hidden": true
   },
   "outputs": [
    {
     "name": "stdout",
     "output_type": "stream",
     "text": [
      "(1198, 60, 1)\n"
     ]
    }
   ],
   "source": [
    "#Make one extra dimmension to feed the Keras RNN\n",
    "X_train = np.reshape(X_train, (X_train.shape[0], X_train.shape[1], 1))\n",
    "print(X_train.shape)"
   ]
  },
  {
   "cell_type": "markdown",
   "id": "3affe18c",
   "metadata": {
    "heading_collapsed": true
   },
   "source": [
    "## Arquitecture"
   ]
  },
  {
   "cell_type": "code",
   "execution_count": 6,
   "id": "1bb94505",
   "metadata": {
    "ExecuteTime": {
     "end_time": "2021-04-11T21:17:29.191988Z",
     "start_time": "2021-04-11T21:17:20.088584Z"
    },
    "hidden": true
   },
   "outputs": [
    {
     "name": "stdout",
     "output_type": "stream",
     "text": [
      "INFO:tensorflow:Enabling eager execution\n",
      "INFO:tensorflow:Enabling v2 tensorshape\n",
      "INFO:tensorflow:Enabling resource variables\n",
      "INFO:tensorflow:Enabling tensor equality\n",
      "INFO:tensorflow:Enabling control flow v2\n"
     ]
    }
   ],
   "source": [
    "from keras.models import Sequential\n",
    "from keras.layers import LSTM, Dropout, Dense\n",
    "\n",
    "rnn = Sequential()\n",
    "rnn.add(LSTM(units = 50, return_sequences = True, input_shape = (X_train.shape[1], 1)))\n",
    "rnn.add(Dropout(0.2))\n",
    "rnn.add(LSTM(units = 50, return_sequences = True))\n",
    "rnn.add(Dropout(0.2))\n",
    "rnn.add(LSTM(units = 50, return_sequences = True))\n",
    "rnn.add(Dropout(0.2))\n",
    "rnn.add(LSTM(units = 50))\n",
    "rnn.add(Dropout(0.2))\n",
    "rnn.add(Dense(units = 1))"
   ]
  },
  {
   "cell_type": "markdown",
   "id": "9d044e4e",
   "metadata": {
    "heading_collapsed": true
   },
   "source": [
    "## Training"
   ]
  },
  {
   "cell_type": "code",
   "execution_count": 7,
   "id": "c433a3cb",
   "metadata": {
    "ExecuteTime": {
     "end_time": "2021-04-11T21:26:12.887649Z",
     "start_time": "2021-04-11T21:17:29.194427Z"
    },
    "hidden": true
   },
   "outputs": [
    {
     "name": "stdout",
     "output_type": "stream",
     "text": [
      "Epoch 1/92\n",
      "WARNING:tensorflow:AutoGraph could not transform <bound method Dense.call of <keras.layers.core.Dense object at 0x7fa2c218cfd0>> and will run it as-is.\n",
      "Please report this to the TensorFlow team. When filing the bug, set the verbosity to 10 (on Linux, `export AUTOGRAPH_VERBOSITY=10`) and attach the full output.\n",
      "Cause: invalid syntax (tmpfkmboccu.py, line 48)\n",
      "To silence this warning, decorate the function with @tf.autograph.experimental.do_not_convert\n",
      "WARNING: AutoGraph could not transform <bound method Dense.call of <keras.layers.core.Dense object at 0x7fa2c218cfd0>> and will run it as-is.\n",
      "Please report this to the TensorFlow team. When filing the bug, set the verbosity to 10 (on Linux, `export AUTOGRAPH_VERBOSITY=10`) and attach the full output.\n",
      "Cause: invalid syntax (tmpfkmboccu.py, line 48)\n",
      "To silence this warning, decorate the function with @tf.autograph.experimental.do_not_convert\n",
      "45/45 [==============================] - 53s 201ms/step - loss: 0.0952\n",
      "Epoch 2/92\n",
      "45/45 [==============================] - 9s 206ms/step - loss: 0.0059\n",
      "Epoch 3/92\n",
      "45/45 [==============================] - 9s 205ms/step - loss: 0.0057\n",
      "Epoch 4/92\n",
      "45/45 [==============================] - 10s 214ms/step - loss: 0.0049\n",
      "Epoch 5/92\n",
      "45/45 [==============================] - 10s 218ms/step - loss: 0.0055\n",
      "Epoch 6/92\n",
      "45/45 [==============================] - 9s 208ms/step - loss: 0.0073\n",
      "Epoch 7/92\n",
      "45/45 [==============================] - 10s 212ms/step - loss: 0.0044\n",
      "Epoch 8/92\n",
      "45/45 [==============================] - 9s 209ms/step - loss: 0.0046\n",
      "Epoch 9/92\n",
      "45/45 [==============================] - 10s 221ms/step - loss: 0.0055\n",
      "Epoch 10/92\n",
      "45/45 [==============================] - 9s 195ms/step - loss: 0.0041\n",
      "Epoch 11/92\n",
      "45/45 [==============================] - 9s 198ms/step - loss: 0.0044\n",
      "Epoch 12/92\n",
      "45/45 [==============================] - 9s 205ms/step - loss: 0.0042\n",
      "Epoch 13/92\n",
      "45/45 [==============================] - 9s 203ms/step - loss: 0.0041\n",
      "Epoch 14/92\n",
      "45/45 [==============================] - 9s 198ms/step - loss: 0.0036\n",
      "Epoch 15/92\n",
      "45/45 [==============================] - 9s 196ms/step - loss: 0.0035\n",
      "Epoch 16/92\n",
      "45/45 [==============================] - 9s 195ms/step - loss: 0.0043\n",
      "Epoch 17/92\n",
      "45/45 [==============================] - 9s 194ms/step - loss: 0.0035\n",
      "Epoch 18/92\n",
      "45/45 [==============================] - 9s 205ms/step - loss: 0.0034\n",
      "Epoch 19/92\n",
      "45/45 [==============================] - 10s 212ms/step - loss: 0.0039\n",
      "Epoch 20/92\n",
      "45/45 [==============================] - 10s 218ms/step - loss: 0.0036\n",
      "Epoch 21/92\n",
      "45/45 [==============================] - 10s 217ms/step - loss: 0.0032\n",
      "Epoch 22/92\n",
      "45/45 [==============================] - 7s 164ms/step - loss: 0.0037\n",
      "Epoch 23/92\n",
      "45/45 [==============================] - 5s 101ms/step - loss: 0.0031\n",
      "Epoch 24/92\n",
      "45/45 [==============================] - 4s 84ms/step - loss: 0.0033\n",
      "Epoch 25/92\n",
      "45/45 [==============================] - 4s 80ms/step - loss: 0.0043\n",
      "Epoch 26/92\n",
      "45/45 [==============================] - 5s 107ms/step - loss: 0.0029\n",
      "Epoch 27/92\n",
      "45/45 [==============================] - 4s 82ms/step - loss: 0.0034\n",
      "Epoch 28/92\n",
      "45/45 [==============================] - 3s 69ms/step - loss: 0.0029\n",
      "Epoch 29/92\n",
      "45/45 [==============================] - 3s 71ms/step - loss: 0.0028\n",
      "Epoch 30/92\n",
      "45/45 [==============================] - 3s 67ms/step - loss: 0.0031\n",
      "Epoch 31/92\n",
      "45/45 [==============================] - 3s 64ms/step - loss: 0.0027\n",
      "Epoch 32/92\n",
      "45/45 [==============================] - 3s 64ms/step - loss: 0.0025\n",
      "Epoch 33/92\n",
      "45/45 [==============================] - 3s 66ms/step - loss: 0.0029\n",
      "Epoch 34/92\n",
      "45/45 [==============================] - 3s 66ms/step - loss: 0.0027\n",
      "Epoch 35/92\n",
      "45/45 [==============================] - 3s 62ms/step - loss: 0.0027\n",
      "Epoch 36/92\n",
      "45/45 [==============================] - 3s 63ms/step - loss: 0.0024\n",
      "Epoch 37/92\n",
      "45/45 [==============================] - 3s 63ms/step - loss: 0.0027\n",
      "Epoch 38/92\n",
      "45/45 [==============================] - 3s 63ms/step - loss: 0.0025\n",
      "Epoch 39/92\n",
      "45/45 [==============================] - 3s 62ms/step - loss: 0.0028\n",
      "Epoch 40/92\n",
      "45/45 [==============================] - 3s 62ms/step - loss: 0.0025\n",
      "Epoch 41/92\n",
      "45/45 [==============================] - 3s 64ms/step - loss: 0.0026\n",
      "Epoch 42/92\n",
      "45/45 [==============================] - 3s 64ms/step - loss: 0.0027\n",
      "Epoch 43/92\n",
      "45/45 [==============================] - 3s 68ms/step - loss: 0.0024\n",
      "Epoch 44/92\n",
      "45/45 [==============================] - 3s 67ms/step - loss: 0.0027\n",
      "Epoch 45/92\n",
      "45/45 [==============================] - 3s 66ms/step - loss: 0.0025\n",
      "Epoch 46/92\n",
      "45/45 [==============================] - 3s 67ms/step - loss: 0.0024\n",
      "Epoch 47/92\n",
      "45/45 [==============================] - 3s 67ms/step - loss: 0.0021\n",
      "Epoch 48/92\n",
      "45/45 [==============================] - 3s 66ms/step - loss: 0.0023\n",
      "Epoch 49/92\n",
      "45/45 [==============================] - 3s 67ms/step - loss: 0.0023\n",
      "Epoch 50/92\n",
      "45/45 [==============================] - 3s 67ms/step - loss: 0.0027\n",
      "Epoch 51/92\n",
      "45/45 [==============================] - 3s 68ms/step - loss: 0.0023\n",
      "Epoch 52/92\n",
      "45/45 [==============================] - 3s 74ms/step - loss: 0.0024\n",
      "Epoch 53/92\n",
      "45/45 [==============================] - 5s 107ms/step - loss: 0.0021\n",
      "Epoch 54/92\n",
      "45/45 [==============================] - 5s 111ms/step - loss: 0.0020\n",
      "Epoch 55/92\n",
      "45/45 [==============================] - 5s 117ms/step - loss: 0.0016\n",
      "Epoch 56/92\n",
      "45/45 [==============================] - 5s 110ms/step - loss: 0.0018\n",
      "Epoch 57/92\n",
      "45/45 [==============================] - 5s 108ms/step - loss: 0.0022\n",
      "Epoch 58/92\n",
      "45/45 [==============================] - 4s 100ms/step - loss: 0.0020\n",
      "Epoch 59/92\n",
      "45/45 [==============================] - 4s 91ms/step - loss: 0.0020\n",
      "Epoch 60/92\n",
      "45/45 [==============================] - 4s 84ms/step - loss: 0.0018\n",
      "Epoch 61/92\n",
      "45/45 [==============================] - 4s 83ms/step - loss: 0.0019\n",
      "Epoch 62/92\n",
      "45/45 [==============================] - 4s 94ms/step - loss: 0.0020\n",
      "Epoch 63/92\n",
      "45/45 [==============================] - 3s 74ms/step - loss: 0.0019\n",
      "Epoch 64/92\n",
      "45/45 [==============================] - 4s 81ms/step - loss: 0.0019\n",
      "Epoch 65/92\n",
      "45/45 [==============================] - 4s 92ms/step - loss: 0.0020\n",
      "Epoch 66/92\n",
      "45/45 [==============================] - 4s 93ms/step - loss: 0.0020\n",
      "Epoch 67/92\n",
      "45/45 [==============================] - 4s 98ms/step - loss: 0.0019\n",
      "Epoch 68/92\n",
      "45/45 [==============================] - 5s 120ms/step - loss: 0.0016\n",
      "Epoch 69/92\n",
      "45/45 [==============================] - 4s 96ms/step - loss: 0.0017\n",
      "Epoch 70/92\n",
      "45/45 [==============================] - 4s 94ms/step - loss: 0.0016\n",
      "Epoch 71/92\n",
      "45/45 [==============================] - 5s 102ms/step - loss: 0.0015\n",
      "Epoch 72/92\n",
      "45/45 [==============================] - 4s 96ms/step - loss: 0.0016\n",
      "Epoch 73/92\n",
      "45/45 [==============================] - 4s 90ms/step - loss: 0.0016\n",
      "Epoch 74/92\n",
      "45/45 [==============================] - 5s 101ms/step - loss: 0.0019\n",
      "Epoch 75/92\n",
      "45/45 [==============================] - 5s 114ms/step - loss: 0.0018\n",
      "Epoch 76/92\n",
      "45/45 [==============================] - 5s 116ms/step - loss: 0.0017\n",
      "Epoch 77/92\n",
      "45/45 [==============================] - 5s 106ms/step - loss: 0.0014\n",
      "Epoch 78/92\n",
      "45/45 [==============================] - 4s 98ms/step - loss: 0.0016\n",
      "Epoch 79/92\n",
      "45/45 [==============================] - 4s 92ms/step - loss: 0.0015\n",
      "Epoch 80/92\n",
      "45/45 [==============================] - 5s 116ms/step - loss: 0.0019\n",
      "Epoch 81/92\n",
      "45/45 [==============================] - 5s 106ms/step - loss: 0.0020\n",
      "Epoch 82/92\n",
      "45/45 [==============================] - 4s 89ms/step - loss: 0.0017\n",
      "Epoch 83/92\n",
      "45/45 [==============================] - 4s 95ms/step - loss: 0.0016\n",
      "Epoch 84/92\n",
      "45/45 [==============================] - 4s 91ms/step - loss: 0.0017\n",
      "Epoch 85/92\n",
      "45/45 [==============================] - 5s 111ms/step - loss: 0.0016\n",
      "Epoch 86/92\n",
      "45/45 [==============================] - 5s 106ms/step - loss: 0.0015\n",
      "Epoch 87/92\n",
      "45/45 [==============================] - 4s 96ms/step - loss: 0.0014\n",
      "Epoch 88/92\n",
      "45/45 [==============================] - 4s 99ms/step - loss: 0.0015\n",
      "Epoch 89/92\n",
      "45/45 [==============================] - 5s 104ms/step - loss: 0.0013\n",
      "Epoch 90/92\n"
     ]
    },
    {
     "name": "stdout",
     "output_type": "stream",
     "text": [
      "45/45 [==============================] - 6s 141ms/step - loss: 0.0016\n",
      "Epoch 91/92\n",
      "45/45 [==============================] - 5s 120ms/step - loss: 0.0016\n",
      "Epoch 92/92\n",
      "45/45 [==============================] - 5s 108ms/step - loss: 0.0015\n"
     ]
    },
    {
     "data": {
      "text/plain": [
       "<keras.callbacks.History at 0x7fa2c218e250>"
      ]
     },
     "execution_count": 7,
     "metadata": {},
     "output_type": "execute_result"
    }
   ],
   "source": [
    "rnn.compile(optimizer='adam',loss='mean_squared_error')\n",
    "rnn.fit(X_train, y_train, epochs = EPHOCS, batch_size = BATCH_SIZE)"
   ]
  },
  {
   "cell_type": "markdown",
   "id": "46ee0e4c",
   "metadata": {
    "heading_collapsed": true
   },
   "source": [
    "## Save the model"
   ]
  },
  {
   "cell_type": "code",
   "execution_count": 8,
   "id": "b2b9f766",
   "metadata": {
    "ExecuteTime": {
     "end_time": "2021-04-11T21:26:12.981185Z",
     "start_time": "2021-04-11T21:26:12.894788Z"
    },
    "hidden": true
   },
   "outputs": [],
   "source": [
    "#First, save the architecture\n",
    "with open(os.path.join(BASE_DIR,'rnn_stonks.json'), 'w') as f:\n",
    "    f.write(rnn.to_json())\n",
    "\n",
    "#Then, the paramaters learned by itself\n",
    "rnn.save_weights(os.path.join(BASE_DIR,'rnn_stonks_weights.h5'))"
   ]
  },
  {
   "cell_type": "code",
   "execution_count": 9,
   "id": "43a3870a",
   "metadata": {
    "ExecuteTime": {
     "end_time": "2021-04-11T21:26:14.256338Z",
     "start_time": "2021-04-11T21:26:12.986518Z"
    },
    "hidden": true
   },
   "outputs": [],
   "source": [
    "from keras.models import model_from_json\n",
    "\n",
    "#Now, we can use this model whenever we want!\n",
    "with open(os.path.join(BASE_DIR,'rnn_stonks.json'), 'r') as f:\n",
    "    model = model_from_json(f.read())\n",
    "\n",
    "model.load_weights(os.path.join(BASE_DIR,'rnn_stonks_weights.h5'))\n",
    "model.compile(optimizer='adam',loss='mean_squared_error')"
   ]
  },
  {
   "cell_type": "markdown",
   "id": "6ebaafc0",
   "metadata": {
    "heading_collapsed": true
   },
   "source": [
    "## Predict"
   ]
  },
  {
   "cell_type": "code",
   "execution_count": 10,
   "id": "0f15d237",
   "metadata": {
    "ExecuteTime": {
     "end_time": "2021-04-11T21:26:14.295273Z",
     "start_time": "2021-04-11T21:26:14.260182Z"
    },
    "hidden": true
   },
   "outputs": [
    {
     "data": {
      "text/html": [
       "<div>\n",
       "<style scoped>\n",
       "    .dataframe tbody tr th:only-of-type {\n",
       "        vertical-align: middle;\n",
       "    }\n",
       "\n",
       "    .dataframe tbody tr th {\n",
       "        vertical-align: top;\n",
       "    }\n",
       "\n",
       "    .dataframe thead th {\n",
       "        text-align: right;\n",
       "    }\n",
       "</style>\n",
       "<table border=\"1\" class=\"dataframe\">\n",
       "  <thead>\n",
       "    <tr style=\"text-align: right;\">\n",
       "      <th></th>\n",
       "      <th>Date</th>\n",
       "      <th>Open</th>\n",
       "      <th>High</th>\n",
       "      <th>Low</th>\n",
       "      <th>Close</th>\n",
       "      <th>Volume</th>\n",
       "    </tr>\n",
       "  </thead>\n",
       "  <tbody>\n",
       "    <tr>\n",
       "      <th>0</th>\n",
       "      <td>1/3/2017</td>\n",
       "      <td>778.81</td>\n",
       "      <td>789.63</td>\n",
       "      <td>775.80</td>\n",
       "      <td>786.14</td>\n",
       "      <td>1,657,300</td>\n",
       "    </tr>\n",
       "    <tr>\n",
       "      <th>1</th>\n",
       "      <td>1/4/2017</td>\n",
       "      <td>788.36</td>\n",
       "      <td>791.34</td>\n",
       "      <td>783.16</td>\n",
       "      <td>786.90</td>\n",
       "      <td>1,073,000</td>\n",
       "    </tr>\n",
       "    <tr>\n",
       "      <th>2</th>\n",
       "      <td>1/5/2017</td>\n",
       "      <td>786.08</td>\n",
       "      <td>794.48</td>\n",
       "      <td>785.02</td>\n",
       "      <td>794.02</td>\n",
       "      <td>1,335,200</td>\n",
       "    </tr>\n",
       "    <tr>\n",
       "      <th>3</th>\n",
       "      <td>1/6/2017</td>\n",
       "      <td>795.26</td>\n",
       "      <td>807.90</td>\n",
       "      <td>792.20</td>\n",
       "      <td>806.15</td>\n",
       "      <td>1,640,200</td>\n",
       "    </tr>\n",
       "    <tr>\n",
       "      <th>4</th>\n",
       "      <td>1/9/2017</td>\n",
       "      <td>806.40</td>\n",
       "      <td>809.97</td>\n",
       "      <td>802.83</td>\n",
       "      <td>806.65</td>\n",
       "      <td>1,272,400</td>\n",
       "    </tr>\n",
       "    <tr>\n",
       "      <th>15</th>\n",
       "      <td>1/25/2017</td>\n",
       "      <td>829.62</td>\n",
       "      <td>835.77</td>\n",
       "      <td>825.06</td>\n",
       "      <td>835.67</td>\n",
       "      <td>1,494,500</td>\n",
       "    </tr>\n",
       "    <tr>\n",
       "      <th>16</th>\n",
       "      <td>1/26/2017</td>\n",
       "      <td>837.81</td>\n",
       "      <td>838.00</td>\n",
       "      <td>827.01</td>\n",
       "      <td>832.15</td>\n",
       "      <td>2,973,900</td>\n",
       "    </tr>\n",
       "    <tr>\n",
       "      <th>17</th>\n",
       "      <td>1/27/2017</td>\n",
       "      <td>834.71</td>\n",
       "      <td>841.95</td>\n",
       "      <td>820.44</td>\n",
       "      <td>823.31</td>\n",
       "      <td>2,965,800</td>\n",
       "    </tr>\n",
       "    <tr>\n",
       "      <th>18</th>\n",
       "      <td>1/30/2017</td>\n",
       "      <td>814.66</td>\n",
       "      <td>815.84</td>\n",
       "      <td>799.80</td>\n",
       "      <td>802.32</td>\n",
       "      <td>3,246,600</td>\n",
       "    </tr>\n",
       "    <tr>\n",
       "      <th>19</th>\n",
       "      <td>1/31/2017</td>\n",
       "      <td>796.86</td>\n",
       "      <td>801.25</td>\n",
       "      <td>790.52</td>\n",
       "      <td>796.79</td>\n",
       "      <td>2,160,600</td>\n",
       "    </tr>\n",
       "  </tbody>\n",
       "</table>\n",
       "</div>"
      ],
      "text/plain": [
       "         Date    Open    High     Low   Close     Volume\n",
       "0    1/3/2017  778.81  789.63  775.80  786.14  1,657,300\n",
       "1    1/4/2017  788.36  791.34  783.16  786.90  1,073,000\n",
       "2    1/5/2017  786.08  794.48  785.02  794.02  1,335,200\n",
       "3    1/6/2017  795.26  807.90  792.20  806.15  1,640,200\n",
       "4    1/9/2017  806.40  809.97  802.83  806.65  1,272,400\n",
       "15  1/25/2017  829.62  835.77  825.06  835.67  1,494,500\n",
       "16  1/26/2017  837.81  838.00  827.01  832.15  2,973,900\n",
       "17  1/27/2017  834.71  841.95  820.44  823.31  2,965,800\n",
       "18  1/30/2017  814.66  815.84  799.80  802.32  3,246,600\n",
       "19  1/31/2017  796.86  801.25  790.52  796.79  2,160,600"
      ]
     },
     "execution_count": 10,
     "metadata": {},
     "output_type": "execute_result"
    }
   ],
   "source": [
    "test = pd.read_csv(os.path.join(BASE_DIR,'Google_Stock_Price_Test.csv'))\n",
    "test.head().append(test.tail())"
   ]
  },
  {
   "cell_type": "code",
   "execution_count": 11,
   "id": "cfc269fe",
   "metadata": {
    "ExecuteTime": {
     "end_time": "2021-04-11T21:26:14.311604Z",
     "start_time": "2021-04-11T21:26:14.299496Z"
    },
    "hidden": true
   },
   "outputs": [
    {
     "name": "stdout",
     "output_type": "stream",
     "text": [
      "(20, 60, 1)\n"
     ]
    }
   ],
   "source": [
    "inputs = df.append(test)['Open'].values.reshape(-1,1)\n",
    "inputs = mm_x.transform(inputs[-(len(test)+60):])\n",
    "X_test = []\n",
    "for i in range(60,len(inputs)):\n",
    "    X_test.append(inputs[i-60:i])\n",
    "X_test = np.array(X_test)\n",
    "X_test = np.reshape(X_test, (X_test.shape[0], X_test.shape[1], 1))\n",
    "print(X_test.shape)"
   ]
  },
  {
   "cell_type": "code",
   "execution_count": 12,
   "id": "6aceddca",
   "metadata": {
    "ExecuteTime": {
     "end_time": "2021-04-11T21:26:17.434210Z",
     "start_time": "2021-04-11T21:26:14.314955Z"
    },
    "hidden": true
   },
   "outputs": [
    {
     "data": {
      "text/plain": [
       "(20, 1)"
      ]
     },
     "execution_count": 12,
     "metadata": {},
     "output_type": "execute_result"
    }
   ],
   "source": [
    "pred = mm_x.inverse_transform(model.predict(X_test).reshape((len(inputs)-60,-1)))\n",
    "pred.shape"
   ]
  },
  {
   "cell_type": "markdown",
   "id": "27cd259a",
   "metadata": {},
   "source": [
    "## Graph results"
   ]
  },
  {
   "cell_type": "code",
   "execution_count": 13,
   "id": "9f64dce6",
   "metadata": {
    "ExecuteTime": {
     "end_time": "2021-04-11T21:26:18.161892Z",
     "start_time": "2021-04-11T21:26:17.436880Z"
    }
   },
   "outputs": [
    {
     "data": {
      "image/png": "[encoded data removed]",
      "text/plain": [
       "<Figure size 432x288 with 1 Axes>"
      ]
     },
     "metadata": {
      "needs_background": "light"
     },
     "output_type": "display_data"
    }
   ],
   "source": [
    "import matplotlib.pyplot as plt\n",
    "\n",
    "plt.plot(test['Open'], color = 'red', label = 'Real Google Stock Price')\n",
    "plt.plot(pred, color = 'blue', label = 'Predicted Google Stock Price')\n",
    "plt.title('Google Stock Price Prediction')\n",
    "plt.xlabel('Time')\n",
    "plt.ylabel('Google Stock Price')\n",
    "plt.legend()\n",
    "plt.show()"
   ]
  }
 ],
 "metadata": {
  "kernelspec": {
   "display_name": "Python 3",
   "language": "python",
   "name": "python3"
  },
  "language_info": {
   "codemirror_mode": {
    "name": "ipython",
    "version": 3
   },
   "file_extension": ".py",
   "mimetype": "text/x-python",
   "name": "python",
   "nbconvert_exporter": "python",
   "pygments_lexer": "ipython3",
   "version": "3.9.1"
  },
  "toc": {
   "base_numbering": 1,
   "nav_menu": {},
   "number_sections": true,
   "sideBar": true,
   "skip_h1_title": true,
   "title_cell": "Table of Contents",
   "title_sidebar": "Contents",
   "toc_cell": false,
   "toc_position": {},
   "toc_section_display": true,
   "toc_window_display": true
  },
  "varInspector": {
   "cols": {
    "lenName": 16,
    "lenType": 16,
    "lenVar": 40
   },
   "kernels_config": {
    "python": {
     "delete_cmd_postfix": "",
     "delete_cmd_prefix": "del ",
     "library": "var_list.py",
     "varRefreshCmd": "print(var_dic_list())"
    },
    "r": {
     "delete_cmd_postfix": ") ",
     "delete_cmd_prefix": "rm(",
     "library": "var_list.r",
     "varRefreshCmd": "cat(var_dic_list()) "
    }
   },
   "types_to_exclude": [
    "module",
    "function",
    "builtin_function_or_method",
    "instance",
    "_Feature"
   ],
   "window_display": false
  }
 },
 "nbformat": 4,
 "nbformat_minor": 5
}
