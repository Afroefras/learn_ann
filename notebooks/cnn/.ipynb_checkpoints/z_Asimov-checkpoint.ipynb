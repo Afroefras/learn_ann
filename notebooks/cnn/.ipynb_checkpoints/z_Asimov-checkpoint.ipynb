{
 "cells": [
  {
   "cell_type": "markdown",
   "id": "fb655b97",
   "metadata": {},
   "source": [
    "# Generate Asimov's writing"
   ]
  },
  {
   "cell_type": "markdown",
   "id": "1c71b74c",
   "metadata": {
    "heading_collapsed": true
   },
   "source": [
    "## Parameters"
   ]
  },
  {
   "cell_type": "code",
   "execution_count": 1,
   "id": "bab7546a",
   "metadata": {
    "ExecuteTime": {
     "end_time": "2021-04-11T21:24:38.704531Z",
     "start_time": "2021-04-11T21:24:38.697000Z"
    },
    "hidden": true
   },
   "outputs": [
    {
     "name": "stdout",
     "output_type": "stream",
     "text": [
      "['Asimov came back!.pdf', '.DS_Store', 'Isaac_Asimov.pdf']\n"
     ]
    }
   ],
   "source": [
    "import os\n",
    "\n",
    "BASE_DIR = '/Users/efraflores/Desktop/EF/Diplo/Asimov'\n",
    "print(os.listdir(BASE_DIR))\n",
    "WINDOW = 3\n",
    "EPOCHS = 3\n",
    "BATCH_SIZE = 5\n",
    "CHECK_AT = 1\n",
    "LEARNING = 0.0007"
   ]
  },
  {
   "cell_type": "markdown",
   "id": "ae2d1246",
   "metadata": {},
   "source": [
    "## Functions"
   ]
  },
  {
   "cell_type": "code",
   "execution_count": 8,
   "id": "391ab466",
   "metadata": {
    "ExecuteTime": {
     "end_time": "2021-04-11T21:31:20.240755Z",
     "start_time": "2021-04-11T21:31:20.235433Z"
    }
   },
   "outputs": [],
   "source": [
    "import time\n",
    "import numpy as np\n",
    "from IPython.lib.display import Audio\n",
    "\n",
    "start = time.time()\n",
    "def time_exp(x):\n",
    "    minutes, seconds = np.floor(x/60), 60*(x/60-np.floor(x/60))\n",
    "    print(f\"{'{:.0f}'.format(minutes)} minutos con {'{:.2f}'.format(seconds)} segundos\")\n",
    "    \n",
    "def tono(a = 1000, b = 700, play_time_seconds = 1, framerate = 4410):\n",
    "    t = np.linspace(0, play_time_seconds, framerate*play_time_seconds)*np.pi\n",
    "    return Audio(np.sin(a*t) + np.sin(b*t), rate = framerate, autoplay=True)"
   ]
  },
  {
   "cell_type": "code",
   "execution_count": 5,
   "id": "7eb05c29",
   "metadata": {
    "ExecuteTime": {
     "end_time": "2021-04-11T21:29:59.984789Z",
     "start_time": "2021-04-11T21:29:59.980721Z"
    }
   },
   "outputs": [],
   "source": [
    "#!pip install pyPDF2\n",
    "import os\n",
    "import PyPDF2\n",
    "\n",
    "def read_pdf(base_dir,file_name):\n",
    "    #Read every page of a PDF file\n",
    "    pdf_reader = PyPDF2.PdfFileReader(open(os.path.join(base_dir,file_name),'rb'))\n",
    "    pdf_text = [pdf_reader.getPage(p).extractText() for p in range(pdf_reader.numPages)]\n",
    "    #Join it as a string object\n",
    "    return ' '.join([x.replace('\\n',' ') for x in pdf_text])"
   ]
  },
  {
   "cell_type": "code",
   "execution_count": 7,
   "id": "aa0324c8",
   "metadata": {
    "ExecuteTime": {
     "end_time": "2021-04-11T21:30:31.057005Z",
     "start_time": "2021-04-11T21:30:31.049845Z"
    }
   },
   "outputs": [
    {
     "name": "stdout",
     "output_type": "stream",
     "text": [
      "El Efraisma's...\n"
     ]
    }
   ],
   "source": [
    "import string\n",
    "import unicodedata\n",
    "\n",
    "#Clean the weird accents and symbols\n",
    "def unicode_ascii(s,letters=string.ascii_letters+\" '.\"):\n",
    "    '''Came from: https://stackoverflow.com/a/518232/2809427'''\n",
    "    return ''.join(c for c in unicodedata.normalize('NFD', s)\n",
    "                  if unicodedata.category(c) != 'Mn' and c in letters)\n",
    "#Ex\n",
    "print(unicode_ascii(\"Èl Éfrâïsm*a's?...\"))"
   ]
  },
  {
   "cell_type": "markdown",
   "id": "6154a302",
   "metadata": {},
   "source": [
    "## Preprocessing"
   ]
  },
  {
   "cell_type": "code",
   "execution_count": 6,
   "id": "1d5730c4",
   "metadata": {
    "ExecuteTime": {
     "end_time": "2021-04-11T21:30:17.144112Z",
     "start_time": "2021-04-11T21:30:17.025337Z"
    }
   },
   "outputs": [
    {
     "name": "stdout",
     "output_type": "stream",
     "text": [
      "The Last Question By Isaac Asimov  This is by far my fa\n"
     ]
    },
    {
     "name": "stderr",
     "output_type": "stream",
     "text": [
      "PdfReadWarning: Xref table not zero-indexed. ID numbers for objects will be corrected. [pdf.py:1736]\n"
     ]
    }
   ],
   "source": [
    "text = read_pdf(BASE_DIR,'Isaac_Asimov.pdf')\n",
    "print(text[:55])"
   ]
  },
  {
   "cell_type": "code",
   "execution_count": null,
   "id": "3f170f96",
   "metadata": {},
   "outputs": [],
   "source": []
  }
 ],
 "metadata": {
  "kernelspec": {
   "display_name": "Python 3",
   "language": "python",
   "name": "python3"
  },
  "language_info": {
   "codemirror_mode": {
    "name": "ipython",
    "version": 3
   },
   "file_extension": ".py",
   "mimetype": "text/x-python",
   "name": "python",
   "nbconvert_exporter": "python",
   "pygments_lexer": "ipython3",
   "version": "3.9.1"
  },
  "toc": {
   "base_numbering": 1,
   "nav_menu": {},
   "number_sections": true,
   "sideBar": true,
   "skip_h1_title": true,
   "title_cell": "Table of Contents",
   "title_sidebar": "Contents",
   "toc_cell": false,
   "toc_position": {},
   "toc_section_display": true,
   "toc_window_display": false
  },
  "varInspector": {
   "cols": {
    "lenName": 16,
    "lenType": 16,
    "lenVar": 40
   },
   "kernels_config": {
    "python": {
     "delete_cmd_postfix": "",
     "delete_cmd_prefix": "del ",
     "library": "var_list.py",
     "varRefreshCmd": "print(var_dic_list())"
    },
    "r": {
     "delete_cmd_postfix": ") ",
     "delete_cmd_prefix": "rm(",
     "library": "var_list.r",
     "varRefreshCmd": "cat(var_dic_list()) "
    }
   },
   "types_to_exclude": [
    "module",
    "function",
    "builtin_function_or_method",
    "instance",
    "_Feature"
   ],
   "window_display": false
  }
 },
 "nbformat": 4,
 "nbformat_minor": 5
}
