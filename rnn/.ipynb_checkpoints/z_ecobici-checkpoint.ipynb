{
 "cells": [
  {
   "cell_type": "markdown",
   "id": "broke-transition",
   "metadata": {},
   "source": [
    "# Ecobici"
   ]
  },
  {
   "cell_type": "markdown",
   "id": "tropical-israel",
   "metadata": {
    "heading_collapsed": true
   },
   "source": [
    "## Import"
   ]
  },
  {
   "cell_type": "code",
   "execution_count": 316,
   "id": "cosmetic-burst",
   "metadata": {
    "ExecuteTime": {
     "end_time": "2021-05-04T01:03:48.965303Z",
     "start_time": "2021-05-04T01:03:48.962106Z"
    },
    "hidden": true
   },
   "outputs": [],
   "source": [
    "BASE_DIR = '/Users/efraflores/Desktop/EF/Corner/data/practice'"
   ]
  },
  {
   "cell_type": "code",
   "execution_count": 317,
   "id": "advised-medicine",
   "metadata": {
    "ExecuteTime": {
     "end_time": "2021-05-04T01:03:50.074064Z",
     "start_time": "2021-05-04T01:03:48.970391Z"
    },
    "hidden": true
   },
   "outputs": [
    {
     "data": {
      "text/html": [
       "<div>\n",
       "<style scoped>\n",
       "    .dataframe tbody tr th:only-of-type {\n",
       "        vertical-align: middle;\n",
       "    }\n",
       "\n",
       "    .dataframe tbody tr th {\n",
       "        vertical-align: top;\n",
       "    }\n",
       "\n",
       "    .dataframe thead th {\n",
       "        text-align: right;\n",
       "    }\n",
       "</style>\n",
       "<table border=\"1\" class=\"dataframe\">\n",
       "  <thead>\n",
       "    <tr style=\"text-align: right;\">\n",
       "      <th></th>\n",
       "      <th>Genero_Usuario</th>\n",
       "      <th>Edad_Usuario</th>\n",
       "      <th>Bici</th>\n",
       "      <th>Ciclo_Estacion_Retiro</th>\n",
       "      <th>Fecha_Retiro</th>\n",
       "      <th>Hora_Retiro</th>\n",
       "      <th>Ciclo_Estacion_Arribo</th>\n",
       "      <th>Fecha_Arribo</th>\n",
       "      <th>Hora_Arribo</th>\n",
       "    </tr>\n",
       "  </thead>\n",
       "  <tbody>\n",
       "    <tr>\n",
       "      <th>495590</th>\n",
       "      <td>M</td>\n",
       "      <td>25</td>\n",
       "      <td>6795</td>\n",
       "      <td>302</td>\n",
       "      <td>22/05/2019</td>\n",
       "      <td>13:54:27</td>\n",
       "      <td>345</td>\n",
       "      <td>22/05/2019</td>\n",
       "      <td>14:01:05</td>\n",
       "    </tr>\n",
       "  </tbody>\n",
       "</table>\n",
       "</div>"
      ],
      "text/plain": [
       "       Genero_Usuario  Edad_Usuario  Bici  Ciclo_Estacion_Retiro Fecha_Retiro  \\\n",
       "495590              M            25  6795                    302   22/05/2019   \n",
       "\n",
       "       Hora_Retiro  Ciclo_Estacion_Arribo Fecha_Arribo Hora_Arribo  \n",
       "495590    13:54:27                    345   22/05/2019    14:01:05  "
      ]
     },
     "execution_count": 317,
     "metadata": {},
     "output_type": "execute_result"
    }
   ],
   "source": [
    "import os\n",
    "import pandas as pd\n",
    "pd.options.display.float_format = '{:.3f}'.format\n",
    "\n",
    "df = pd.read_csv(os.path.join(BASE_DIR,'2019-05.csv'))\n",
    "df.sample()"
   ]
  },
  {
   "cell_type": "code",
   "execution_count": 318,
   "id": "certain-draft",
   "metadata": {
    "ExecuteTime": {
     "end_time": "2021-05-04T01:03:50.104955Z",
     "start_time": "2021-05-04T01:03:50.077339Z"
    },
    "hidden": true
   },
   "outputs": [
    {
     "data": {
      "text/html": [
       "<div>\n",
       "<style scoped>\n",
       "    .dataframe tbody tr th:only-of-type {\n",
       "        vertical-align: middle;\n",
       "    }\n",
       "\n",
       "    .dataframe tbody tr th {\n",
       "        vertical-align: top;\n",
       "    }\n",
       "\n",
       "    .dataframe thead th {\n",
       "        text-align: right;\n",
       "    }\n",
       "</style>\n",
       "<table border=\"1\" class=\"dataframe\">\n",
       "  <thead>\n",
       "    <tr style=\"text-align: right;\">\n",
       "      <th></th>\n",
       "      <th>ID</th>\n",
       "      <th>Nombre</th>\n",
       "      <th>Dirección</th>\n",
       "      <th>Número</th>\n",
       "      <th>Código postal</th>\n",
       "      <th>districtCode</th>\n",
       "      <th>Colonia</th>\n",
       "      <th>altitude</th>\n",
       "      <th>nearbyStations/0</th>\n",
       "      <th>location/lat</th>\n",
       "      <th>location/lon</th>\n",
       "      <th>Tipo de estación</th>\n",
       "      <th>nearbyStations/1</th>\n",
       "      <th>nearbyStations/2</th>\n",
       "      <th>nearbyStations/3</th>\n",
       "      <th>nearbyStations/4</th>\n",
       "      <th>nearbyStations/5</th>\n",
       "      <th>punto_geo</th>\n",
       "    </tr>\n",
       "  </thead>\n",
       "  <tbody>\n",
       "    <tr>\n",
       "      <th>44</th>\n",
       "      <td>118</td>\n",
       "      <td>118 LIVERPOOL-DINAMARCA</td>\n",
       "      <td>118 - Liverpool-Dinamarca</td>\n",
       "      <td>S/N</td>\n",
       "      <td>6500.000</td>\n",
       "      <td>JUA</td>\n",
       "      <td>Juárez</td>\n",
       "      <td>NaN</td>\n",
       "      <td>116</td>\n",
       "      <td>19.427</td>\n",
       "      <td>-99.158</td>\n",
       "      <td>BIKE</td>\n",
       "      <td>117.000</td>\n",
       "      <td>NaN</td>\n",
       "      <td>NaN</td>\n",
       "      <td>NaN</td>\n",
       "      <td>NaN</td>\n",
       "      <td>19.427114,-99.158251</td>\n",
       "    </tr>\n",
       "  </tbody>\n",
       "</table>\n",
       "</div>"
      ],
      "text/plain": [
       "     ID                   Nombre                  Dirección Número  \\\n",
       "44  118  118 LIVERPOOL-DINAMARCA  118 - Liverpool-Dinamarca    S/N   \n",
       "\n",
       "    Código postal districtCode Colonia  altitude  nearbyStations/0  \\\n",
       "44       6500.000          JUA  Juárez       NaN               116   \n",
       "\n",
       "    location/lat  location/lon Tipo de estación  nearbyStations/1  \\\n",
       "44        19.427       -99.158             BIKE           117.000   \n",
       "\n",
       "    nearbyStations/2  nearbyStations/3  nearbyStations/4  nearbyStations/5  \\\n",
       "44               NaN               NaN               NaN               NaN   \n",
       "\n",
       "               punto_geo  \n",
       "44  19.427114,-99.158251  "
      ]
     },
     "execution_count": 318,
     "metadata": {},
     "output_type": "execute_result"
    }
   ],
   "source": [
    "geo = pd.read_csv(os.path.join(BASE_DIR,'estaciones-de-ecobici.csv'))\n",
    "geo.sample()"
   ]
  },
  {
   "cell_type": "markdown",
   "id": "leading-sixth",
   "metadata": {
    "heading_collapsed": true
   },
   "source": [
    "## Functions"
   ]
  },
  {
   "cell_type": "code",
   "execution_count": 319,
   "id": "hidden-compiler",
   "metadata": {
    "ExecuteTime": {
     "end_time": "2021-05-04T01:03:50.116536Z",
     "start_time": "2021-05-04T01:03:50.109264Z"
    },
    "hidden": true
   },
   "outputs": [],
   "source": [
    "import time\n",
    "import numpy as np\n",
    "from IPython.lib.display import Audio\n",
    "\n",
    "#Start a \"stopwatch\"\n",
    "start = time.time()\n",
    "def time_exp(x):\n",
    "    #Just print how many minutes and seconds have passed\n",
    "    minutes, seconds = np.floor(x/60), 60*(x/60-np.floor(x/60))\n",
    "    print(f\"{'{:.0f}'.format(minutes)} minutos con {'{:.2f}'.format(seconds)} segundos\")\n",
    "    \n",
    "def tone(a=1000, b=700, play_time_seconds=1, framerate=4410):\n",
    "    #Make a sound! Useful while training models\n",
    "    t = np.linspace(0, play_time_seconds, framerate*play_time_seconds)*np.pi\n",
    "    return Audio(np.sin(a*t)+np.sin(b*t), rate=framerate, autoplay=True)"
   ]
  },
  {
   "cell_type": "code",
   "execution_count": 320,
   "id": "classified-palestinian",
   "metadata": {
    "ExecuteTime": {
     "end_time": "2021-05-04T01:03:50.139794Z",
     "start_time": "2021-05-04T01:03:50.119786Z"
    },
    "hidden": true
   },
   "outputs": [],
   "source": [
    "#Uncomment the next line if you don't have it installed yet, \n",
    "'''!pip install mpu'''\n",
    "\n",
    "#it has the function to calculate the distance between two coordinates\n",
    "import mpu\n",
    "\n",
    "def transf(data,tipos):\n",
    "    df = data.copy()\n",
    "    for tipo in tipos:\n",
    "        #Merge de date and hour columns, and set is a datetime column\n",
    "        df[f'Fecha_{tipo}'] = pd.to_datetime(df[f'Fecha_{tipo}']+','+df[f'Hora_{tipo}'],\n",
    "                                              format='%d/%m/%Y,%H:%M:%S')\n",
    "        #Get the day of the week name, just the first 3 characters\n",
    "        df[f'DoW_{tipo}'] = df[f'Fecha_{tipo}'].dt.day_name().str[:3]\n",
    "        #Get the time as hour-decimal. Ex: 15:30 --> 15.5\n",
    "        df[f'HRmin_{tipo}'] = (df[f'Fecha_{tipo}'].dt.hour+\n",
    "                               df[f'Fecha_{tipo}'].dt.minute/60+\n",
    "                               df[f'Fecha_{tipo}'].dt.second/60**2)\n",
    "        #Make equally-distributed bins and save the bins\n",
    "        df[f'HRmin_{tipo}_cut'],qbins = pd.qcut(df[f'HRmin_{tipo}'].apply(lambda x:round(x,3)),\n",
    "                                                q=7,duplicates='drop',retbins=True)\n",
    "        df[f'HRmin_{tipo}_cut'] = df[f'HRmin_{tipo}_cut'].astype(str)\n",
    "        #Get the geo-points from the origin and destination stations\n",
    "        df = df.merge(geo.set_index('ID')['punto_geo'].str.split(',').to_frame().reset_index(),\n",
    "                      left_on=f'Ciclo_Estacion_{tipo}',right_on='ID'\n",
    "                     ).drop(columns='ID').rename(columns={'punto_geo':f'geo_{tipo.lower()}'})\n",
    "    #Calculate the ridetime in hours\n",
    "    df['Ridetime'] = df['HRmin_Arribo'] - df['HRmin_Retiro']\n",
    "    #There were few trips at midnight (why?)\n",
    "    df = df[df['Ridetime']>0].copy()\n",
    "    #Distance in km between the destination vs the origin station \n",
    "    df['Distance'] = [mpu.haversine_distance(tuple([float(a) for a in x]),tuple([float(a) for a in y]))\n",
    "                      for x,y in zip(df['geo_retiro'],df['geo_arribo'])]\n",
    "    #Velocity of every ride in km/hr\n",
    "    df['Velocity'] = df['Distance'] / df['Ridetime']\n",
    "    #Get rid of unnecesary columns\n",
    "    df.drop(columns=['Hora_Retiro','Hora_Arribo','geo_retiro','geo_arribo'],inplace=True)\n",
    "    return df,qbins"
   ]
  },
  {
   "cell_type": "code",
   "execution_count": 321,
   "id": "dying-status",
   "metadata": {
    "ExecuteTime": {
     "end_time": "2021-05-04T01:03:50.147791Z",
     "start_time": "2021-05-04T01:03:50.142611Z"
    },
    "hidden": true
   },
   "outputs": [],
   "source": [
    "def iqr(data,x,p=0.3):\n",
    "    var = data[x].copy()\n",
    "    q1 = var.quantile(p/2)\n",
    "    q3 = var.quantile(1-p/2)\n",
    "    iqr = q3 - q1\n",
    "    return data[(var.isnull()) | ((var >= q1 - 1.5*iqr) & (var <= q3 + 1.5*iqr))].copy()"
   ]
  },
  {
   "cell_type": "code",
   "execution_count": 322,
   "id": "liable-gallery",
   "metadata": {
    "ExecuteTime": {
     "end_time": "2021-05-04T01:03:50.153498Z",
     "start_time": "2021-05-04T01:03:50.150693Z"
    },
    "hidden": true
   },
   "outputs": [],
   "source": [
    "import numpy as np\n",
    "\n",
    "def perc70(x):\n",
    "    return np.percentile(x,70)"
   ]
  },
  {
   "cell_type": "code",
   "execution_count": 349,
   "id": "designing-amsterdam",
   "metadata": {
    "ExecuteTime": {
     "end_time": "2021-05-04T01:33:17.230668Z",
     "start_time": "2021-05-04T01:33:17.218509Z"
    },
    "hidden": true
   },
   "outputs": [],
   "source": [
    "def multishift(data,id_cols,date_col,shifts,**pivot_args):\n",
    "    df = data.copy()\n",
    "    #Make sure the col just have the date (without time)\n",
    "    df[date_col] = df[date_col].dt.date\n",
    "    #Merge all column names as a string\n",
    "    id_col = ','.join(id_cols)\n",
    "    #And as a column\n",
    "    df[id_col] = df[id_cols].apply(lambda x:','.join(x.dropna().astype(str)),axis=1)\n",
    "    #Drop any \"id_col\"-set that has a lower frequency than the max of the \"shifts-list\"\n",
    "    freq = df[id_col].value_counts().to_frame()\n",
    "    omit_idx = freq[freq[id_col]<=max(shifts)].index.to_list()\n",
    "    if len(omit_idx)>0:\n",
    "        df = df[~df[id_col].isin(omit_idx)].copy()\n",
    "    #Change data structure to build the \"shifting\"\n",
    "    df = df.pivot_table(index=[id_col,date_col],\n",
    "                        **pivot_args,\n",
    "                        fill_value=0)\n",
    "    #Concatenate multiple columns if they are\n",
    "    df.columns = ['_'.join([x for x in col]) if \n",
    "                  not isinstance(df.columns[0],str) #First element is not a string\n",
    "                  else col for col in df.columns]\n",
    "    #Bring the id_col for taking the set (unique values) in the next loop\n",
    "    df = df.reset_index()\n",
    "    #Each shift must be calculated at \"id_col\" level\n",
    "    total = pd.DataFrame()\n",
    "    for row in set(df[id_col]):\n",
    "        #Set the id_col as index (again) to call all the rows with that id_col\n",
    "        df_id = df.set_index(id_col).loc[row,:]\n",
    "        #All possible dates from the min to the max of the subset\n",
    "        tot_dates = pd.DataFrame(pd.date_range(start=df_id[date_col].min(), \n",
    "                                               end=df_id[date_col].max()).date, \n",
    "                                 columns=[date_col])\n",
    "        df_id = df_id.merge(tot_dates,on=date_col,how='right').fillna(0)\n",
    "        cols = df_id.columns[1:]\n",
    "        #Start the \"shifting\"\n",
    "        aux = df_id.copy()\n",
    "        for i in shifts:\n",
    "            aux = aux.join(df_id.iloc[:,1:].shift(i).rename(columns={x:f'{x}_{str(i).zfill(2)}' \n",
    "                                                                     for x in cols}))\n",
    "        aux[id_col] = row\n",
    "        total = total.append(aux,ignore_index=True)\n",
    "    return total.set_index(id_cols+[date_col])"
   ]
  },
  {
   "cell_type": "code",
   "execution_count": 324,
   "id": "e082f2dd",
   "metadata": {
    "ExecuteTime": {
     "end_time": "2021-05-04T01:03:50.178389Z",
     "start_time": "2021-05-04T01:03:50.173795Z"
    },
    "hidden": true
   },
   "outputs": [],
   "source": [
    "from tensorflow.keras import backend as K\n",
    "\n",
    "def r2(y_true, y_pred):\n",
    "    res =  K.sum(K.square(y_true-y_pred)) \n",
    "    tot = K.sum(K.square(y_true-K.mean(y_true))) \n",
    "    return (1-res/(tot+K.epsilon()))"
   ]
  },
  {
   "cell_type": "markdown",
   "id": "comfortable-coordination",
   "metadata": {
    "heading_collapsed": true
   },
   "source": [
    "## Transform"
   ]
  },
  {
   "cell_type": "code",
   "execution_count": 325,
   "id": "joined-italian",
   "metadata": {
    "ExecuteTime": {
     "end_time": "2021-05-04T01:04:07.964413Z",
     "start_time": "2021-05-04T01:03:50.181804Z"
    },
    "hidden": true
   },
   "outputs": [
    {
     "data": {
      "text/html": [
       "<div>\n",
       "<style scoped>\n",
       "    .dataframe tbody tr th:only-of-type {\n",
       "        vertical-align: middle;\n",
       "    }\n",
       "\n",
       "    .dataframe tbody tr th {\n",
       "        vertical-align: top;\n",
       "    }\n",
       "\n",
       "    .dataframe thead th {\n",
       "        text-align: right;\n",
       "    }\n",
       "</style>\n",
       "<table border=\"1\" class=\"dataframe\">\n",
       "  <thead>\n",
       "    <tr style=\"text-align: right;\">\n",
       "      <th></th>\n",
       "      <th>Genero_Usuario</th>\n",
       "      <th>Edad_Usuario</th>\n",
       "      <th>Bici</th>\n",
       "      <th>Ciclo_Estacion_Retiro</th>\n",
       "      <th>Fecha_Retiro</th>\n",
       "      <th>Ciclo_Estacion_Arribo</th>\n",
       "      <th>Fecha_Arribo</th>\n",
       "      <th>DoW_Retiro</th>\n",
       "      <th>HRmin_Retiro</th>\n",
       "      <th>HRmin_Retiro_cut</th>\n",
       "      <th>DoW_Arribo</th>\n",
       "      <th>HRmin_Arribo</th>\n",
       "      <th>HRmin_Arribo_cut</th>\n",
       "      <th>Ridetime</th>\n",
       "      <th>Distance</th>\n",
       "      <th>Velocity</th>\n",
       "    </tr>\n",
       "  </thead>\n",
       "  <tbody>\n",
       "    <tr>\n",
       "      <th>208213</th>\n",
       "      <td>M</td>\n",
       "      <td>32</td>\n",
       "      <td>4340</td>\n",
       "      <td>128</td>\n",
       "      <td>2019-05-01 17:48:36</td>\n",
       "      <td>66</td>\n",
       "      <td>2019-05-01 18:05:36</td>\n",
       "      <td>Wed</td>\n",
       "      <td>17.810</td>\n",
       "      <td>(15.841, 18.078]</td>\n",
       "      <td>Wed</td>\n",
       "      <td>18.093</td>\n",
       "      <td>(16.038, 18.296]</td>\n",
       "      <td>0.283</td>\n",
       "      <td>2.236</td>\n",
       "      <td>7.892</td>\n",
       "    </tr>\n",
       "  </tbody>\n",
       "</table>\n",
       "</div>"
      ],
      "text/plain": [
       "       Genero_Usuario  Edad_Usuario  Bici  Ciclo_Estacion_Retiro  \\\n",
       "208213              M            32  4340                    128   \n",
       "\n",
       "              Fecha_Retiro  Ciclo_Estacion_Arribo        Fecha_Arribo  \\\n",
       "208213 2019-05-01 17:48:36                     66 2019-05-01 18:05:36   \n",
       "\n",
       "       DoW_Retiro  HRmin_Retiro  HRmin_Retiro_cut DoW_Arribo  HRmin_Arribo  \\\n",
       "208213        Wed        17.810  (15.841, 18.078]        Wed        18.093   \n",
       "\n",
       "        HRmin_Arribo_cut  Ridetime  Distance  Velocity  \n",
       "208213  (16.038, 18.296]     0.283     2.236     7.892  "
      ]
     },
     "execution_count": 325,
     "metadata": {},
     "output_type": "execute_result"
    }
   ],
   "source": [
    "df,qbins = transf(df,['Retiro','Arribo'])\n",
    "df.sample()"
   ]
  },
  {
   "cell_type": "markdown",
   "id": "geological-desperate",
   "metadata": {
    "heading_collapsed": true,
    "hidden": true
   },
   "source": [
    "### Ridetime"
   ]
  },
  {
   "cell_type": "code",
   "execution_count": 326,
   "id": "three-consensus",
   "metadata": {
    "ExecuteTime": {
     "end_time": "2021-05-04T01:04:08.171147Z",
     "start_time": "2021-05-04T01:04:07.966800Z"
    },
    "hidden": true
   },
   "outputs": [
    {
     "data": {
      "text/plain": [
       "<AxesSubplot:>"
      ]
     },
     "execution_count": 326,
     "metadata": {},
     "output_type": "execute_result"
    },
    {
     "data": {
      "image/png": "[encoded data removed]",
      "text/plain": [
       "<Figure size 432x288 with 1 Axes>"
      ]
     },
     "metadata": {
      "needs_background": "light"
     },
     "output_type": "display_data"
    }
   ],
   "source": [
    "df['Ridetime'].hist()"
   ]
  },
  {
   "cell_type": "markdown",
   "id": "million-dispute",
   "metadata": {
    "hidden": true
   },
   "source": [
    "Omit outliers with the IQR method\n",
    "\n",
    "<https://online.stat.psu.edu/stat200/lesson/3/3.2>"
   ]
  },
  {
   "cell_type": "code",
   "execution_count": 327,
   "id": "crucial-margin",
   "metadata": {
    "ExecuteTime": {
     "end_time": "2021-05-04T01:04:08.795321Z",
     "start_time": "2021-05-04T01:04:08.173131Z"
    },
    "hidden": true
   },
   "outputs": [
    {
     "data": {
      "text/plain": [
       "<AxesSubplot:>"
      ]
     },
     "execution_count": 327,
     "metadata": {},
     "output_type": "execute_result"
    },
    {
     "data": {
      "image/png": "[encoded data removed]",
      "text/plain": [
       "<Figure size 432x288 with 1 Axes>"
      ]
     },
     "metadata": {
      "needs_background": "light"
     },
     "output_type": "display_data"
    }
   ],
   "source": [
    "#Save the original length\n",
    "dim_before = len(df)\n",
    "\n",
    "df = iqr(df,'Ridetime')\n",
    "df['Ridetime'].hist()"
   ]
  },
  {
   "cell_type": "markdown",
   "id": "direct-retro",
   "metadata": {
    "heading_collapsed": true,
    "hidden": true
   },
   "source": [
    "### Distance"
   ]
  },
  {
   "cell_type": "code",
   "execution_count": 328,
   "id": "fallen-demographic",
   "metadata": {
    "ExecuteTime": {
     "end_time": "2021-05-04T01:04:08.937243Z",
     "start_time": "2021-05-04T01:04:08.797160Z"
    },
    "hidden": true
   },
   "outputs": [
    {
     "data": {
      "text/plain": [
       "<AxesSubplot:>"
      ]
     },
     "execution_count": 328,
     "metadata": {},
     "output_type": "execute_result"
    },
    {
     "data": {
      "image/png": "[encoded data removed]",
      "text/plain": [
       "<Figure size 432x288 with 1 Axes>"
      ]
     },
     "metadata": {
      "needs_background": "light"
     },
     "output_type": "display_data"
    }
   ],
   "source": [
    "df['Distance'].hist()"
   ]
  },
  {
   "cell_type": "code",
   "execution_count": 329,
   "id": "moved-newsletter",
   "metadata": {
    "ExecuteTime": {
     "end_time": "2021-05-04T01:04:09.535010Z",
     "start_time": "2021-05-04T01:04:08.939148Z"
    },
    "hidden": true
   },
   "outputs": [
    {
     "data": {
      "text/plain": [
       "<AxesSubplot:>"
      ]
     },
     "execution_count": 329,
     "metadata": {},
     "output_type": "execute_result"
    },
    {
     "data": {
      "image/png": "[encoded data removed]",
      "text/plain": [
       "<Figure size 432x288 with 1 Axes>"
      ]
     },
     "metadata": {
      "needs_background": "light"
     },
     "output_type": "display_data"
    }
   ],
   "source": [
    "df = iqr(df,'Distance')\n",
    "df['Distance'].hist()"
   ]
  },
  {
   "cell_type": "markdown",
   "id": "stock-raleigh",
   "metadata": {
    "heading_collapsed": true,
    "hidden": true
   },
   "source": [
    "### Velocity"
   ]
  },
  {
   "cell_type": "code",
   "execution_count": 330,
   "id": "executed-victor",
   "metadata": {
    "ExecuteTime": {
     "end_time": "2021-05-04T01:04:09.684413Z",
     "start_time": "2021-05-04T01:04:09.537989Z"
    },
    "hidden": true
   },
   "outputs": [
    {
     "data": {
      "text/plain": [
       "<AxesSubplot:>"
      ]
     },
     "execution_count": 330,
     "metadata": {},
     "output_type": "execute_result"
    },
    {
     "data": {
      "image/png": "[encoded data removed]",
      "text/plain": [
       "<Figure size 432x288 with 1 Axes>"
      ]
     },
     "metadata": {
      "needs_background": "light"
     },
     "output_type": "display_data"
    }
   ],
   "source": [
    "df['Velocity'].hist()"
   ]
  },
  {
   "cell_type": "code",
   "execution_count": 331,
   "id": "alpine-microwave",
   "metadata": {
    "ExecuteTime": {
     "end_time": "2021-05-04T01:04:10.281150Z",
     "start_time": "2021-05-04T01:04:09.686358Z"
    },
    "hidden": true
   },
   "outputs": [
    {
     "data": {
      "text/plain": [
       "<AxesSubplot:>"
      ]
     },
     "execution_count": 331,
     "metadata": {},
     "output_type": "execute_result"
    },
    {
     "data": {
      "image/png": "[encoded data removed]",
      "text/plain": [
       "<Figure size 432x288 with 1 Axes>"
      ]
     },
     "metadata": {
      "needs_background": "light"
     },
     "output_type": "display_data"
    }
   ],
   "source": [
    "df = iqr(df,'Velocity')\n",
    "df['Velocity'].hist()"
   ]
  },
  {
   "cell_type": "markdown",
   "id": "sealed-product",
   "metadata": {
    "heading_collapsed": true,
    "hidden": true
   },
   "source": [
    "### Age"
   ]
  },
  {
   "cell_type": "code",
   "execution_count": 332,
   "id": "manufactured-level",
   "metadata": {
    "ExecuteTime": {
     "end_time": "2021-05-04T01:04:10.438983Z",
     "start_time": "2021-05-04T01:04:10.284114Z"
    },
    "hidden": true
   },
   "outputs": [
    {
     "data": {
      "text/plain": [
       "<AxesSubplot:>"
      ]
     },
     "execution_count": 332,
     "metadata": {},
     "output_type": "execute_result"
    },
    {
     "data": {
      "image/png": "[encoded data removed]",
      "text/plain": [
       "<Figure size 432x288 with 1 Axes>"
      ]
     },
     "metadata": {
      "needs_background": "light"
     },
     "output_type": "display_data"
    }
   ],
   "source": [
    "df['Edad_Usuario'].hist()"
   ]
  },
  {
   "cell_type": "code",
   "execution_count": 333,
   "id": "developmental-billion",
   "metadata": {
    "ExecuteTime": {
     "end_time": "2021-05-04T01:04:11.018224Z",
     "start_time": "2021-05-04T01:04:10.441628Z"
    },
    "hidden": true
   },
   "outputs": [
    {
     "data": {
      "text/plain": [
       "<AxesSubplot:>"
      ]
     },
     "execution_count": 333,
     "metadata": {},
     "output_type": "execute_result"
    },
    {
     "data": {
      "image/png": "[encoded data removed]",
      "text/plain": [
       "<Figure size 432x288 with 1 Axes>"
      ]
     },
     "metadata": {
      "needs_background": "light"
     },
     "output_type": "display_data"
    }
   ],
   "source": [
    "df = iqr(df,'Edad_Usuario')\n",
    "df['Edad_Usuario'].hist()"
   ]
  },
  {
   "cell_type": "code",
   "execution_count": 334,
   "id": "limited-promotion",
   "metadata": {
    "ExecuteTime": {
     "end_time": "2021-05-04T01:04:11.023881Z",
     "start_time": "2021-05-04T01:04:11.020385Z"
    },
    "hidden": true
   },
   "outputs": [
    {
     "name": "stdout",
     "output_type": "stream",
     "text": [
      "0.9845357109488662\n"
     ]
    }
   ],
   "source": [
    "#Does the outlier cleaning affect the data length?\n",
    "print(len(df)/dim_before)"
   ]
  },
  {
   "cell_type": "markdown",
   "id": "attended-shower",
   "metadata": {
    "heading_collapsed": true,
    "hidden": true
   },
   "source": [
    "### Demand"
   ]
  },
  {
   "cell_type": "code",
   "execution_count": 335,
   "id": "iraqi-publicity",
   "metadata": {
    "ExecuteTime": {
     "end_time": "2021-05-04T01:04:12.196080Z",
     "start_time": "2021-05-04T01:04:11.026068Z"
    },
    "hidden": true
   },
   "outputs": [
    {
     "data": {
      "text/html": [
       "<style  type=\"text/css\" >\n",
       "#T_bc2c0_row0_col0{\n",
       "            background-color:  #a4d8f8;\n",
       "            color:  #000000;\n",
       "        }#T_bc2c0_row0_col1{\n",
       "            background-color:  #aadaf8;\n",
       "            color:  #000000;\n",
       "        }#T_bc2c0_row0_col2,#T_bc2c0_row0_col3,#T_bc2c0_row1_col1,#T_bc2c0_row1_col4,#T_bc2c0_row1_col5,#T_bc2c0_row2_col6,#T_bc2c0_row4_col0,#T_bc2c0_row4_col8,#T_bc2c0_row4_col11,#T_bc2c0_row4_col12,#T_bc2c0_row4_col13,#T_bc2c0_row5_col7,#T_bc2c0_row5_col9,#T_bc2c0_row5_col10{\n",
       "            background-color:  #eff1f3;\n",
       "            color:  #000000;\n",
       "        }#T_bc2c0_row0_col4{\n",
       "            background-color:  #92d2f9;\n",
       "            color:  #000000;\n",
       "        }#T_bc2c0_row0_col5{\n",
       "            background-color:  #93d2f9;\n",
       "            color:  #000000;\n",
       "        }#T_bc2c0_row0_col6{\n",
       "            background-color:  #97d3f9;\n",
       "            color:  #000000;\n",
       "        }#T_bc2c0_row0_col7{\n",
       "            background-color:  #d4e8f5;\n",
       "            color:  #000000;\n",
       "        }#T_bc2c0_row0_col8{\n",
       "            background-color:  #d5e8f4;\n",
       "            color:  #000000;\n",
       "        }#T_bc2c0_row0_col9{\n",
       "            background-color:  #9ad4f9;\n",
       "            color:  #000000;\n",
       "        }#T_bc2c0_row0_col10{\n",
       "            background-color:  #a2d7f8;\n",
       "            color:  #000000;\n",
       "        }#T_bc2c0_row0_col11{\n",
       "            background-color:  #cfe6f5;\n",
       "            color:  #000000;\n",
       "        }#T_bc2c0_row0_col12,#T_bc2c0_row2_col10{\n",
       "            background-color:  #d0e6f5;\n",
       "            color:  #000000;\n",
       "        }#T_bc2c0_row0_col13,#T_bc2c0_row4_col9{\n",
       "            background-color:  #c9e4f5;\n",
       "            color:  #000000;\n",
       "        }#T_bc2c0_row1_col0{\n",
       "            background-color:  #c0e1f6;\n",
       "            color:  #000000;\n",
       "        }#T_bc2c0_row1_col2,#T_bc2c0_row1_col3,#T_bc2c0_row1_col7,#T_bc2c0_row1_col8,#T_bc2c0_row1_col11,#T_bc2c0_row1_col12,#T_bc2c0_row1_col13,#T_bc2c0_row2_col0,#T_bc2c0_row4_col1,#T_bc2c0_row4_col4,#T_bc2c0_row4_col5,#T_bc2c0_row4_col6,#T_bc2c0_row6_col9,#T_bc2c0_row6_col10{\n",
       "            background-color:  #87cefa;\n",
       "            color:  #000000;\n",
       "        }#T_bc2c0_row1_col6{\n",
       "            background-color:  #dceaf4;\n",
       "            color:  #000000;\n",
       "        }#T_bc2c0_row1_col9{\n",
       "            background-color:  #a1d7f8;\n",
       "            color:  #000000;\n",
       "        }#T_bc2c0_row1_col10{\n",
       "            background-color:  #b1dcf7;\n",
       "            color:  #000000;\n",
       "        }#T_bc2c0_row2_col1,#T_bc2c0_row3_col9{\n",
       "            background-color:  #d4e8f4;\n",
       "            color:  #000000;\n",
       "        }#T_bc2c0_row2_col2{\n",
       "            background-color:  #acdaf7;\n",
       "            color:  #000000;\n",
       "        }#T_bc2c0_row2_col3{\n",
       "            background-color:  #b8def7;\n",
       "            color:  #000000;\n",
       "        }#T_bc2c0_row2_col4{\n",
       "            background-color:  #d9eaf4;\n",
       "            color:  #000000;\n",
       "        }#T_bc2c0_row2_col5{\n",
       "            background-color:  #dfecf4;\n",
       "            color:  #000000;\n",
       "        }#T_bc2c0_row2_col7,#T_bc2c0_row5_col3{\n",
       "            background-color:  #c2e2f6;\n",
       "            color:  #000000;\n",
       "        }#T_bc2c0_row2_col8{\n",
       "            background-color:  #a5d8f8;\n",
       "            color:  #000000;\n",
       "        }#T_bc2c0_row2_col9{\n",
       "            background-color:  #bfe1f6;\n",
       "            color:  #000000;\n",
       "        }#T_bc2c0_row2_col11{\n",
       "            background-color:  #a7d9f8;\n",
       "            color:  #000000;\n",
       "        }#T_bc2c0_row2_col12{\n",
       "            background-color:  #a3d7f8;\n",
       "            color:  #000000;\n",
       "        }#T_bc2c0_row2_col13{\n",
       "            background-color:  #9bd5f9;\n",
       "            color:  #000000;\n",
       "        }#T_bc2c0_row3_col0,#T_bc2c0_row6_col0{\n",
       "            background-color:  #aadaf7;\n",
       "            color:  #000000;\n",
       "        }#T_bc2c0_row3_col1{\n",
       "            background-color:  #bce0f6;\n",
       "            color:  #000000;\n",
       "        }#T_bc2c0_row3_col2{\n",
       "            background-color:  #c5e3f6;\n",
       "            color:  #000000;\n",
       "        }#T_bc2c0_row3_col3{\n",
       "            background-color:  #cae5f5;\n",
       "            color:  #000000;\n",
       "        }#T_bc2c0_row3_col4{\n",
       "            background-color:  #bde0f6;\n",
       "            color:  #000000;\n",
       "        }#T_bc2c0_row3_col5{\n",
       "            background-color:  #bee0f6;\n",
       "            color:  #000000;\n",
       "        }#T_bc2c0_row3_col6{\n",
       "            background-color:  #b3ddf7;\n",
       "            color:  #000000;\n",
       "        }#T_bc2c0_row3_col7{\n",
       "            background-color:  #dcebf4;\n",
       "            color:  #000000;\n",
       "        }#T_bc2c0_row3_col8{\n",
       "            background-color:  #c4e2f6;\n",
       "            color:  #000000;\n",
       "        }#T_bc2c0_row3_col10,#T_bc2c0_row6_col3{\n",
       "            background-color:  #dbeaf4;\n",
       "            color:  #000000;\n",
       "        }#T_bc2c0_row3_col11{\n",
       "            background-color:  #c7e3f5;\n",
       "            color:  #000000;\n",
       "        }#T_bc2c0_row3_col12{\n",
       "            background-color:  #c4e3f6;\n",
       "            color:  #000000;\n",
       "        }#T_bc2c0_row3_col13{\n",
       "            background-color:  #c3e2f6;\n",
       "            color:  #000000;\n",
       "        }#T_bc2c0_row4_col2,#T_bc2c0_row4_col7{\n",
       "            background-color:  #ebf0f3;\n",
       "            color:  #000000;\n",
       "        }#T_bc2c0_row4_col3{\n",
       "            background-color:  #e1ecf4;\n",
       "            color:  #000000;\n",
       "        }#T_bc2c0_row4_col10{\n",
       "            background-color:  #d0e7f5;\n",
       "            color:  #000000;\n",
       "        }#T_bc2c0_row5_col0,#T_bc2c0_row5_col8,#T_bc2c0_row5_col12,#T_bc2c0_row5_col13{\n",
       "            background-color:  #edf0f3;\n",
       "            color:  #000000;\n",
       "        }#T_bc2c0_row5_col1{\n",
       "            background-color:  #9ed6f8;\n",
       "            color:  #000000;\n",
       "        }#T_bc2c0_row5_col2{\n",
       "            background-color:  #cbe5f5;\n",
       "            color:  #000000;\n",
       "        }#T_bc2c0_row5_col4{\n",
       "            background-color:  #b2dcf7;\n",
       "            color:  #000000;\n",
       "        }#T_bc2c0_row5_col5{\n",
       "            background-color:  #aedbf7;\n",
       "            color:  #000000;\n",
       "        }#T_bc2c0_row5_col6{\n",
       "            background-color:  #96d3f9;\n",
       "            color:  #000000;\n",
       "        }#T_bc2c0_row5_col11{\n",
       "            background-color:  #ecf0f3;\n",
       "            color:  #000000;\n",
       "        }#T_bc2c0_row6_col1{\n",
       "            background-color:  #b9dff6;\n",
       "            color:  #000000;\n",
       "        }#T_bc2c0_row6_col2{\n",
       "            background-color:  #daeaf4;\n",
       "            color:  #000000;\n",
       "        }#T_bc2c0_row6_col4{\n",
       "            background-color:  #9fd6f8;\n",
       "            color:  #000000;\n",
       "        }#T_bc2c0_row6_col5{\n",
       "            background-color:  #abdaf7;\n",
       "            color:  #000000;\n",
       "        }#T_bc2c0_row6_col6{\n",
       "            background-color:  #98d4f9;\n",
       "            color:  #000000;\n",
       "        }#T_bc2c0_row6_col7{\n",
       "            background-color:  #e4edf3;\n",
       "            color:  #000000;\n",
       "        }#T_bc2c0_row6_col8,#T_bc2c0_row6_col11,#T_bc2c0_row6_col13{\n",
       "            background-color:  #ddebf4;\n",
       "            color:  #000000;\n",
       "        }#T_bc2c0_row6_col12{\n",
       "            background-color:  #e3edf3;\n",
       "            color:  #000000;\n",
       "        }</style><table id=\"T_bc2c0_\" ><thead>    <tr>        <th class=\"blank level0\" ></th>        <th class=\"col_heading level0 col0\" colspan=\"7\">count</th>        <th class=\"col_heading level0 col7\" colspan=\"7\">mean</th>    </tr>    <tr>        <th class=\"index_name level1\" >DoW_Retiro</th>        <th class=\"col_heading level1 col0\" >Fri</th>        <th class=\"col_heading level1 col1\" >Mon</th>        <th class=\"col_heading level1 col2\" >Sat</th>        <th class=\"col_heading level1 col3\" >Sun</th>        <th class=\"col_heading level1 col4\" >Thu</th>        <th class=\"col_heading level1 col5\" >Tue</th>        <th class=\"col_heading level1 col6\" >Wed</th>        <th class=\"col_heading level1 col7\" >Fri</th>        <th class=\"col_heading level1 col8\" >Mon</th>        <th class=\"col_heading level1 col9\" >Sat</th>        <th class=\"col_heading level1 col10\" >Sun</th>        <th class=\"col_heading level1 col11\" >Thu</th>        <th class=\"col_heading level1 col12\" >Tue</th>        <th class=\"col_heading level1 col13\" >Wed</th>    </tr>    <tr>        <th class=\"index_name level0\" >HRmin_Retiro_cut</th>        <th class=\"blank\" ></th>        <th class=\"blank\" ></th>        <th class=\"blank\" ></th>        <th class=\"blank\" ></th>        <th class=\"blank\" ></th>        <th class=\"blank\" ></th>        <th class=\"blank\" ></th>        <th class=\"blank\" ></th>        <th class=\"blank\" ></th>        <th class=\"blank\" ></th>        <th class=\"blank\" ></th>        <th class=\"blank\" ></th>        <th class=\"blank\" ></th>        <th class=\"blank\" ></th>    </tr></thead><tbody>\n",
       "                <tr>\n",
       "                        <th id=\"T_bc2c0_level0_row0\" class=\"row_heading level0 row0\" >(-0.001, 8.595]</th>\n",
       "                        <td id=\"T_bc2c0_row0_col0\" class=\"data row0 col0\" >20555.0</td>\n",
       "                        <td id=\"T_bc2c0_row0_col1\" class=\"data row0 col1\" >17838.0</td>\n",
       "                        <td id=\"T_bc2c0_row0_col2\" class=\"data row0 col2\" >3800.0</td>\n",
       "                        <td id=\"T_bc2c0_row0_col3\" class=\"data row0 col3\" >2408.0</td>\n",
       "                        <td id=\"T_bc2c0_row0_col4\" class=\"data row0 col4\" >22316.0</td>\n",
       "                        <td id=\"T_bc2c0_row0_col5\" class=\"data row0 col5\" >19463.0</td>\n",
       "                        <td id=\"T_bc2c0_row0_col6\" class=\"data row0 col6\" >19470.0</td>\n",
       "                        <td id=\"T_bc2c0_row0_col7\" class=\"data row0 col7\" >35.1</td>\n",
       "                        <td id=\"T_bc2c0_row0_col8\" class=\"data row0 col8\" >34.8</td>\n",
       "                        <td id=\"T_bc2c0_row0_col9\" class=\"data row0 col9\" >35.9</td>\n",
       "                        <td id=\"T_bc2c0_row0_col10\" class=\"data row0 col10\" >36.5</td>\n",
       "                        <td id=\"T_bc2c0_row0_col11\" class=\"data row0 col11\" >35.0</td>\n",
       "                        <td id=\"T_bc2c0_row0_col12\" class=\"data row0 col12\" >34.9</td>\n",
       "                        <td id=\"T_bc2c0_row0_col13\" class=\"data row0 col13\" >35.1</td>\n",
       "            </tr>\n",
       "            <tr>\n",
       "                        <th id=\"T_bc2c0_level0_row1\" class=\"row_heading level0 row1\" >(10.455, 13.647]</th>\n",
       "                        <td id=\"T_bc2c0_row1_col0\" class=\"data row1 col0\" >18354.0</td>\n",
       "                        <td id=\"T_bc2c0_row1_col1\" class=\"data row1 col1\" >13366.0</td>\n",
       "                        <td id=\"T_bc2c0_row1_col2\" class=\"data row1 col2\" >12052.0</td>\n",
       "                        <td id=\"T_bc2c0_row1_col3\" class=\"data row1 col3\" >11600.0</td>\n",
       "                        <td id=\"T_bc2c0_row1_col4\" class=\"data row1 col4\" >17669.0</td>\n",
       "                        <td id=\"T_bc2c0_row1_col5\" class=\"data row1 col5\" >14418.0</td>\n",
       "                        <td id=\"T_bc2c0_row1_col6\" class=\"data row1 col6\" >17588.0</td>\n",
       "                        <td id=\"T_bc2c0_row1_col7\" class=\"data row1 col7\" >37.3</td>\n",
       "                        <td id=\"T_bc2c0_row1_col8\" class=\"data row1 col8\" >37.6</td>\n",
       "                        <td id=\"T_bc2c0_row1_col9\" class=\"data row1 col9\" >35.8</td>\n",
       "                        <td id=\"T_bc2c0_row1_col10\" class=\"data row1 col10\" >36.0</td>\n",
       "                        <td id=\"T_bc2c0_row1_col11\" class=\"data row1 col11\" >37.5</td>\n",
       "                        <td id=\"T_bc2c0_row1_col12\" class=\"data row1 col12\" >37.3</td>\n",
       "                        <td id=\"T_bc2c0_row1_col13\" class=\"data row1 col13\" >37.0</td>\n",
       "            </tr>\n",
       "            <tr>\n",
       "                        <th id=\"T_bc2c0_level0_row2\" class=\"row_heading level0 row2\" >(13.647, 15.841]</th>\n",
       "                        <td id=\"T_bc2c0_row2_col0\" class=\"data row2 col0\" >22919.0</td>\n",
       "                        <td id=\"T_bc2c0_row2_col1\" class=\"data row2 col1\" >15116.0</td>\n",
       "                        <td id=\"T_bc2c0_row2_col2\" class=\"data row2 col2\" >9104.0</td>\n",
       "                        <td id=\"T_bc2c0_row2_col3\" class=\"data row2 col3\" >7310.0</td>\n",
       "                        <td id=\"T_bc2c0_row2_col4\" class=\"data row2 col4\" >18750.0</td>\n",
       "                        <td id=\"T_bc2c0_row2_col5\" class=\"data row2 col5\" >15276.0</td>\n",
       "                        <td id=\"T_bc2c0_row2_col6\" class=\"data row2 col6\" >17059.0</td>\n",
       "                        <td id=\"T_bc2c0_row2_col7\" class=\"data row2 col7\" >35.6</td>\n",
       "                        <td id=\"T_bc2c0_row2_col8\" class=\"data row2 col8\" >36.5</td>\n",
       "                        <td id=\"T_bc2c0_row2_col9\" class=\"data row2 col9\" >35.1</td>\n",
       "                        <td id=\"T_bc2c0_row2_col10\" class=\"data row2 col10\" >34.8</td>\n",
       "                        <td id=\"T_bc2c0_row2_col11\" class=\"data row2 col11\" >36.4</td>\n",
       "                        <td id=\"T_bc2c0_row2_col12\" class=\"data row2 col12\" >36.4</td>\n",
       "                        <td id=\"T_bc2c0_row2_col13\" class=\"data row2 col13\" >36.4</td>\n",
       "            </tr>\n",
       "            <tr>\n",
       "                        <th id=\"T_bc2c0_level0_row3\" class=\"row_heading level0 row3\" >(15.841, 18.078]</th>\n",
       "                        <td id=\"T_bc2c0_row3_col0\" class=\"data row3 col0\" >20059.0</td>\n",
       "                        <td id=\"T_bc2c0_row3_col1\" class=\"data row3 col1\" >16689.0</td>\n",
       "                        <td id=\"T_bc2c0_row3_col2\" class=\"data row3 col2\" >7184.0</td>\n",
       "                        <td id=\"T_bc2c0_row3_col3\" class=\"data row3 col3\" >5667.0</td>\n",
       "                        <td id=\"T_bc2c0_row3_col4\" class=\"data row3 col4\" >20136.0</td>\n",
       "                        <td id=\"T_bc2c0_row3_col5\" class=\"data row3 col5\" >17128.0</td>\n",
       "                        <td id=\"T_bc2c0_row3_col6\" class=\"data row3 col6\" >18710.0</td>\n",
       "                        <td id=\"T_bc2c0_row3_col7\" class=\"data row3 col7\" >34.9</td>\n",
       "                        <td id=\"T_bc2c0_row3_col8\" class=\"data row3 col8\" >35.4</td>\n",
       "                        <td id=\"T_bc2c0_row3_col9\" class=\"data row3 col9\" >34.7</td>\n",
       "                        <td id=\"T_bc2c0_row3_col10\" class=\"data row3 col10\" >34.4</td>\n",
       "                        <td id=\"T_bc2c0_row3_col11\" class=\"data row3 col11\" >35.3</td>\n",
       "                        <td id=\"T_bc2c0_row3_col12\" class=\"data row3 col12\" >35.3</td>\n",
       "                        <td id=\"T_bc2c0_row3_col13\" class=\"data row3 col13\" >35.3</td>\n",
       "            </tr>\n",
       "            <tr>\n",
       "                        <th id=\"T_bc2c0_level0_row4\" class=\"row_heading level0 row4\" >(18.078, 19.535]</th>\n",
       "                        <td id=\"T_bc2c0_row4_col0\" class=\"data row4 col0\" >14537.0</td>\n",
       "                        <td id=\"T_bc2c0_row4_col1\" class=\"data row4 col1\" >20092.0</td>\n",
       "                        <td id=\"T_bc2c0_row4_col2\" class=\"data row4 col2\" >4123.0</td>\n",
       "                        <td id=\"T_bc2c0_row4_col3\" class=\"data row4 col3\" >3667.0</td>\n",
       "                        <td id=\"T_bc2c0_row4_col4\" class=\"data row4 col4\" >22844.0</td>\n",
       "                        <td id=\"T_bc2c0_row4_col5\" class=\"data row4 col5\" >20108.0</td>\n",
       "                        <td id=\"T_bc2c0_row4_col6\" class=\"data row4 col6\" >19910.0</td>\n",
       "                        <td id=\"T_bc2c0_row4_col7\" class=\"data row4 col7\" >34.4</td>\n",
       "                        <td id=\"T_bc2c0_row4_col8\" class=\"data row4 col8\" >33.8</td>\n",
       "                        <td id=\"T_bc2c0_row4_col9\" class=\"data row4 col9\" >34.9</td>\n",
       "                        <td id=\"T_bc2c0_row4_col10\" class=\"data row4 col10\" >34.8</td>\n",
       "                        <td id=\"T_bc2c0_row4_col11\" class=\"data row4 col11\" >33.9</td>\n",
       "                        <td id=\"T_bc2c0_row4_col12\" class=\"data row4 col12\" >33.9</td>\n",
       "                        <td id=\"T_bc2c0_row4_col13\" class=\"data row4 col13\" >34.0</td>\n",
       "            </tr>\n",
       "            <tr>\n",
       "                        <th id=\"T_bc2c0_level0_row5\" class=\"row_heading level0 row5\" >(19.535, 24.0]</th>\n",
       "                        <td id=\"T_bc2c0_row5_col0\" class=\"data row5 col0\" >14687.0</td>\n",
       "                        <td id=\"T_bc2c0_row5_col1\" class=\"data row5 col1\" >18617.0</td>\n",
       "                        <td id=\"T_bc2c0_row5_col2\" class=\"data row5 col2\" >6654.0</td>\n",
       "                        <td id=\"T_bc2c0_row5_col3\" class=\"data row5 col3\" >6419.0</td>\n",
       "                        <td id=\"T_bc2c0_row5_col4\" class=\"data row5 col4\" >20707.0</td>\n",
       "                        <td id=\"T_bc2c0_row5_col5\" class=\"data row5 col5\" >17981.0</td>\n",
       "                        <td id=\"T_bc2c0_row5_col6\" class=\"data row5 col6\" >19482.0</td>\n",
       "                        <td id=\"T_bc2c0_row5_col7\" class=\"data row5 col7\" >34.3</td>\n",
       "                        <td id=\"T_bc2c0_row5_col8\" class=\"data row5 col8\" >33.9</td>\n",
       "                        <td id=\"T_bc2c0_row5_col9\" class=\"data row5 col9\" >34.1</td>\n",
       "                        <td id=\"T_bc2c0_row5_col10\" class=\"data row5 col10\" >33.6</td>\n",
       "                        <td id=\"T_bc2c0_row5_col11\" class=\"data row5 col11\" >34.0</td>\n",
       "                        <td id=\"T_bc2c0_row5_col12\" class=\"data row5 col12\" >34.0</td>\n",
       "                        <td id=\"T_bc2c0_row5_col13\" class=\"data row5 col13\" >34.1</td>\n",
       "            </tr>\n",
       "            <tr>\n",
       "                        <th id=\"T_bc2c0_level0_row6\" class=\"row_heading level0 row6\" >(8.595, 10.455]</th>\n",
       "                        <td id=\"T_bc2c0_row6_col0\" class=\"data row6 col0\" >20069.0</td>\n",
       "                        <td id=\"T_bc2c0_row6_col1\" class=\"data row6 col1\" >16870.0</td>\n",
       "                        <td id=\"T_bc2c0_row6_col2\" class=\"data row6 col2\" >5483.0</td>\n",
       "                        <td id=\"T_bc2c0_row6_col3\" class=\"data row6 col3\" >4162.0</td>\n",
       "                        <td id=\"T_bc2c0_row6_col4\" class=\"data row6 col4\" >21622.0</td>\n",
       "                        <td id=\"T_bc2c0_row6_col5\" class=\"data row6 col5\" >18147.0</td>\n",
       "                        <td id=\"T_bc2c0_row6_col6\" class=\"data row6 col6\" >19439.0</td>\n",
       "                        <td id=\"T_bc2c0_row6_col7\" class=\"data row6 col7\" >34.6</td>\n",
       "                        <td id=\"T_bc2c0_row6_col8\" class=\"data row6 col8\" >34.5</td>\n",
       "                        <td id=\"T_bc2c0_row6_col9\" class=\"data row6 col9\" >36.4</td>\n",
       "                        <td id=\"T_bc2c0_row6_col10\" class=\"data row6 col10\" >37.5</td>\n",
       "                        <td id=\"T_bc2c0_row6_col11\" class=\"data row6 col11\" >34.5</td>\n",
       "                        <td id=\"T_bc2c0_row6_col12\" class=\"data row6 col12\" >34.3</td>\n",
       "                        <td id=\"T_bc2c0_row6_col13\" class=\"data row6 col13\" >34.5</td>\n",
       "            </tr>\n",
       "    </tbody></table>"
      ],
      "text/plain": [
       "<pandas.io.formats.style.Styler at 0x7fcd0b0bff70>"
      ]
     },
     "execution_count": 335,
     "metadata": {},
     "output_type": "execute_result"
    }
   ],
   "source": [
    "'''!pip install seaborn'''\n",
    "import seaborn as sns\n",
    "\n",
    "color = sns.light_palette('LightSkyBlue', as_cmap=True)\n",
    "\n",
    "#This is how the demand (and their avg age) looks through the daytime vs day of the week\n",
    "df.pivot_table(index='HRmin_Retiro_cut',\n",
    "               columns='DoW_Retiro',\n",
    "               values='Edad_Usuario',\n",
    "               aggfunc=['count','mean']).style.background_gradient(cmap=color).format('{:.1f}')\n",
    "#But surely the demand does not distribute exactly the same along all stations"
   ]
  },
  {
   "cell_type": "code",
   "execution_count": 336,
   "id": "bulgarian-indicator",
   "metadata": {
    "ExecuteTime": {
     "end_time": "2021-05-04T01:04:12.756470Z",
     "start_time": "2021-05-04T01:04:12.198262Z"
    },
    "hidden": true
   },
   "outputs": [
    {
     "data": {
      "text/html": [
       "<div>\n",
       "<style scoped>\n",
       "    .dataframe tbody tr th:only-of-type {\n",
       "        vertical-align: middle;\n",
       "    }\n",
       "\n",
       "    .dataframe tbody tr th {\n",
       "        vertical-align: top;\n",
       "    }\n",
       "\n",
       "    .dataframe thead th {\n",
       "        text-align: right;\n",
       "    }\n",
       "</style>\n",
       "<table border=\"1\" class=\"dataframe\">\n",
       "  <thead>\n",
       "    <tr style=\"text-align: right;\">\n",
       "      <th>DoW_Retiro</th>\n",
       "      <th>Ciclo_Estacion_Retiro</th>\n",
       "      <th>HRmin_Retiro_cut</th>\n",
       "      <th>Fri</th>\n",
       "      <th>Mon</th>\n",
       "      <th>Sat</th>\n",
       "      <th>Sun</th>\n",
       "      <th>Thu</th>\n",
       "      <th>Tue</th>\n",
       "      <th>Wed</th>\n",
       "    </tr>\n",
       "  </thead>\n",
       "  <tbody>\n",
       "    <tr>\n",
       "      <th>1071</th>\n",
       "      <td>154</td>\n",
       "      <td>(-0.001, 8.595]</td>\n",
       "      <td>84</td>\n",
       "      <td>58</td>\n",
       "      <td>18</td>\n",
       "      <td>5</td>\n",
       "      <td>79</td>\n",
       "      <td>70</td>\n",
       "      <td>58</td>\n",
       "    </tr>\n",
       "  </tbody>\n",
       "</table>\n",
       "</div>"
      ],
      "text/plain": [
       "DoW_Retiro  Ciclo_Estacion_Retiro HRmin_Retiro_cut  Fri  Mon  Sat  Sun  Thu  \\\n",
       "1071                          154  (-0.001, 8.595]   84   58   18    5   79   \n",
       "\n",
       "DoW_Retiro  Tue  Wed  \n",
       "1071         70   58  "
      ]
     },
     "execution_count": 336,
     "metadata": {},
     "output_type": "execute_result"
    }
   ],
   "source": [
    "demand = df.pivot_table(index=['Ciclo_Estacion_Retiro','HRmin_Retiro_cut'],\n",
    "                    columns='DoW_Retiro',\n",
    "                    values='Edad_Usuario',\n",
    "                    aggfunc='count',\n",
    "                    fill_value=0).reset_index()\n",
    "demand.sample()"
   ]
  },
  {
   "cell_type": "code",
   "execution_count": 337,
   "id": "middle-baker",
   "metadata": {
    "ExecuteTime": {
     "end_time": "2021-05-04T01:04:12.863009Z",
     "start_time": "2021-05-04T01:04:12.758903Z"
    },
    "hidden": true
   },
   "outputs": [
    {
     "data": {
      "text/html": [
       "<style  type=\"text/css\" >\n",
       "#T_b481e_row0_col0{\n",
       "            background-color:  #b6def7;\n",
       "            color:  #000000;\n",
       "        }#T_b481e_row0_col1,#T_b481e_row4_col2,#T_b481e_row12_col1{\n",
       "            background-color:  #c5e3f6;\n",
       "            color:  #000000;\n",
       "        }#T_b481e_row0_col2,#T_b481e_row4_col6{\n",
       "            background-color:  #afdbf7;\n",
       "            color:  #000000;\n",
       "        }#T_b481e_row0_col3,#T_b481e_row4_col3,#T_b481e_row4_col4{\n",
       "            background-color:  #b0dcf7;\n",
       "            color:  #000000;\n",
       "        }#T_b481e_row0_col4,#T_b481e_row8_col1{\n",
       "            background-color:  #cce5f5;\n",
       "            color:  #000000;\n",
       "        }#T_b481e_row0_col5,#T_b481e_row6_col2{\n",
       "            background-color:  #cbe5f5;\n",
       "            color:  #000000;\n",
       "        }#T_b481e_row0_col6{\n",
       "            background-color:  #b5ddf7;\n",
       "            color:  #000000;\n",
       "        }#T_b481e_row1_col0,#T_b481e_row1_col6{\n",
       "            background-color:  #c0e1f6;\n",
       "            color:  #000000;\n",
       "        }#T_b481e_row1_col1,#T_b481e_row16_col5{\n",
       "            background-color:  #ddebf4;\n",
       "            color:  #000000;\n",
       "        }#T_b481e_row1_col2{\n",
       "            background-color:  #d2e7f5;\n",
       "            color:  #000000;\n",
       "        }#T_b481e_row1_col3{\n",
       "            background-color:  #bee1f6;\n",
       "            color:  #000000;\n",
       "        }#T_b481e_row1_col4,#T_b481e_row5_col4,#T_b481e_row6_col0,#T_b481e_row6_col4{\n",
       "            background-color:  #b8def6;\n",
       "            color:  #000000;\n",
       "        }#T_b481e_row1_col5,#T_b481e_row7_col4{\n",
       "            background-color:  #bfe1f6;\n",
       "            color:  #000000;\n",
       "        }#T_b481e_row2_col0,#T_b481e_row2_col6,#T_b481e_row17_col0{\n",
       "            background-color:  #ebf0f3;\n",
       "            color:  #000000;\n",
       "        }#T_b481e_row2_col1,#T_b481e_row10_col4,#T_b481e_row10_col6{\n",
       "            background-color:  #ecf0f3;\n",
       "            color:  #000000;\n",
       "        }#T_b481e_row2_col2,#T_b481e_row10_col2{\n",
       "            background-color:  #e8eff3;\n",
       "            color:  #000000;\n",
       "        }#T_b481e_row2_col3,#T_b481e_row9_col6,#T_b481e_row10_col3,#T_b481e_row10_col5{\n",
       "            background-color:  #e6eef3;\n",
       "            color:  #000000;\n",
       "        }#T_b481e_row2_col4,#T_b481e_row2_col5,#T_b481e_row3_col0,#T_b481e_row3_col1,#T_b481e_row3_col2,#T_b481e_row3_col3,#T_b481e_row3_col4,#T_b481e_row3_col5,#T_b481e_row3_col6{\n",
       "            background-color:  #eff1f3;\n",
       "            color:  #000000;\n",
       "        }#T_b481e_row4_col0{\n",
       "            background-color:  #b2dcf7;\n",
       "            color:  #000000;\n",
       "        }#T_b481e_row4_col1,#T_b481e_row6_col1,#T_b481e_row17_col1{\n",
       "            background-color:  #c8e4f5;\n",
       "            color:  #000000;\n",
       "        }#T_b481e_row4_col5{\n",
       "            background-color:  #b7def7;\n",
       "            color:  #000000;\n",
       "        }#T_b481e_row5_col0,#T_b481e_row5_col3,#T_b481e_row5_col6,#T_b481e_row6_col5{\n",
       "            background-color:  #bce0f6;\n",
       "            color:  #000000;\n",
       "        }#T_b481e_row5_col1{\n",
       "            background-color:  #daeaf4;\n",
       "            color:  #000000;\n",
       "        }#T_b481e_row5_col2{\n",
       "            background-color:  #d0e6f5;\n",
       "            color:  #000000;\n",
       "        }#T_b481e_row5_col5{\n",
       "            background-color:  #c1e2f6;\n",
       "            color:  #000000;\n",
       "        }#T_b481e_row6_col3,#T_b481e_row8_col6,#T_b481e_row11_col2{\n",
       "            background-color:  #b3ddf7;\n",
       "            color:  #000000;\n",
       "        }#T_b481e_row6_col6{\n",
       "            background-color:  #b8def7;\n",
       "            color:  #000000;\n",
       "        }#T_b481e_row7_col0,#T_b481e_row7_col2{\n",
       "            background-color:  #9fd6f8;\n",
       "            color:  #000000;\n",
       "        }#T_b481e_row7_col1,#T_b481e_row8_col4,#T_b481e_row12_col4,#T_b481e_row18_col2{\n",
       "            background-color:  #a8d9f8;\n",
       "            color:  #000000;\n",
       "        }#T_b481e_row7_col3,#T_b481e_row11_col3,#T_b481e_row11_col4,#T_b481e_row15_col3{\n",
       "            background-color:  #9dd5f8;\n",
       "            color:  #000000;\n",
       "        }#T_b481e_row7_col5,#T_b481e_row16_col1{\n",
       "            background-color:  #badff6;\n",
       "            color:  #000000;\n",
       "        }#T_b481e_row7_col6,#T_b481e_row12_col0,#T_b481e_row13_col0,#T_b481e_row13_col3{\n",
       "            background-color:  #a4d8f8;\n",
       "            color:  #000000;\n",
       "        }#T_b481e_row8_col0{\n",
       "            background-color:  #abdaf7;\n",
       "            color:  #000000;\n",
       "        }#T_b481e_row8_col2{\n",
       "            background-color:  #c4e2f6;\n",
       "            color:  #000000;\n",
       "        }#T_b481e_row8_col3{\n",
       "            background-color:  #aedbf7;\n",
       "            color:  #000000;\n",
       "        }#T_b481e_row8_col5{\n",
       "            background-color:  #a6d8f8;\n",
       "            color:  #000000;\n",
       "        }#T_b481e_row9_col0{\n",
       "            background-color:  #e7eef3;\n",
       "            color:  #000000;\n",
       "        }#T_b481e_row9_col1{\n",
       "            background-color:  #d6e9f4;\n",
       "            color:  #000000;\n",
       "        }#T_b481e_row9_col2,#T_b481e_row17_col2{\n",
       "            background-color:  #dfecf4;\n",
       "            color:  #000000;\n",
       "        }#T_b481e_row9_col3,#T_b481e_row16_col6{\n",
       "            background-color:  #deebf4;\n",
       "            color:  #000000;\n",
       "        }#T_b481e_row9_col4{\n",
       "            background-color:  #eaeff3;\n",
       "            color:  #000000;\n",
       "        }#T_b481e_row9_col5,#T_b481e_row16_col4{\n",
       "            background-color:  #e5eef3;\n",
       "            color:  #000000;\n",
       "        }#T_b481e_row10_col0{\n",
       "            background-color:  #edf0f3;\n",
       "            color:  #000000;\n",
       "        }#T_b481e_row10_col1{\n",
       "            background-color:  #d9eaf4;\n",
       "            color:  #000000;\n",
       "        }#T_b481e_row11_col0{\n",
       "            background-color:  #98d4f9;\n",
       "            color:  #000000;\n",
       "        }#T_b481e_row11_col1,#T_b481e_row12_col6,#T_b481e_row13_col1,#T_b481e_row14_col5,#T_b481e_row20_col2{\n",
       "            background-color:  #addbf7;\n",
       "            color:  #000000;\n",
       "        }#T_b481e_row11_col5{\n",
       "            background-color:  #9bd5f9;\n",
       "            color:  #000000;\n",
       "        }#T_b481e_row11_col6,#T_b481e_row15_col0,#T_b481e_row19_col6{\n",
       "            background-color:  #9dd6f8;\n",
       "            color:  #000000;\n",
       "        }#T_b481e_row12_col2{\n",
       "            background-color:  #c3e2f6;\n",
       "            color:  #000000;\n",
       "        }#T_b481e_row12_col3,#T_b481e_row19_col1{\n",
       "            background-color:  #acdaf7;\n",
       "            color:  #000000;\n",
       "        }#T_b481e_row12_col5,#T_b481e_row13_col4{\n",
       "            background-color:  #a9d9f8;\n",
       "            color:  #000000;\n",
       "        }#T_b481e_row13_col2{\n",
       "            background-color:  #bbdff6;\n",
       "            color:  #000000;\n",
       "        }#T_b481e_row13_col5{\n",
       "            background-color:  #a1d7f8;\n",
       "            color:  #000000;\n",
       "        }#T_b481e_row13_col6{\n",
       "            background-color:  #a7d9f8;\n",
       "            color:  #000000;\n",
       "        }#T_b481e_row14_col0,#T_b481e_row20_col3{\n",
       "            background-color:  #92d2f9;\n",
       "            color:  #000000;\n",
       "        }#T_b481e_row14_col1,#T_b481e_row14_col6{\n",
       "            background-color:  #8cd0fa;\n",
       "            color:  #000000;\n",
       "        }#T_b481e_row14_col2,#T_b481e_row14_col3,#T_b481e_row18_col0,#T_b481e_row18_col4,#T_b481e_row18_col5,#T_b481e_row18_col6,#T_b481e_row20_col1{\n",
       "            background-color:  #87cefa;\n",
       "            color:  #000000;\n",
       "        }#T_b481e_row14_col4{\n",
       "            background-color:  #b1dcf7;\n",
       "            color:  #000000;\n",
       "        }#T_b481e_row15_col1{\n",
       "            background-color:  #b8dff6;\n",
       "            color:  #000000;\n",
       "        }#T_b481e_row15_col2,#T_b481e_row19_col2{\n",
       "            background-color:  #b5def7;\n",
       "            color:  #000000;\n",
       "        }#T_b481e_row15_col4,#T_b481e_row19_col4{\n",
       "            background-color:  #96d3f9;\n",
       "            color:  #000000;\n",
       "        }#T_b481e_row15_col5,#T_b481e_row19_col0{\n",
       "            background-color:  #94d2f9;\n",
       "            color:  #000000;\n",
       "        }#T_b481e_row15_col6{\n",
       "            background-color:  #a3d7f8;\n",
       "            color:  #000000;\n",
       "        }#T_b481e_row16_col0{\n",
       "            background-color:  #e5edf3;\n",
       "            color:  #000000;\n",
       "        }#T_b481e_row16_col2,#T_b481e_row16_col3{\n",
       "            background-color:  #d4e8f4;\n",
       "            color:  #000000;\n",
       "        }#T_b481e_row17_col3{\n",
       "            background-color:  #e1ecf4;\n",
       "            color:  #000000;\n",
       "        }#T_b481e_row17_col4{\n",
       "            background-color:  #e9eff3;\n",
       "            color:  #000000;\n",
       "        }#T_b481e_row17_col5{\n",
       "            background-color:  #e0ecf4;\n",
       "            color:  #000000;\n",
       "        }#T_b481e_row17_col6{\n",
       "            background-color:  #e8eef3;\n",
       "            color:  #000000;\n",
       "        }#T_b481e_row18_col1,#T_b481e_row20_col5{\n",
       "            background-color:  #90d1f9;\n",
       "            color:  #000000;\n",
       "        }#T_b481e_row18_col3{\n",
       "            background-color:  #8acffa;\n",
       "            color:  #000000;\n",
       "        }#T_b481e_row19_col3{\n",
       "            background-color:  #9ad4f9;\n",
       "            color:  #000000;\n",
       "        }#T_b481e_row19_col5{\n",
       "            background-color:  #9ed6f8;\n",
       "            color:  #000000;\n",
       "        }#T_b481e_row20_col0,#T_b481e_row20_col6{\n",
       "            background-color:  #95d3f9;\n",
       "            color:  #000000;\n",
       "        }#T_b481e_row20_col4{\n",
       "            background-color:  #99d4f9;\n",
       "            color:  #000000;\n",
       "        }</style><table id=\"T_b481e_\" ><thead>    <tr>        <th class=\"blank\" ></th>        <th class=\"index_name level0\" >HRmin_Retiro_cut</th>        <th class=\"col_heading level0 col0\" >(-0.001, 8.595]</th>        <th class=\"col_heading level0 col1\" >(10.455, 13.647]</th>        <th class=\"col_heading level0 col2\" >(13.647, 15.841]</th>        <th class=\"col_heading level0 col3\" >(15.841, 18.078]</th>        <th class=\"col_heading level0 col4\" >(18.078, 19.535]</th>        <th class=\"col_heading level0 col5\" >(19.535, 24.0]</th>        <th class=\"col_heading level0 col6\" >(8.595, 10.455]</th>    </tr>    <tr>        <th class=\"index_name level0\" ></th>        <th class=\"index_name level1\" >DoW_Retiro</th>        <th class=\"blank\" ></th>        <th class=\"blank\" ></th>        <th class=\"blank\" ></th>        <th class=\"blank\" ></th>        <th class=\"blank\" ></th>        <th class=\"blank\" ></th>        <th class=\"blank\" ></th>    </tr></thead><tbody>\n",
       "                <tr>\n",
       "                        <th id=\"T_b481e_level0_row0\" class=\"row_heading level0 row0\" rowspan=\"7\">median</th>\n",
       "                        <th id=\"T_b481e_level1_row0\" class=\"row_heading level1 row0\" >Fri</th>\n",
       "                        <td id=\"T_b481e_row0_col0\" class=\"data row0 col0\" >32.0</td>\n",
       "                        <td id=\"T_b481e_row0_col1\" class=\"data row0 col1\" >30.0</td>\n",
       "                        <td id=\"T_b481e_row0_col2\" class=\"data row0 col2\" >41.0</td>\n",
       "                        <td id=\"T_b481e_row0_col3\" class=\"data row0 col3\" >34.0</td>\n",
       "                        <td id=\"T_b481e_row0_col4\" class=\"data row0 col4\" >24.0</td>\n",
       "                        <td id=\"T_b481e_row0_col5\" class=\"data row0 col5\" >24.0</td>\n",
       "                        <td id=\"T_b481e_row0_col6\" class=\"data row0 col6\" >34.0</td>\n",
       "            </tr>\n",
       "            <tr>\n",
       "                                <th id=\"T_b481e_level1_row1\" class=\"row_heading level1 row1\" >Mon</th>\n",
       "                        <td id=\"T_b481e_row1_col0\" class=\"data row1 col0\" >27.0</td>\n",
       "                        <td id=\"T_b481e_row1_col1\" class=\"data row1 col1\" >23.0</td>\n",
       "                        <td id=\"T_b481e_row1_col2\" class=\"data row1 col2\" >25.0</td>\n",
       "                        <td id=\"T_b481e_row1_col3\" class=\"data row1 col3\" >28.0</td>\n",
       "                        <td id=\"T_b481e_row1_col4\" class=\"data row1 col4\" >34.0</td>\n",
       "                        <td id=\"T_b481e_row1_col5\" class=\"data row1 col5\" >29.0</td>\n",
       "                        <td id=\"T_b481e_row1_col6\" class=\"data row1 col6\" >29.0</td>\n",
       "            </tr>\n",
       "            <tr>\n",
       "                                <th id=\"T_b481e_level1_row2\" class=\"row_heading level1 row2\" >Sat</th>\n",
       "                        <td id=\"T_b481e_row2_col0\" class=\"data row2 col0\" >6.0</td>\n",
       "                        <td id=\"T_b481e_row2_col1\" class=\"data row2 col1\" >19.0</td>\n",
       "                        <td id=\"T_b481e_row2_col2\" class=\"data row2 col2\" >15.0</td>\n",
       "                        <td id=\"T_b481e_row2_col3\" class=\"data row2 col3\" >12.0</td>\n",
       "                        <td id=\"T_b481e_row2_col4\" class=\"data row2 col4\" >6.0</td>\n",
       "                        <td id=\"T_b481e_row2_col5\" class=\"data row2 col5\" >10.0</td>\n",
       "                        <td id=\"T_b481e_row2_col6\" class=\"data row2 col6\" >9.0</td>\n",
       "            </tr>\n",
       "            <tr>\n",
       "                                <th id=\"T_b481e_level1_row3\" class=\"row_heading level1 row3\" >Sun</th>\n",
       "                        <td id=\"T_b481e_row3_col0\" class=\"data row3 col0\" >4.0</td>\n",
       "                        <td id=\"T_b481e_row3_col1\" class=\"data row3 col1\" >18.0</td>\n",
       "                        <td id=\"T_b481e_row3_col2\" class=\"data row3 col2\" >12.0</td>\n",
       "                        <td id=\"T_b481e_row3_col3\" class=\"data row3 col3\" >8.0</td>\n",
       "                        <td id=\"T_b481e_row3_col4\" class=\"data row3 col4\" >6.0</td>\n",
       "                        <td id=\"T_b481e_row3_col5\" class=\"data row3 col5\" >10.0</td>\n",
       "                        <td id=\"T_b481e_row3_col6\" class=\"data row3 col6\" >7.0</td>\n",
       "            </tr>\n",
       "            <tr>\n",
       "                                <th id=\"T_b481e_level1_row4\" class=\"row_heading level1 row4\" >Thu</th>\n",
       "                        <td id=\"T_b481e_row4_col0\" class=\"data row4 col0\" >34.0</td>\n",
       "                        <td id=\"T_b481e_row4_col1\" class=\"data row4 col1\" >29.0</td>\n",
       "                        <td id=\"T_b481e_row4_col2\" class=\"data row4 col2\" >31.0</td>\n",
       "                        <td id=\"T_b481e_row4_col3\" class=\"data row4 col3\" >34.0</td>\n",
       "                        <td id=\"T_b481e_row4_col4\" class=\"data row4 col4\" >38.0</td>\n",
       "                        <td id=\"T_b481e_row4_col5\" class=\"data row4 col5\" >32.0</td>\n",
       "                        <td id=\"T_b481e_row4_col6\" class=\"data row4 col6\" >37.0</td>\n",
       "            </tr>\n",
       "            <tr>\n",
       "                                <th id=\"T_b481e_level1_row5\" class=\"row_heading level1 row5\" >Tue</th>\n",
       "                        <td id=\"T_b481e_row5_col0\" class=\"data row5 col0\" >29.0</td>\n",
       "                        <td id=\"T_b481e_row5_col1\" class=\"data row5 col1\" >24.0</td>\n",
       "                        <td id=\"T_b481e_row5_col2\" class=\"data row5 col2\" >26.0</td>\n",
       "                        <td id=\"T_b481e_row5_col3\" class=\"data row5 col3\" >29.0</td>\n",
       "                        <td id=\"T_b481e_row5_col4\" class=\"data row5 col4\" >34.0</td>\n",
       "                        <td id=\"T_b481e_row5_col5\" class=\"data row5 col5\" >28.0</td>\n",
       "                        <td id=\"T_b481e_row5_col6\" class=\"data row5 col6\" >31.0</td>\n",
       "            </tr>\n",
       "            <tr>\n",
       "                                <th id=\"T_b481e_level1_row6\" class=\"row_heading level1 row6\" >Wed</th>\n",
       "                        <td id=\"T_b481e_row6_col0\" class=\"data row6 col0\" >31.0</td>\n",
       "                        <td id=\"T_b481e_row6_col1\" class=\"data row6 col1\" >29.0</td>\n",
       "                        <td id=\"T_b481e_row6_col2\" class=\"data row6 col2\" >28.0</td>\n",
       "                        <td id=\"T_b481e_row6_col3\" class=\"data row6 col3\" >33.0</td>\n",
       "                        <td id=\"T_b481e_row6_col4\" class=\"data row6 col4\" >34.0</td>\n",
       "                        <td id=\"T_b481e_row6_col5\" class=\"data row6 col5\" >30.0</td>\n",
       "                        <td id=\"T_b481e_row6_col6\" class=\"data row6 col6\" >33.0</td>\n",
       "            </tr>\n",
       "            <tr>\n",
       "                        <th id=\"T_b481e_level0_row7\" class=\"row_heading level0 row7\" rowspan=\"7\">mean</th>\n",
       "                        <th id=\"T_b481e_level1_row7\" class=\"row_heading level1 row7\" >Fri</th>\n",
       "                        <td id=\"T_b481e_row7_col0\" class=\"data row7 col0\" >42.9</td>\n",
       "                        <td id=\"T_b481e_row7_col1\" class=\"data row7 col1\" >38.3</td>\n",
       "                        <td id=\"T_b481e_row7_col2\" class=\"data row7 col2\" >47.8</td>\n",
       "                        <td id=\"T_b481e_row7_col3\" class=\"data row7 col3\" >41.9</td>\n",
       "                        <td id=\"T_b481e_row7_col4\" class=\"data row7 col4\" >30.3</td>\n",
       "                        <td id=\"T_b481e_row7_col5\" class=\"data row7 col5\" >30.7</td>\n",
       "                        <td id=\"T_b481e_row7_col6\" class=\"data row7 col6\" >41.9</td>\n",
       "            </tr>\n",
       "            <tr>\n",
       "                                <th id=\"T_b481e_level1_row8\" class=\"row_heading level1 row8\" >Mon</th>\n",
       "                        <td id=\"T_b481e_row8_col0\" class=\"data row8 col0\" >37.2</td>\n",
       "                        <td id=\"T_b481e_row8_col1\" class=\"data row8 col1\" >27.9</td>\n",
       "                        <td id=\"T_b481e_row8_col2\" class=\"data row8 col2\" >31.6</td>\n",
       "                        <td id=\"T_b481e_row8_col3\" class=\"data row8 col3\" >34.8</td>\n",
       "                        <td id=\"T_b481e_row8_col4\" class=\"data row8 col4\" >41.9</td>\n",
       "                        <td id=\"T_b481e_row8_col5\" class=\"data row8 col5\" >38.9</td>\n",
       "                        <td id=\"T_b481e_row8_col6\" class=\"data row8 col6\" >35.2</td>\n",
       "            </tr>\n",
       "            <tr>\n",
       "                                <th id=\"T_b481e_level1_row9\" class=\"row_heading level1 row9\" >Sat</th>\n",
       "                        <td id=\"T_b481e_row9_col0\" class=\"data row9 col0\" >7.9</td>\n",
       "                        <td id=\"T_b481e_row9_col1\" class=\"data row9 col1\" >25.2</td>\n",
       "                        <td id=\"T_b481e_row9_col2\" class=\"data row9 col2\" >19.0</td>\n",
       "                        <td id=\"T_b481e_row9_col3\" class=\"data row9 col3\" >15.0</td>\n",
       "                        <td id=\"T_b481e_row9_col4\" class=\"data row9 col4\" >8.6</td>\n",
       "                        <td id=\"T_b481e_row9_col5\" class=\"data row9 col5\" >13.9</td>\n",
       "                        <td id=\"T_b481e_row9_col6\" class=\"data row9 col6\" >11.4</td>\n",
       "            </tr>\n",
       "            <tr>\n",
       "                                <th id=\"T_b481e_level1_row10\" class=\"row_heading level1 row10\" >Sun</th>\n",
       "                        <td id=\"T_b481e_row10_col0\" class=\"data row10 col0\" >5.0</td>\n",
       "                        <td id=\"T_b481e_row10_col1\" class=\"data row10 col1\" >24.2</td>\n",
       "                        <td id=\"T_b481e_row10_col2\" class=\"data row10 col2\" >15.3</td>\n",
       "                        <td id=\"T_b481e_row10_col3\" class=\"data row10 col3\" >11.8</td>\n",
       "                        <td id=\"T_b481e_row10_col4\" class=\"data row10 col4\" >7.7</td>\n",
       "                        <td id=\"T_b481e_row10_col5\" class=\"data row10 col5\" >13.4</td>\n",
       "                        <td id=\"T_b481e_row10_col6\" class=\"data row10 col6\" >8.7</td>\n",
       "            </tr>\n",
       "            <tr>\n",
       "                                <th id=\"T_b481e_level1_row11\" class=\"row_heading level1 row11\" >Thu</th>\n",
       "                        <td id=\"T_b481e_row11_col0\" class=\"data row11 col0\" >46.6</td>\n",
       "                        <td id=\"T_b481e_row11_col1\" class=\"data row11 col1\" >36.9</td>\n",
       "                        <td id=\"T_b481e_row11_col2\" class=\"data row11 col2\" >39.1</td>\n",
       "                        <td id=\"T_b481e_row11_col3\" class=\"data row11 col3\" >42.0</td>\n",
       "                        <td id=\"T_b481e_row11_col4\" class=\"data row11 col4\" >47.7</td>\n",
       "                        <td id=\"T_b481e_row11_col5\" class=\"data row11 col5\" >43.2</td>\n",
       "                        <td id=\"T_b481e_row11_col6\" class=\"data row11 col6\" >45.1</td>\n",
       "            </tr>\n",
       "            <tr>\n",
       "                                <th id=\"T_b481e_level1_row12\" class=\"row_heading level1 row12\" >Tue</th>\n",
       "                        <td id=\"T_b481e_row12_col0\" class=\"data row12 col0\" >40.6</td>\n",
       "                        <td id=\"T_b481e_row12_col1\" class=\"data row12 col1\" >30.1</td>\n",
       "                        <td id=\"T_b481e_row12_col2\" class=\"data row12 col2\" >31.9</td>\n",
       "                        <td id=\"T_b481e_row12_col3\" class=\"data row12 col3\" >35.8</td>\n",
       "                        <td id=\"T_b481e_row12_col4\" class=\"data row12 col4\" >42.0</td>\n",
       "                        <td id=\"T_b481e_row12_col5\" class=\"data row12 col5\" >37.5</td>\n",
       "                        <td id=\"T_b481e_row12_col6\" class=\"data row12 col6\" >37.9</td>\n",
       "            </tr>\n",
       "            <tr>\n",
       "                                <th id=\"T_b481e_level1_row13\" class=\"row_heading level1 row13\" >Wed</th>\n",
       "                        <td id=\"T_b481e_row13_col0\" class=\"data row13 col0\" >40.6</td>\n",
       "                        <td id=\"T_b481e_row13_col1\" class=\"data row13 col1\" >36.7</td>\n",
       "                        <td id=\"T_b481e_row13_col2\" class=\"data row13 col2\" >35.6</td>\n",
       "                        <td id=\"T_b481e_row13_col3\" class=\"data row13 col3\" >39.1</td>\n",
       "                        <td id=\"T_b481e_row13_col4\" class=\"data row13 col4\" >41.6</td>\n",
       "                        <td id=\"T_b481e_row13_col5\" class=\"data row13 col5\" >40.7</td>\n",
       "                        <td id=\"T_b481e_row13_col6\" class=\"data row13 col6\" >40.6</td>\n",
       "            </tr>\n",
       "            <tr>\n",
       "                        <th id=\"T_b481e_level0_row14\" class=\"row_heading level0 row14\" rowspan=\"7\">perc70</th>\n",
       "                        <th id=\"T_b481e_level1_row14\" class=\"row_heading level1 row14\" >Fri</th>\n",
       "                        <td id=\"T_b481e_row14_col0\" class=\"data row14 col0\" >49.6</td>\n",
       "                        <td id=\"T_b481e_row14_col1\" class=\"data row14 col1\" >46.0</td>\n",
       "                        <td id=\"T_b481e_row14_col2\" class=\"data row14 col2\" >59.0</td>\n",
       "                        <td id=\"T_b481e_row14_col3\" class=\"data row14 col3\" >51.0</td>\n",
       "                        <td id=\"T_b481e_row14_col4\" class=\"data row14 col4\" >37.6</td>\n",
       "                        <td id=\"T_b481e_row14_col5\" class=\"data row14 col5\" >36.0</td>\n",
       "                        <td id=\"T_b481e_row14_col6\" class=\"data row14 col6\" >53.0</td>\n",
       "            </tr>\n",
       "            <tr>\n",
       "                                <th id=\"T_b481e_level1_row15\" class=\"row_heading level1 row15\" >Mon</th>\n",
       "                        <td id=\"T_b481e_row15_col0\" class=\"data row15 col0\" >44.0</td>\n",
       "                        <td id=\"T_b481e_row15_col1\" class=\"data row15 col1\" >33.6</td>\n",
       "                        <td id=\"T_b481e_row15_col2\" class=\"data row15 col2\" >38.0</td>\n",
       "                        <td id=\"T_b481e_row15_col3\" class=\"data row15 col3\" >42.0</td>\n",
       "                        <td id=\"T_b481e_row15_col4\" class=\"data row15 col4\" >51.0</td>\n",
       "                        <td id=\"T_b481e_row15_col5\" class=\"data row15 col5\" >46.0</td>\n",
       "                        <td id=\"T_b481e_row15_col6\" class=\"data row15 col6\" >42.6</td>\n",
       "            </tr>\n",
       "            <tr>\n",
       "                                <th id=\"T_b481e_level1_row16\" class=\"row_heading level1 row16\" >Sat</th>\n",
       "                        <td id=\"T_b481e_row16_col0\" class=\"data row16 col0\" >9.0</td>\n",
       "                        <td id=\"T_b481e_row16_col1\" class=\"data row16 col1\" >33.0</td>\n",
       "                        <td id=\"T_b481e_row16_col2\" class=\"data row16 col2\" >24.0</td>\n",
       "                        <td id=\"T_b481e_row16_col3\" class=\"data row16 col3\" >19.0</td>\n",
       "                        <td id=\"T_b481e_row16_col4\" class=\"data row16 col4\" >11.0</td>\n",
       "                        <td id=\"T_b481e_row16_col5\" class=\"data row16 col5\" >17.0</td>\n",
       "                        <td id=\"T_b481e_row16_col6\" class=\"data row16 col6\" >15.0</td>\n",
       "            </tr>\n",
       "            <tr>\n",
       "                                <th id=\"T_b481e_level1_row17\" class=\"row_heading level1 row17\" >Sun</th>\n",
       "                        <td id=\"T_b481e_row17_col0\" class=\"data row17 col0\" >6.0</td>\n",
       "                        <td id=\"T_b481e_row17_col1\" class=\"data row17 col1\" >29.0</td>\n",
       "                        <td id=\"T_b481e_row17_col2\" class=\"data row17 col2\" >19.0</td>\n",
       "                        <td id=\"T_b481e_row17_col3\" class=\"data row17 col3\" >14.0</td>\n",
       "                        <td id=\"T_b481e_row17_col4\" class=\"data row17 col4\" >9.0</td>\n",
       "                        <td id=\"T_b481e_row17_col5\" class=\"data row17 col5\" >16.0</td>\n",
       "                        <td id=\"T_b481e_row17_col6\" class=\"data row17 col6\" >10.6</td>\n",
       "            </tr>\n",
       "            <tr>\n",
       "                                <th id=\"T_b481e_level1_row18\" class=\"row_heading level1 row18\" >Thu</th>\n",
       "                        <td id=\"T_b481e_row18_col0\" class=\"data row18 col0\" >55.0</td>\n",
       "                        <td id=\"T_b481e_row18_col1\" class=\"data row18 col1\" >45.0</td>\n",
       "                        <td id=\"T_b481e_row18_col2\" class=\"data row18 col2\" >44.0</td>\n",
       "                        <td id=\"T_b481e_row18_col3\" class=\"data row18 col3\" >49.6</td>\n",
       "                        <td id=\"T_b481e_row18_col4\" class=\"data row18 col4\" >59.0</td>\n",
       "                        <td id=\"T_b481e_row18_col5\" class=\"data row18 col5\" >51.0</td>\n",
       "                        <td id=\"T_b481e_row18_col6\" class=\"data row18 col6\" >55.6</td>\n",
       "            </tr>\n",
       "            <tr>\n",
       "                                <th id=\"T_b481e_level1_row19\" class=\"row_heading level1 row19\" >Tue</th>\n",
       "                        <td id=\"T_b481e_row19_col0\" class=\"data row19 col0\" >48.6</td>\n",
       "                        <td id=\"T_b481e_row19_col1\" class=\"data row19 col1\" >37.0</td>\n",
       "                        <td id=\"T_b481e_row19_col2\" class=\"data row19 col2\" >38.0</td>\n",
       "                        <td id=\"T_b481e_row19_col3\" class=\"data row19 col3\" >43.0</td>\n",
       "                        <td id=\"T_b481e_row19_col4\" class=\"data row19 col4\" >51.0</td>\n",
       "                        <td id=\"T_b481e_row19_col5\" class=\"data row19 col5\" >42.0</td>\n",
       "                        <td id=\"T_b481e_row19_col6\" class=\"data row19 col6\" >45.0</td>\n",
       "            </tr>\n",
       "            <tr>\n",
       "                                <th id=\"T_b481e_level1_row20\" class=\"row_heading level1 row20\" >Wed</th>\n",
       "                        <td id=\"T_b481e_row20_col0\" class=\"data row20 col0\" >48.0</td>\n",
       "                        <td id=\"T_b481e_row20_col1\" class=\"data row20 col1\" >47.6</td>\n",
       "                        <td id=\"T_b481e_row20_col2\" class=\"data row20 col2\" >42.0</td>\n",
       "                        <td id=\"T_b481e_row20_col3\" class=\"data row20 col3\" >46.6</td>\n",
       "                        <td id=\"T_b481e_row20_col4\" class=\"data row20 col4\" >49.6</td>\n",
       "                        <td id=\"T_b481e_row20_col5\" class=\"data row20 col5\" >47.6</td>\n",
       "                        <td id=\"T_b481e_row20_col6\" class=\"data row20 col6\" >49.0</td>\n",
       "            </tr>\n",
       "    </tbody></table>"
      ],
      "text/plain": [
       "<pandas.io.formats.style.Styler at 0x7fcd4ffcd9a0>"
      ]
     },
     "execution_count": 337,
     "metadata": {},
     "output_type": "execute_result"
    }
   ],
   "source": [
    "demand.pivot_table(index='HRmin_Retiro_cut',\n",
    "                   values=demand.columns[-7:],\n",
    "                   aggfunc=['median','mean',perc70]\n",
    "                  ).T.style.background_gradient(cmap=color).format('{:.1f}')"
   ]
  },
  {
   "cell_type": "markdown",
   "id": "institutional-ceremony",
   "metadata": {
    "heading_collapsed": true
   },
   "source": [
    "## TAD"
   ]
  },
  {
   "cell_type": "code",
   "execution_count": 350,
   "id": "static-murder",
   "metadata": {
    "ExecuteTime": {
     "end_time": "2021-05-04T01:33:20.028709Z",
     "start_time": "2021-05-04T01:33:19.954983Z"
    },
    "hidden": true
   },
   "outputs": [
    {
     "data": {
      "text/html": [
       "<style  type=\"text/css\" >\n",
       "#T_9fcd2_row0_col0,#T_9fcd2_row14_col0{\n",
       "            background-color:  #5073a1;\n",
       "            color:  #000000;\n",
       "        }#T_9fcd2_row0_col1,#T_9fcd2_row0_col2,#T_9fcd2_row0_col3,#T_9fcd2_row1_col2,#T_9fcd2_row1_col3,#T_9fcd2_row2_col2,#T_9fcd2_row2_col3,#T_9fcd2_row3_col3,#T_9fcd2_row11_col1,#T_9fcd2_row11_col2,#T_9fcd2_row11_col3,#T_9fcd2_row12_col2,#T_9fcd2_row12_col3,#T_9fcd2_row13_col2,#T_9fcd2_row13_col3,#T_9fcd2_row14_col3{\n",
       "            background-color:  #000000;\n",
       "            color:  #f1f1f1;\n",
       "        }#T_9fcd2_row1_col0,#T_9fcd2_row6_col0,#T_9fcd2_row7_col0,#T_9fcd2_row8_col0,#T_9fcd2_row11_col0,#T_9fcd2_row12_col0,#T_9fcd2_row15_col0{\n",
       "            background-color:  #3a4c65;\n",
       "            color:  #f1f1f1;\n",
       "        }#T_9fcd2_row1_col1,#T_9fcd2_row3_col2,#T_9fcd2_row4_col3,#T_9fcd2_row10_col0,#T_9fcd2_row15_col1{\n",
       "            background-color:  #6699dd;\n",
       "            color:  #000000;\n",
       "        }#T_9fcd2_row2_col0,#T_9fcd2_row3_col0,#T_9fcd2_row3_col1,#T_9fcd2_row4_col0,#T_9fcd2_row4_col1,#T_9fcd2_row5_col0,#T_9fcd2_row5_col1,#T_9fcd2_row5_col2,#T_9fcd2_row6_col1,#T_9fcd2_row6_col2,#T_9fcd2_row6_col3,#T_9fcd2_row7_col2,#T_9fcd2_row7_col3,#T_9fcd2_row8_col2,#T_9fcd2_row8_col3,#T_9fcd2_row9_col0,#T_9fcd2_row9_col3,#T_9fcd2_row10_col1,#T_9fcd2_row13_col0,#T_9fcd2_row14_col1{\n",
       "            background-color:  #242629;\n",
       "            color:  #f1f1f1;\n",
       "        }#T_9fcd2_row2_col1,#T_9fcd2_row4_col2,#T_9fcd2_row5_col3,#T_9fcd2_row7_col1,#T_9fcd2_row8_col1,#T_9fcd2_row9_col1,#T_9fcd2_row9_col2,#T_9fcd2_row10_col2,#T_9fcd2_row10_col3,#T_9fcd2_row12_col1,#T_9fcd2_row13_col1,#T_9fcd2_row14_col2,#T_9fcd2_row15_col2,#T_9fcd2_row15_col3{\n",
       "            background-color:  #456084;\n",
       "            color:  #f1f1f1;\n",
       "        }</style><table id=\"T_9fcd2_\" ><thead>    <tr>        <th class=\"blank\" ></th>        <th class=\"blank level0\" ></th>        <th class=\"col_heading level0 col0\" >Bici</th>        <th class=\"col_heading level0 col1\" >Bici_01</th>        <th class=\"col_heading level0 col2\" >Bici_03</th>        <th class=\"col_heading level0 col3\" >Bici_04</th>    </tr>    <tr>        <th class=\"index_name level0\" >Ciclo_Estacion_Retiro</th>        <th class=\"index_name level1\" >Fecha_Retiro</th>        <th class=\"blank\" ></th>        <th class=\"blank\" ></th>        <th class=\"blank\" ></th>        <th class=\"blank\" ></th>    </tr></thead><tbody>\n",
       "                <tr>\n",
       "                        <th id=\"T_9fcd2_level0_row0\" class=\"row_heading level0 row0\" rowspan=\"11\">372</th>\n",
       "                        <th id=\"T_9fcd2_level1_row0\" class=\"row_heading level1 row0\" >2019-05-01 00:00:00</th>\n",
       "                        <td id=\"T_9fcd2_row0_col0\" class=\"data row0 col0\" >2.0</td>\n",
       "                        <td id=\"T_9fcd2_row0_col1\" class=\"data row0 col1\" >nan</td>\n",
       "                        <td id=\"T_9fcd2_row0_col2\" class=\"data row0 col2\" >nan</td>\n",
       "                        <td id=\"T_9fcd2_row0_col3\" class=\"data row0 col3\" >nan</td>\n",
       "            </tr>\n",
       "            <tr>\n",
       "                                <th id=\"T_9fcd2_level1_row1\" class=\"row_heading level1 row1\" >2019-05-02 00:00:00</th>\n",
       "                        <td id=\"T_9fcd2_row1_col0\" class=\"data row1 col0\" >1.0</td>\n",
       "                        <td id=\"T_9fcd2_row1_col1\" class=\"data row1 col1\" >2.0</td>\n",
       "                        <td id=\"T_9fcd2_row1_col2\" class=\"data row1 col2\" >nan</td>\n",
       "                        <td id=\"T_9fcd2_row1_col3\" class=\"data row1 col3\" >nan</td>\n",
       "            </tr>\n",
       "            <tr>\n",
       "                                <th id=\"T_9fcd2_level1_row2\" class=\"row_heading level1 row2\" >2019-05-03 00:00:00</th>\n",
       "                        <td id=\"T_9fcd2_row2_col0\" class=\"data row2 col0\" >0.0</td>\n",
       "                        <td id=\"T_9fcd2_row2_col1\" class=\"data row2 col1\" >1.0</td>\n",
       "                        <td id=\"T_9fcd2_row2_col2\" class=\"data row2 col2\" >nan</td>\n",
       "                        <td id=\"T_9fcd2_row2_col3\" class=\"data row2 col3\" >nan</td>\n",
       "            </tr>\n",
       "            <tr>\n",
       "                                <th id=\"T_9fcd2_level1_row3\" class=\"row_heading level1 row3\" >2019-05-04 00:00:00</th>\n",
       "                        <td id=\"T_9fcd2_row3_col0\" class=\"data row3 col0\" >0.0</td>\n",
       "                        <td id=\"T_9fcd2_row3_col1\" class=\"data row3 col1\" >0.0</td>\n",
       "                        <td id=\"T_9fcd2_row3_col2\" class=\"data row3 col2\" >2.0</td>\n",
       "                        <td id=\"T_9fcd2_row3_col3\" class=\"data row3 col3\" >nan</td>\n",
       "            </tr>\n",
       "            <tr>\n",
       "                                <th id=\"T_9fcd2_level1_row4\" class=\"row_heading level1 row4\" >2019-05-05 00:00:00</th>\n",
       "                        <td id=\"T_9fcd2_row4_col0\" class=\"data row4 col0\" >0.0</td>\n",
       "                        <td id=\"T_9fcd2_row4_col1\" class=\"data row4 col1\" >0.0</td>\n",
       "                        <td id=\"T_9fcd2_row4_col2\" class=\"data row4 col2\" >1.0</td>\n",
       "                        <td id=\"T_9fcd2_row4_col3\" class=\"data row4 col3\" >2.0</td>\n",
       "            </tr>\n",
       "            <tr>\n",
       "                                <th id=\"T_9fcd2_level1_row5\" class=\"row_heading level1 row5\" >2019-05-06 00:00:00</th>\n",
       "                        <td id=\"T_9fcd2_row5_col0\" class=\"data row5 col0\" >0.0</td>\n",
       "                        <td id=\"T_9fcd2_row5_col1\" class=\"data row5 col1\" >0.0</td>\n",
       "                        <td id=\"T_9fcd2_row5_col2\" class=\"data row5 col2\" >0.0</td>\n",
       "                        <td id=\"T_9fcd2_row5_col3\" class=\"data row5 col3\" >1.0</td>\n",
       "            </tr>\n",
       "            <tr>\n",
       "                                <th id=\"T_9fcd2_level1_row6\" class=\"row_heading level1 row6\" >2019-05-07 00:00:00</th>\n",
       "                        <td id=\"T_9fcd2_row6_col0\" class=\"data row6 col0\" >1.0</td>\n",
       "                        <td id=\"T_9fcd2_row6_col1\" class=\"data row6 col1\" >0.0</td>\n",
       "                        <td id=\"T_9fcd2_row6_col2\" class=\"data row6 col2\" >0.0</td>\n",
       "                        <td id=\"T_9fcd2_row6_col3\" class=\"data row6 col3\" >0.0</td>\n",
       "            </tr>\n",
       "            <tr>\n",
       "                                <th id=\"T_9fcd2_level1_row7\" class=\"row_heading level1 row7\" >2019-05-08 00:00:00</th>\n",
       "                        <td id=\"T_9fcd2_row7_col0\" class=\"data row7 col0\" >1.0</td>\n",
       "                        <td id=\"T_9fcd2_row7_col1\" class=\"data row7 col1\" >1.0</td>\n",
       "                        <td id=\"T_9fcd2_row7_col2\" class=\"data row7 col2\" >0.0</td>\n",
       "                        <td id=\"T_9fcd2_row7_col3\" class=\"data row7 col3\" >0.0</td>\n",
       "            </tr>\n",
       "            <tr>\n",
       "                                <th id=\"T_9fcd2_level1_row8\" class=\"row_heading level1 row8\" >2019-05-09 00:00:00</th>\n",
       "                        <td id=\"T_9fcd2_row8_col0\" class=\"data row8 col0\" >1.0</td>\n",
       "                        <td id=\"T_9fcd2_row8_col1\" class=\"data row8 col1\" >1.0</td>\n",
       "                        <td id=\"T_9fcd2_row8_col2\" class=\"data row8 col2\" >0.0</td>\n",
       "                        <td id=\"T_9fcd2_row8_col3\" class=\"data row8 col3\" >0.0</td>\n",
       "            </tr>\n",
       "            <tr>\n",
       "                                <th id=\"T_9fcd2_level1_row9\" class=\"row_heading level1 row9\" >2019-05-10 00:00:00</th>\n",
       "                        <td id=\"T_9fcd2_row9_col0\" class=\"data row9 col0\" >0.0</td>\n",
       "                        <td id=\"T_9fcd2_row9_col1\" class=\"data row9 col1\" >1.0</td>\n",
       "                        <td id=\"T_9fcd2_row9_col2\" class=\"data row9 col2\" >1.0</td>\n",
       "                        <td id=\"T_9fcd2_row9_col3\" class=\"data row9 col3\" >0.0</td>\n",
       "            </tr>\n",
       "            <tr>\n",
       "                                <th id=\"T_9fcd2_level1_row10\" class=\"row_heading level1 row10\" >2019-05-11 00:00:00</th>\n",
       "                        <td id=\"T_9fcd2_row10_col0\" class=\"data row10 col0\" >3.0</td>\n",
       "                        <td id=\"T_9fcd2_row10_col1\" class=\"data row10 col1\" >0.0</td>\n",
       "                        <td id=\"T_9fcd2_row10_col2\" class=\"data row10 col2\" >1.0</td>\n",
       "                        <td id=\"T_9fcd2_row10_col3\" class=\"data row10 col3\" >1.0</td>\n",
       "            </tr>\n",
       "            <tr>\n",
       "                        <th id=\"T_9fcd2_level0_row11\" class=\"row_heading level0 row11\" rowspan=\"5\">464</th>\n",
       "                        <th id=\"T_9fcd2_level1_row11\" class=\"row_heading level1 row11\" >2019-05-26 00:00:00</th>\n",
       "                        <td id=\"T_9fcd2_row11_col0\" class=\"data row11 col0\" >1.0</td>\n",
       "                        <td id=\"T_9fcd2_row11_col1\" class=\"data row11 col1\" >nan</td>\n",
       "                        <td id=\"T_9fcd2_row11_col2\" class=\"data row11 col2\" >nan</td>\n",
       "                        <td id=\"T_9fcd2_row11_col3\" class=\"data row11 col3\" >nan</td>\n",
       "            </tr>\n",
       "            <tr>\n",
       "                                <th id=\"T_9fcd2_level1_row12\" class=\"row_heading level1 row12\" >2019-05-27 00:00:00</th>\n",
       "                        <td id=\"T_9fcd2_row12_col0\" class=\"data row12 col0\" >1.0</td>\n",
       "                        <td id=\"T_9fcd2_row12_col1\" class=\"data row12 col1\" >1.0</td>\n",
       "                        <td id=\"T_9fcd2_row12_col2\" class=\"data row12 col2\" >nan</td>\n",
       "                        <td id=\"T_9fcd2_row12_col3\" class=\"data row12 col3\" >nan</td>\n",
       "            </tr>\n",
       "            <tr>\n",
       "                                <th id=\"T_9fcd2_level1_row13\" class=\"row_heading level1 row13\" >2019-05-28 00:00:00</th>\n",
       "                        <td id=\"T_9fcd2_row13_col0\" class=\"data row13 col0\" >0.0</td>\n",
       "                        <td id=\"T_9fcd2_row13_col1\" class=\"data row13 col1\" >1.0</td>\n",
       "                        <td id=\"T_9fcd2_row13_col2\" class=\"data row13 col2\" >nan</td>\n",
       "                        <td id=\"T_9fcd2_row13_col3\" class=\"data row13 col3\" >nan</td>\n",
       "            </tr>\n",
       "            <tr>\n",
       "                                <th id=\"T_9fcd2_level1_row14\" class=\"row_heading level1 row14\" >2019-05-29 00:00:00</th>\n",
       "                        <td id=\"T_9fcd2_row14_col0\" class=\"data row14 col0\" >2.0</td>\n",
       "                        <td id=\"T_9fcd2_row14_col1\" class=\"data row14 col1\" >0.0</td>\n",
       "                        <td id=\"T_9fcd2_row14_col2\" class=\"data row14 col2\" >1.0</td>\n",
       "                        <td id=\"T_9fcd2_row14_col3\" class=\"data row14 col3\" >nan</td>\n",
       "            </tr>\n",
       "            <tr>\n",
       "                                <th id=\"T_9fcd2_level1_row15\" class=\"row_heading level1 row15\" >2019-05-30 00:00:00</th>\n",
       "                        <td id=\"T_9fcd2_row15_col0\" class=\"data row15 col0\" >1.0</td>\n",
       "                        <td id=\"T_9fcd2_row15_col1\" class=\"data row15 col1\" >2.0</td>\n",
       "                        <td id=\"T_9fcd2_row15_col2\" class=\"data row15 col2\" >1.0</td>\n",
       "                        <td id=\"T_9fcd2_row15_col3\" class=\"data row15 col3\" >1.0</td>\n",
       "            </tr>\n",
       "    </tbody></table>"
      ],
      "text/plain": [
       "<pandas.io.formats.style.Styler at 0x7fcd020c6160>"
      ]
     },
     "execution_count": 350,
     "metadata": {},
     "output_type": "execute_result"
    }
   ],
   "source": [
    "import seaborn as sns\n",
    "\n",
    "color = sns.dark_palette(\"#69d\", as_cmap=True)\n",
    "\n",
    "#Example of what this function does\n",
    "multishift(data=df.head(9).append(df.tail(9)),\n",
    "           id_cols=['Ciclo_Estacion_Retiro'],\n",
    "           date_col='Fecha_Retiro',\n",
    "           shifts=[1,3,4],\n",
    "           values='Bici',aggfunc='count',\n",
    "           #columns=['HRmin_Retiro_cut']\n",
    "           #columns=['HRmin_Retiro_cut','HRmin_Arribo_cut'],\n",
    "           #values=['Bici','Genero_Usuario'],\n",
    "           #aggfunc={'Bici':['sum','mean'],'Genero_Usuario':'count'}\n",
    "          ).style.background_gradient(cmap=color).format('{:.1f}')"
   ]
  },
  {
   "cell_type": "markdown",
   "id": "dental-writer",
   "metadata": {
    "ExecuteTime": {
     "end_time": "2021-05-01T15:12:01.005862Z",
     "start_time": "2021-05-01T15:10:35.264701Z"
    },
    "hidden": true
   },
   "source": [
    "df = multishift(data=df,\n",
    "                id_cols=['Ciclo_Estacion_Retiro'],\n",
    "                date_col='Fecha_Retiro',\n",
    "                shifts=range(1,10),\n",
    "                columns='HRmin_Retiro_cut',\n",
    "                values='Bici',\n",
    "                aggfunc='count')\n",
    "df.reset_index().to_csv(os.path.join(BASE_DIR,'bicis_shift.csv'),index=False)"
   ]
  },
  {
   "cell_type": "code",
   "execution_count": 28,
   "id": "intermediate-james",
   "metadata": {
    "ExecuteTime": {
     "end_time": "2021-05-03T19:03:32.233701Z",
     "start_time": "2021-05-03T19:03:31.860847Z"
    },
    "hidden": true
   },
   "outputs": [
    {
     "data": {
      "text/html": [
       "<div>\n",
       "<style scoped>\n",
       "    .dataframe tbody tr th:only-of-type {\n",
       "        vertical-align: middle;\n",
       "    }\n",
       "\n",
       "    .dataframe tbody tr th {\n",
       "        vertical-align: top;\n",
       "    }\n",
       "\n",
       "    .dataframe thead th {\n",
       "        text-align: right;\n",
       "    }\n",
       "</style>\n",
       "<table border=\"1\" class=\"dataframe\">\n",
       "  <thead>\n",
       "    <tr style=\"text-align: right;\">\n",
       "      <th></th>\n",
       "      <th></th>\n",
       "      <th>(-0.001, 8.595]</th>\n",
       "      <th>(10.455, 13.647]</th>\n",
       "      <th>(13.647, 15.841]</th>\n",
       "      <th>(15.841, 18.078]</th>\n",
       "      <th>(18.078, 19.535]</th>\n",
       "      <th>(19.535, 24.0]</th>\n",
       "      <th>(8.595, 10.455]</th>\n",
       "      <th>(-0.001, 8.595]_01</th>\n",
       "      <th>(10.455, 13.647]_01</th>\n",
       "      <th>(13.647, 15.841]_01</th>\n",
       "      <th>...</th>\n",
       "      <th>(18.078, 19.535]_08</th>\n",
       "      <th>(19.535, 24.0]_08</th>\n",
       "      <th>(8.595, 10.455]_08</th>\n",
       "      <th>(-0.001, 8.595]_09</th>\n",
       "      <th>(10.455, 13.647]_09</th>\n",
       "      <th>(13.647, 15.841]_09</th>\n",
       "      <th>(15.841, 18.078]_09</th>\n",
       "      <th>(18.078, 19.535]_09</th>\n",
       "      <th>(19.535, 24.0]_09</th>\n",
       "      <th>(8.595, 10.455]_09</th>\n",
       "    </tr>\n",
       "    <tr>\n",
       "      <th>Ciclo_Estacion_Retiro</th>\n",
       "      <th>Fecha_Retiro</th>\n",
       "      <th></th>\n",
       "      <th></th>\n",
       "      <th></th>\n",
       "      <th></th>\n",
       "      <th></th>\n",
       "      <th></th>\n",
       "      <th></th>\n",
       "      <th></th>\n",
       "      <th></th>\n",
       "      <th></th>\n",
       "      <th></th>\n",
       "      <th></th>\n",
       "      <th></th>\n",
       "      <th></th>\n",
       "      <th></th>\n",
       "      <th></th>\n",
       "      <th></th>\n",
       "      <th></th>\n",
       "      <th></th>\n",
       "      <th></th>\n",
       "      <th></th>\n",
       "    </tr>\n",
       "  </thead>\n",
       "  <tbody>\n",
       "    <tr>\n",
       "      <th>216</th>\n",
       "      <th>2019-05-20</th>\n",
       "      <td>8.000</td>\n",
       "      <td>5.000</td>\n",
       "      <td>7.000</td>\n",
       "      <td>9.000</td>\n",
       "      <td>13.000</td>\n",
       "      <td>13.000</td>\n",
       "      <td>6.000</td>\n",
       "      <td>0.000</td>\n",
       "      <td>3.000</td>\n",
       "      <td>2.000</td>\n",
       "      <td>...</td>\n",
       "      <td>3.000</td>\n",
       "      <td>0.000</td>\n",
       "      <td>1.000</td>\n",
       "      <td>2.000</td>\n",
       "      <td>2.000</td>\n",
       "      <td>2.000</td>\n",
       "      <td>0.000</td>\n",
       "      <td>4.000</td>\n",
       "      <td>3.000</td>\n",
       "      <td>0.000</td>\n",
       "    </tr>\n",
       "  </tbody>\n",
       "</table>\n",
       "<p>1 rows × 70 columns</p>\n",
       "</div>"
      ],
      "text/plain": [
       "                                    (-0.001, 8.595]  (10.455, 13.647]  \\\n",
       "Ciclo_Estacion_Retiro Fecha_Retiro                                      \n",
       "216                   2019-05-20              8.000             5.000   \n",
       "\n",
       "                                    (13.647, 15.841]  (15.841, 18.078]  \\\n",
       "Ciclo_Estacion_Retiro Fecha_Retiro                                       \n",
       "216                   2019-05-20               7.000             9.000   \n",
       "\n",
       "                                    (18.078, 19.535]  (19.535, 24.0]  \\\n",
       "Ciclo_Estacion_Retiro Fecha_Retiro                                     \n",
       "216                   2019-05-20              13.000          13.000   \n",
       "\n",
       "                                    (8.595, 10.455]  (-0.001, 8.595]_01  \\\n",
       "Ciclo_Estacion_Retiro Fecha_Retiro                                        \n",
       "216                   2019-05-20              6.000               0.000   \n",
       "\n",
       "                                    (10.455, 13.647]_01  (13.647, 15.841]_01  \\\n",
       "Ciclo_Estacion_Retiro Fecha_Retiro                                             \n",
       "216                   2019-05-20                  3.000                2.000   \n",
       "\n",
       "                                    ...  (18.078, 19.535]_08  \\\n",
       "Ciclo_Estacion_Retiro Fecha_Retiro  ...                        \n",
       "216                   2019-05-20    ...                3.000   \n",
       "\n",
       "                                    (19.535, 24.0]_08  (8.595, 10.455]_08  \\\n",
       "Ciclo_Estacion_Retiro Fecha_Retiro                                          \n",
       "216                   2019-05-20                0.000               1.000   \n",
       "\n",
       "                                    (-0.001, 8.595]_09  (10.455, 13.647]_09  \\\n",
       "Ciclo_Estacion_Retiro Fecha_Retiro                                            \n",
       "216                   2019-05-20                 2.000                2.000   \n",
       "\n",
       "                                    (13.647, 15.841]_09  (15.841, 18.078]_09  \\\n",
       "Ciclo_Estacion_Retiro Fecha_Retiro                                             \n",
       "216                   2019-05-20                  2.000                0.000   \n",
       "\n",
       "                                    (18.078, 19.535]_09  (19.535, 24.0]_09  \\\n",
       "Ciclo_Estacion_Retiro Fecha_Retiro                                           \n",
       "216                   2019-05-20                  4.000              3.000   \n",
       "\n",
       "                                    (8.595, 10.455]_09  \n",
       "Ciclo_Estacion_Retiro Fecha_Retiro                      \n",
       "216                   2019-05-20                 0.000  \n",
       "\n",
       "[1 rows x 70 columns]"
      ]
     },
     "execution_count": 28,
     "metadata": {},
     "output_type": "execute_result"
    }
   ],
   "source": [
    "#It took about 13min to complete, so we have now a backup file to not repeat that step\n",
    "df = pd.read_csv(os.path.join(BASE_DIR,'bicis_shift.csv'),index_col=[0,1]).dropna()\n",
    "df.sample()"
   ]
  },
  {
   "cell_type": "code",
   "execution_count": 29,
   "id": "armed-frank",
   "metadata": {
    "ExecuteTime": {
     "end_time": "2021-05-03T19:03:32.452195Z",
     "start_time": "2021-05-03T19:03:32.447162Z"
    },
    "hidden": true
   },
   "outputs": [
    {
     "name": "stdout",
     "output_type": "stream",
     "text": [
      "['(-0.001, 8.595]', '(10.455, 13.647]', '(13.647, 15.841]', '(15.841, 18.078]', '(18.078, 19.535]', '(19.535, 24.0]', '(8.595, 10.455]']\n"
     ]
    }
   ],
   "source": [
    "#Save the columns with the previous dates info\n",
    "prev = df.head().filter(regex='_\\d+').columns.tolist()\n",
    "actual = [x for x in df.columns if x not in prev]\n",
    "print(actual)"
   ]
  },
  {
   "cell_type": "markdown",
   "id": "referenced-track",
   "metadata": {
    "heading_collapsed": true
   },
   "source": [
    "## Daily Model"
   ]
  },
  {
   "cell_type": "markdown",
   "id": "fossil-spider",
   "metadata": {
    "heading_collapsed": true,
    "hidden": true
   },
   "source": [
    "### Preprocessing"
   ]
  },
  {
   "cell_type": "code",
   "execution_count": 25,
   "id": "chief-syndicate",
   "metadata": {
    "ExecuteTime": {
     "end_time": "2021-05-02T01:20:58.603396Z",
     "start_time": "2021-05-02T01:20:58.523264Z"
    },
    "hidden": true
   },
   "outputs": [],
   "source": [
    "from sklearn.preprocessing import MinMaxScaler\n",
    "from sklearn.model_selection import train_test_split\n",
    "\n",
    "X = df[prev].copy()\n",
    "y = df[actual].sum(axis=1).values\n",
    "\n",
    "X_train, X_test, y_train, y_test = train_test_split(X,y,\n",
    "                                                    train_size=0.77,\n",
    "                                                    random_state=22)\n",
    "mm_x = MinMaxScaler()"
   ]
  },
  {
   "cell_type": "markdown",
   "id": "afraid-being",
   "metadata": {
    "heading_collapsed": true,
    "hidden": true
   },
   "source": [
    "### Arquitecture"
   ]
  },
  {
   "cell_type": "code",
   "execution_count": 26,
   "id": "bacterial-tuition",
   "metadata": {
    "ExecuteTime": {
     "end_time": "2021-05-02T01:20:58.694493Z",
     "start_time": "2021-05-02T01:20:58.605442Z"
    },
    "hidden": true
   },
   "outputs": [
    {
     "name": "stdout",
     "output_type": "stream",
     "text": [
      "Score:  0.8967643672814342\n"
     ]
    },
    {
     "data": {
      "text/html": [
       "<div>\n",
       "<style scoped>\n",
       "    .dataframe tbody tr th:only-of-type {\n",
       "        vertical-align: middle;\n",
       "    }\n",
       "\n",
       "    .dataframe tbody tr th {\n",
       "        vertical-align: top;\n",
       "    }\n",
       "\n",
       "    .dataframe thead th {\n",
       "        text-align: right;\n",
       "    }\n",
       "</style>\n",
       "<table border=\"1\" class=\"dataframe\">\n",
       "  <thead>\n",
       "    <tr style=\"text-align: right;\">\n",
       "      <th></th>\n",
       "      <th>0</th>\n",
       "      <th>1</th>\n",
       "    </tr>\n",
       "  </thead>\n",
       "  <tbody>\n",
       "    <tr>\n",
       "      <th>0</th>\n",
       "      <td>(-0.001, 8.595]_07</td>\n",
       "      <td>160.352</td>\n",
       "    </tr>\n",
       "    <tr>\n",
       "      <th>1</th>\n",
       "      <td>(8.595, 10.455]_07</td>\n",
       "      <td>93.151</td>\n",
       "    </tr>\n",
       "    <tr>\n",
       "      <th>2</th>\n",
       "      <td>(13.647, 15.841]_07</td>\n",
       "      <td>55.503</td>\n",
       "    </tr>\n",
       "    <tr>\n",
       "      <th>3</th>\n",
       "      <td>(15.841, 18.078]_07</td>\n",
       "      <td>50.518</td>\n",
       "    </tr>\n",
       "    <tr>\n",
       "      <th>4</th>\n",
       "      <td>(-0.001, 8.595]_01</td>\n",
       "      <td>50.162</td>\n",
       "    </tr>\n",
       "    <tr>\n",
       "      <th>58</th>\n",
       "      <td>(19.535, 24.0]_03</td>\n",
       "      <td>-13.364</td>\n",
       "    </tr>\n",
       "    <tr>\n",
       "      <th>59</th>\n",
       "      <td>(19.535, 24.0]_08</td>\n",
       "      <td>-18.416</td>\n",
       "    </tr>\n",
       "    <tr>\n",
       "      <th>60</th>\n",
       "      <td>(8.595, 10.455]_02</td>\n",
       "      <td>-21.493</td>\n",
       "    </tr>\n",
       "    <tr>\n",
       "      <th>61</th>\n",
       "      <td>(-0.001, 8.595]_08</td>\n",
       "      <td>-25.503</td>\n",
       "    </tr>\n",
       "    <tr>\n",
       "      <th>62</th>\n",
       "      <td>(-0.001, 8.595]_05</td>\n",
       "      <td>-48.251</td>\n",
       "    </tr>\n",
       "  </tbody>\n",
       "</table>\n",
       "</div>"
      ],
      "text/plain": [
       "                      0       1\n",
       "0    (-0.001, 8.595]_07 160.352\n",
       "1    (8.595, 10.455]_07  93.151\n",
       "2   (13.647, 15.841]_07  55.503\n",
       "3   (15.841, 18.078]_07  50.518\n",
       "4    (-0.001, 8.595]_01  50.162\n",
       "58    (19.535, 24.0]_03 -13.364\n",
       "59    (19.535, 24.0]_08 -18.416\n",
       "60   (8.595, 10.455]_02 -21.493\n",
       "61   (-0.001, 8.595]_08 -25.503\n",
       "62   (-0.001, 8.595]_05 -48.251"
      ]
     },
     "execution_count": 26,
     "metadata": {},
     "output_type": "execute_result"
    }
   ],
   "source": [
    "from sklearn.pipeline import Pipeline\n",
    "from sklearn.linear_model import LinearRegression\n",
    "\n",
    "linear_reg = LinearRegression()\n",
    "\n",
    "model_reg = Pipeline(steps=[('scaler', mm_x),\n",
    "                            ('model', linear_reg)])\n",
    "\n",
    "print('Score: ',model_reg.fit(X_train,y_train).score(X_test,y_test))\n",
    "#The most relevant features to the model_reg\n",
    "coef = pd.DataFrame(zip(X.columns,model_reg[1].coef_)).sort_values(1,0,0).reset_index(drop=True)\n",
    "coef.head().append(coef.tail())"
   ]
  },
  {
   "cell_type": "code",
   "execution_count": 27,
   "id": "charming-prime",
   "metadata": {
    "ExecuteTime": {
     "end_time": "2021-05-02T01:21:01.753767Z",
     "start_time": "2021-05-02T01:20:58.696745Z"
    },
    "hidden": true
   },
   "outputs": [
    {
     "name": "stdout",
     "output_type": "stream",
     "text": [
      "0.9066158369976474\n"
     ]
    },
    {
     "data": {
      "text/html": [
       "<div>\n",
       "<style scoped>\n",
       "    .dataframe tbody tr th:only-of-type {\n",
       "        vertical-align: middle;\n",
       "    }\n",
       "\n",
       "    .dataframe tbody tr th {\n",
       "        vertical-align: top;\n",
       "    }\n",
       "\n",
       "    .dataframe thead th {\n",
       "        text-align: right;\n",
       "    }\n",
       "</style>\n",
       "<table border=\"1\" class=\"dataframe\">\n",
       "  <thead>\n",
       "    <tr style=\"text-align: right;\">\n",
       "      <th></th>\n",
       "      <th>0</th>\n",
       "      <th>1</th>\n",
       "    </tr>\n",
       "  </thead>\n",
       "  <tbody>\n",
       "    <tr>\n",
       "      <th>0</th>\n",
       "      <td>(13.647, 15.841]_07</td>\n",
       "      <td>0.317</td>\n",
       "    </tr>\n",
       "    <tr>\n",
       "      <th>1</th>\n",
       "      <td>(19.535, 24.0]_07</td>\n",
       "      <td>0.117</td>\n",
       "    </tr>\n",
       "    <tr>\n",
       "      <th>2</th>\n",
       "      <td>(-0.001, 8.595]_07</td>\n",
       "      <td>0.116</td>\n",
       "    </tr>\n",
       "    <tr>\n",
       "      <th>3</th>\n",
       "      <td>(8.595, 10.455]_07</td>\n",
       "      <td>0.103</td>\n",
       "    </tr>\n",
       "    <tr>\n",
       "      <th>4</th>\n",
       "      <td>(15.841, 18.078]_07</td>\n",
       "      <td>0.074</td>\n",
       "    </tr>\n",
       "    <tr>\n",
       "      <th>5</th>\n",
       "      <td>(18.078, 19.535]_07</td>\n",
       "      <td>0.045</td>\n",
       "    </tr>\n",
       "    <tr>\n",
       "      <th>6</th>\n",
       "      <td>(10.455, 13.647]_07</td>\n",
       "      <td>0.020</td>\n",
       "    </tr>\n",
       "    <tr>\n",
       "      <th>7</th>\n",
       "      <td>(8.595, 10.455]_01</td>\n",
       "      <td>0.016</td>\n",
       "    </tr>\n",
       "    <tr>\n",
       "      <th>8</th>\n",
       "      <td>(15.841, 18.078]_06</td>\n",
       "      <td>0.009</td>\n",
       "    </tr>\n",
       "    <tr>\n",
       "      <th>9</th>\n",
       "      <td>(19.535, 24.0]_01</td>\n",
       "      <td>0.009</td>\n",
       "    </tr>\n",
       "  </tbody>\n",
       "</table>\n",
       "</div>"
      ],
      "text/plain": [
       "                     0     1\n",
       "0  (13.647, 15.841]_07 0.317\n",
       "1    (19.535, 24.0]_07 0.117\n",
       "2   (-0.001, 8.595]_07 0.116\n",
       "3   (8.595, 10.455]_07 0.103\n",
       "4  (15.841, 18.078]_07 0.074\n",
       "5  (18.078, 19.535]_07 0.045\n",
       "6  (10.455, 13.647]_07 0.020\n",
       "7   (8.595, 10.455]_01 0.016\n",
       "8  (15.841, 18.078]_06 0.009\n",
       "9    (19.535, 24.0]_01 0.009"
      ]
     },
     "execution_count": 27,
     "metadata": {},
     "output_type": "execute_result"
    }
   ],
   "source": [
    "from sklearn.pipeline import Pipeline\n",
    "from sklearn.ensemble import RandomForestRegressor\n",
    "\n",
    "forest = RandomForestRegressor(n_jobs=-1,random_state=22)\n",
    "\n",
    "model_forest = Pipeline(steps=[('scaler', mm_x),\n",
    "                               ('model', forest)])\n",
    "\n",
    "print(model_forest.fit(X_train,y_train).score(X_test,y_test))\n",
    "\n",
    "#The most relevant features to the model_forest\n",
    "pd.DataFrame(zip(X.columns,model_forest[1].feature_importances_)).sort_values(1,0,0).head(10).reset_index(drop=True)"
   ]
  },
  {
   "cell_type": "code",
   "execution_count": 28,
   "id": "suburban-floor",
   "metadata": {
    "ExecuteTime": {
     "end_time": "2021-05-02T01:34:23.667072Z",
     "start_time": "2021-05-02T01:21:01.755756Z"
    },
    "hidden": true
   },
   "outputs": [
    {
     "name": "stdout",
     "output_type": "stream",
     "text": [
      "Fitting 4 folds for each of 70 candidates, totalling 280 fits\n",
      "0.9118657187871996\n"
     ]
    },
    {
     "data": {
      "text/html": [
       "<div>\n",
       "<style scoped>\n",
       "    .dataframe tbody tr th:only-of-type {\n",
       "        vertical-align: middle;\n",
       "    }\n",
       "\n",
       "    .dataframe tbody tr th {\n",
       "        vertical-align: top;\n",
       "    }\n",
       "\n",
       "    .dataframe thead th {\n",
       "        text-align: right;\n",
       "    }\n",
       "</style>\n",
       "<table border=\"1\" class=\"dataframe\">\n",
       "  <thead>\n",
       "    <tr style=\"text-align: right;\">\n",
       "      <th></th>\n",
       "      <th>0</th>\n",
       "      <th>1</th>\n",
       "    </tr>\n",
       "  </thead>\n",
       "  <tbody>\n",
       "    <tr>\n",
       "      <th>0</th>\n",
       "      <td>(13.647, 15.841]_07</td>\n",
       "      <td>0.189</td>\n",
       "    </tr>\n",
       "    <tr>\n",
       "      <th>1</th>\n",
       "      <td>(19.535, 24.0]_07</td>\n",
       "      <td>0.112</td>\n",
       "    </tr>\n",
       "    <tr>\n",
       "      <th>2</th>\n",
       "      <td>(15.841, 18.078]_07</td>\n",
       "      <td>0.106</td>\n",
       "    </tr>\n",
       "    <tr>\n",
       "      <th>3</th>\n",
       "      <td>(8.595, 10.455]_07</td>\n",
       "      <td>0.093</td>\n",
       "    </tr>\n",
       "    <tr>\n",
       "      <th>4</th>\n",
       "      <td>(10.455, 13.647]_07</td>\n",
       "      <td>0.082</td>\n",
       "    </tr>\n",
       "    <tr>\n",
       "      <th>5</th>\n",
       "      <td>(-0.001, 8.595]_07</td>\n",
       "      <td>0.072</td>\n",
       "    </tr>\n",
       "    <tr>\n",
       "      <th>6</th>\n",
       "      <td>(18.078, 19.535]_07</td>\n",
       "      <td>0.046</td>\n",
       "    </tr>\n",
       "    <tr>\n",
       "      <th>7</th>\n",
       "      <td>(19.535, 24.0]_01</td>\n",
       "      <td>0.025</td>\n",
       "    </tr>\n",
       "    <tr>\n",
       "      <th>8</th>\n",
       "      <td>(8.595, 10.455]_01</td>\n",
       "      <td>0.022</td>\n",
       "    </tr>\n",
       "    <tr>\n",
       "      <th>9</th>\n",
       "      <td>(10.455, 13.647]_06</td>\n",
       "      <td>0.022</td>\n",
       "    </tr>\n",
       "  </tbody>\n",
       "</table>\n",
       "</div>"
      ],
      "text/plain": [
       "                     0     1\n",
       "0  (13.647, 15.841]_07 0.189\n",
       "1    (19.535, 24.0]_07 0.112\n",
       "2  (15.841, 18.078]_07 0.106\n",
       "3   (8.595, 10.455]_07 0.093\n",
       "4  (10.455, 13.647]_07 0.082\n",
       "5   (-0.001, 8.595]_07 0.072\n",
       "6  (18.078, 19.535]_07 0.046\n",
       "7    (19.535, 24.0]_01 0.025\n",
       "8   (8.595, 10.455]_01 0.022\n",
       "9  (10.455, 13.647]_06 0.022"
      ]
     },
     "execution_count": 28,
     "metadata": {},
     "output_type": "execute_result"
    }
   ],
   "source": [
    "from xgboost.sklearn import XGBRegressor\n",
    "xgb = XGBRegressor()\n",
    "\n",
    "param_xgb = {'learning_rate':[x/100 for x in range(1,52,5)],\n",
    "             'n_estimators':[x for x in range(100,1100,100)],\n",
    "             'max_depth':[x for x in range(1,11)], \n",
    "             'min_child_weight':[x/10 for x in range(1,101,10)],\n",
    "             'reg_lambda': [x/10 for x in range(1,101,10)]\n",
    "            }\n",
    "            \n",
    "from sklearn.model_selection import RandomizedSearchCV\n",
    "search_xgb = RandomizedSearchCV(param_distributions = param_xgb, \n",
    "                                cv = 4, \n",
    "                                n_jobs = -1, \n",
    "                                scoring = 'r2', \n",
    "                                estimator = xgb, \n",
    "                                verbose = 1,\n",
    "                                n_iter = 70,\n",
    "                                random_state = 22)\n",
    "\n",
    "model_xgb = Pipeline(steps=[('scaler', mm_x),\n",
    "                            ('model', search_xgb)])\n",
    "\n",
    "print(model_xgb.fit(X_train,y_train).score(X_test,y_test))\n",
    "\n",
    "#The most relevant features to the model_xgb\n",
    "pd.DataFrame(zip(X.columns,model_xgb[1].best_estimator_.feature_importances_)).sort_values(1,0,0).head(10).reset_index(drop=True)"
   ]
  },
  {
   "cell_type": "markdown",
   "id": "ranking-strategy",
   "metadata": {
    "heading_collapsed": true,
    "hidden": true
   },
   "source": [
    "### Save the model"
   ]
  },
  {
   "cell_type": "code",
   "execution_count": 30,
   "id": "elementary-controversy",
   "metadata": {
    "ExecuteTime": {
     "end_time": "2021-05-02T01:40:39.999545Z",
     "start_time": "2021-05-02T01:40:39.898479Z"
    },
    "hidden": true
   },
   "outputs": [],
   "source": [
    "import pickle\n",
    "with open(os.path.join(BASE_DIR,'bici_day_model.pkl'), 'wb') as f:\n",
    "    pickle.dump((model_xgb,[prev,actual]), f)"
   ]
  },
  {
   "cell_type": "markdown",
   "id": "comparative-receiver",
   "metadata": {
    "hidden": true
   },
   "source": [
    "import pickle    \n",
    "with open(os.path.join(BASE_DIR,'bici_day_model.pkl'), 'rb') as f:\n",
    "    modelo = pickle.load(f)"
   ]
  },
  {
   "cell_type": "markdown",
   "id": "mechanical-carpet",
   "metadata": {
    "heading_collapsed": true
   },
   "source": [
    "## Timewindow Model"
   ]
  },
  {
   "cell_type": "markdown",
   "id": "8e519528",
   "metadata": {
    "ExecuteTime": {
     "end_time": "2021-05-03T19:05:48.317894Z",
     "start_time": "2021-05-03T19:05:48.309187Z"
    },
    "heading_collapsed": true,
    "hidden": true
   },
   "source": [
    "### Preprocessing"
   ]
  },
  {
   "cell_type": "code",
   "execution_count": 297,
   "id": "fantastic-visit",
   "metadata": {
    "ExecuteTime": {
     "end_time": "2021-05-03T23:23:45.512666Z",
     "start_time": "2021-05-03T23:23:45.459626Z"
    },
    "hidden": true,
    "scrolled": true
   },
   "outputs": [],
   "source": [
    "from sklearn.preprocessing import MinMaxScaler\n",
    "from sklearn.model_selection import train_test_split\n",
    "\n",
    "mm_x = MinMaxScaler()\n",
    "\n",
    "X = df[prev].values\n",
    "y = df[actual].values\n",
    "\n",
    "X_train, X_test, y_train, y_test = train_test_split(X,y,\n",
    "                                                    train_size=0.77,\n",
    "                                                    random_state=22)"
   ]
  },
  {
   "cell_type": "markdown",
   "id": "1a5325cc",
   "metadata": {
    "heading_collapsed": true,
    "hidden": true
   },
   "source": [
    "### Multi-output"
   ]
  },
  {
   "cell_type": "code",
   "execution_count": 200,
   "id": "cd99abbf",
   "metadata": {
    "ExecuteTime": {
     "end_time": "2021-05-03T22:42:15.211257Z",
     "start_time": "2021-05-03T22:41:45.741201Z"
    },
    "hidden": true
   },
   "outputs": [
    {
     "name": "stdout",
     "output_type": "stream",
     "text": [
      "0.7551450809412302\n"
     ]
    }
   ],
   "source": [
    "from sklearn.pipeline import Pipeline\n",
    "from sklearn.ensemble import RandomForestRegressor\n",
    "from sklearn.multioutput import MultiOutputRegressor\n",
    "\n",
    "forest = MultiOutputRegressor(RandomForestRegressor(n_jobs=-1,random_state=22))\n",
    "\n",
    "model_forest = Pipeline(steps=[('scaler', mm_x),\n",
    "                               ('model', forest)])\n",
    "\n",
    "print(model_forest.fit(X_train,y_train).score(X_test,y_test))"
   ]
  },
  {
   "cell_type": "markdown",
   "id": "853a22fa",
   "metadata": {
    "heading_collapsed": true,
    "hidden": true
   },
   "source": [
    "### RNN"
   ]
  },
  {
   "cell_type": "code",
   "execution_count": null,
   "id": "d5d0c386",
   "metadata": {
    "hidden": true
   },
   "outputs": [],
   "source": [
    "mm_y = MinMaxScaler()\n",
    "\n",
    "X_train = mm_x.fit_transform(X_train)\n",
    "X_test = mm_x.transform(X_test)\n",
    "y_train = mm_y.fit_transform(y_train)\n",
    "y_test = mm_y.transform(y_test)"
   ]
  },
  {
   "cell_type": "code",
   "execution_count": 307,
   "id": "returning-death",
   "metadata": {
    "ExecuteTime": {
     "end_time": "2021-05-03T23:28:24.283989Z",
     "start_time": "2021-05-03T23:28:24.272031Z"
    },
    "hidden": true
   },
   "outputs": [],
   "source": [
    "'''!pip install tensorflow'''\n",
    "from tensorflow.keras import Input,Model,regularizers\n",
    "from tensorflow.keras.layers import Embedding,Bidirectional,GRU,LSTM,Dropout,Dense,LeakyReLU\n",
    "\n",
    "def time_rnn_builder(X,target,Rlayers,Flayers,drop_out=0.2,reg_l2=0.01,gru=False):\n",
    "    X = np.reshape(X,(X.shape[0],X.shape[1],1))\n",
    "    X = Input(shape=X.shape[1:]) \n",
    "    y = X\n",
    "    #Loop over the units-per-layer provided\n",
    "    n = len(Rlayers)\n",
    "    for i,layer in enumerate(Rlayers):\n",
    "        #**kwarg to return sequence unless it's the last recurrent layer\n",
    "        seq = {'return_sequences':True if i < n-1 else False}\n",
    "        #Append one GRU/LSTM layer with the units from the iteration\n",
    "        y = Bidirectional((GRU(units=layer,**seq))\n",
    "                          if gru else\n",
    "                          (LSTM(units=layer,**seq)))(y)\n",
    "        #Exclude % of previous layer to avoid overtfitting\n",
    "        y = Dropout(drop_out)(y)\n",
    "    for layer in Flayers:\n",
    "        y = Dense(layer,kernel_regularizer=regularizers.l2(reg_l2))(y)\n",
    "        y = LeakyReLU()(y)\n",
    "    y = Dense(len(target[0]))(y)\n",
    "    model = Model(X, y)\n",
    "    print(model.summary())\n",
    "    return model"
   ]
  },
  {
   "cell_type": "code",
   "execution_count": 310,
   "id": "c3d175f8",
   "metadata": {
    "ExecuteTime": {
     "end_time": "2021-05-03T23:32:26.503831Z",
     "start_time": "2021-05-03T23:32:25.239107Z"
    },
    "hidden": true
   },
   "outputs": [
    {
     "name": "stdout",
     "output_type": "stream",
     "text": [
      "Model: \"model_48\"\n",
      "_________________________________________________________________\n",
      "Layer (type)                 Output Shape              Param #   \n",
      "=================================================================\n",
      "input_75 (InputLayer)        [(None, 63, 1)]           0         \n",
      "_________________________________________________________________\n",
      "bidirectional_78 (Bidirectio (None, 63, 256)           100608    \n",
      "_________________________________________________________________\n",
      "dropout_105 (Dropout)        (None, 63, 256)           0         \n",
      "_________________________________________________________________\n",
      "bidirectional_79 (Bidirectio (None, 256)               296448    \n",
      "_________________________________________________________________\n",
      "dropout_106 (Dropout)        (None, 256)               0         \n",
      "_________________________________________________________________\n",
      "dense_75 (Dense)             (None, 128)               32896     \n",
      "_________________________________________________________________\n",
      "leaky_re_lu_60 (LeakyReLU)   (None, 128)               0         \n",
      "_________________________________________________________________\n",
      "dense_76 (Dense)             (None, 7)                 903       \n",
      "=================================================================\n",
      "Total params: 430,855\n",
      "Trainable params: 430,855\n",
      "Non-trainable params: 0\n",
      "_________________________________________________________________\n",
      "None\n"
     ]
    }
   ],
   "source": [
    "model = time_rnn_builder(X_train,y_train,[128,128],[128],gru=True)"
   ]
  },
  {
   "cell_type": "code",
   "execution_count": 311,
   "id": "apart-cancer",
   "metadata": {
    "ExecuteTime": {
     "end_time": "2021-05-04T00:35:31.340782Z",
     "start_time": "2021-05-03T23:32:26.925287Z"
    },
    "hidden": true
   },
   "outputs": [
    {
     "name": "stdout",
     "output_type": "stream",
     "text": [
      "Epoch 1/22\n",
      "368/368 [==============================] - 43s 98ms/step - loss: 0.5009 - r2: 0.3736 - val_loss: 0.0043 - val_r2: 0.5720\n",
      "Epoch 2/22\n",
      "368/368 [==============================] - 39s 105ms/step - loss: 0.0046 - r2: 0.5422 - val_loss: 0.0043 - val_r2: 0.5652\n",
      "Epoch 3/22\n",
      "368/368 [==============================] - 40s 108ms/step - loss: 0.0043 - r2: 0.5689 - val_loss: 0.0042 - val_r2: 0.6031\n",
      "Epoch 4/22\n",
      "368/368 [==============================] - 39s 105ms/step - loss: 0.0044 - r2: 0.5738 - val_loss: 0.0063 - val_r2: 0.3908\n",
      "Epoch 5/22\n",
      "368/368 [==============================] - 38s 104ms/step - loss: 0.0042 - r2: 0.5903 - val_loss: 0.0040 - val_r2: 0.6192\n",
      "Epoch 6/22\n",
      "368/368 [==============================] - 39s 106ms/step - loss: 0.0041 - r2: 0.5995 - val_loss: 0.0037 - val_r2: 0.6315\n",
      "Epoch 7/22\n",
      "368/368 [==============================] - 40s 108ms/step - loss: 0.0039 - r2: 0.6080 - val_loss: 0.0045 - val_r2: 0.5859\n",
      "Epoch 8/22\n",
      "368/368 [==============================] - 40s 108ms/step - loss: 0.0039 - r2: 0.6130 - val_loss: 0.0038 - val_r2: 0.6370\n",
      "Epoch 9/22\n",
      "368/368 [==============================] - 39s 105ms/step - loss: 0.0039 - r2: 0.6220 - val_loss: 0.0040 - val_r2: 0.6185\n",
      "Epoch 10/22\n",
      "368/368 [==============================] - 40s 108ms/step - loss: 0.0038 - r2: 0.6305 - val_loss: 0.0034 - val_r2: 0.6663\n",
      "Epoch 11/22\n",
      "368/368 [==============================] - 40s 109ms/step - loss: 0.0037 - r2: 0.6342 - val_loss: 0.0035 - val_r2: 0.6678\n",
      "Epoch 12/22\n",
      "368/368 [==============================] - 38s 102ms/step - loss: 0.0036 - r2: 0.6454 - val_loss: 0.0033 - val_r2: 0.6850\n",
      "Epoch 13/22\n",
      "368/368 [==============================] - 3032s 8s/step - loss: 0.0036 - r2: 0.6478 - val_loss: 0.0033 - val_r2: 0.6778\n",
      "Epoch 14/22\n",
      "368/368 [==============================] - 35s 94ms/step - loss: 0.0035 - r2: 0.6636 - val_loss: 0.0036 - val_r2: 0.6747\n",
      "Epoch 15/22\n",
      "368/368 [==============================] - 30s 81ms/step - loss: 0.0034 - r2: 0.6471 - val_loss: 0.0036 - val_r2: 0.6681\n",
      "Epoch 16/22\n",
      "368/368 [==============================] - 31s 83ms/step - loss: 0.0037 - r2: 0.6512 - val_loss: 0.0033 - val_r2: 0.6817\n",
      "Epoch 17/22\n",
      "368/368 [==============================] - 30s 82ms/step - loss: 0.0033 - r2: 0.6620 - val_loss: 0.0033 - val_r2: 0.6848\n",
      "Epoch 18/22\n",
      "368/368 [==============================] - 34s 91ms/step - loss: 0.0034 - r2: 0.6670 - val_loss: 0.0031 - val_r2: 0.6970\n",
      "Epoch 19/22\n",
      "368/368 [==============================] - 31s 83ms/step - loss: 0.0033 - r2: 0.6767 - val_loss: 0.0033 - val_r2: 0.6832\n",
      "Epoch 20/22\n",
      "368/368 [==============================] - 30s 83ms/step - loss: 0.0033 - r2: 0.6656 - val_loss: 0.0033 - val_r2: 0.6901\n",
      "Epoch 21/22\n",
      "368/368 [==============================] - 30s 81ms/step - loss: 0.0033 - r2: 0.6693 - val_loss: 0.0034 - val_r2: 0.6893\n",
      "Epoch 22/22\n",
      "368/368 [==============================] - 30s 81ms/step - loss: 0.0033 - r2: 0.6746 - val_loss: 0.0038 - val_r2: 0.6502\n"
     ]
    },
    {
     "data": {
      "text/plain": [
       "<tensorflow.python.keras.callbacks.History at 0x7fcd54c154c0>"
      ]
     },
     "execution_count": 311,
     "metadata": {},
     "output_type": "execute_result"
    }
   ],
   "source": [
    "model.compile(optimizer='adam', loss='mean_squared_error', metrics=[r2])\n",
    "model.fit(X_train, y_train,\n",
    "          epochs=22,\n",
    "          batch_size=22,\n",
    "          shuffle=True,\n",
    "          validation_data=(X_test, y_test))"
   ]
  },
  {
   "cell_type": "code",
   "execution_count": 312,
   "id": "05a150fe",
   "metadata": {
    "ExecuteTime": {
     "end_time": "2021-05-04T00:35:33.674685Z",
     "start_time": "2021-05-04T00:35:31.695263Z"
    },
    "hidden": true
   },
   "outputs": [
    {
     "data": {
      "text/html": [
       "<div>\n",
       "<style scoped>\n",
       "    .dataframe tbody tr th:only-of-type {\n",
       "        vertical-align: middle;\n",
       "    }\n",
       "\n",
       "    .dataframe tbody tr th {\n",
       "        vertical-align: top;\n",
       "    }\n",
       "\n",
       "    .dataframe thead th {\n",
       "        text-align: right;\n",
       "    }\n",
       "</style>\n",
       "<table border=\"1\" class=\"dataframe\">\n",
       "  <thead>\n",
       "    <tr style=\"text-align: right;\">\n",
       "      <th></th>\n",
       "      <th>real</th>\n",
       "      <th>est</th>\n",
       "    </tr>\n",
       "  </thead>\n",
       "  <tbody>\n",
       "    <tr>\n",
       "      <th>0</th>\n",
       "      <td>15.000</td>\n",
       "      <td>9.615</td>\n",
       "    </tr>\n",
       "    <tr>\n",
       "      <th>1</th>\n",
       "      <td>9.000</td>\n",
       "      <td>9.192</td>\n",
       "    </tr>\n",
       "    <tr>\n",
       "      <th>2</th>\n",
       "      <td>3.000</td>\n",
       "      <td>9.181</td>\n",
       "    </tr>\n",
       "    <tr>\n",
       "      <th>3</th>\n",
       "      <td>13.000</td>\n",
       "      <td>8.056</td>\n",
       "    </tr>\n",
       "    <tr>\n",
       "      <th>4</th>\n",
       "      <td>5.000</td>\n",
       "      <td>6.843</td>\n",
       "    </tr>\n",
       "    <tr>\n",
       "      <th>5</th>\n",
       "      <td>6.000</td>\n",
       "      <td>7.275</td>\n",
       "    </tr>\n",
       "    <tr>\n",
       "      <th>6</th>\n",
       "      <td>11.000</td>\n",
       "      <td>8.831</td>\n",
       "    </tr>\n",
       "  </tbody>\n",
       "</table>\n",
       "</div>"
      ],
      "text/plain": [
       "    real   est\n",
       "0 15.000 9.615\n",
       "1  9.000 9.192\n",
       "2  3.000 9.181\n",
       "3 13.000 8.056\n",
       "4  5.000 6.843\n",
       "5  6.000 7.275\n",
       "6 11.000 8.831"
      ]
     },
     "execution_count": 312,
     "metadata": {},
     "output_type": "execute_result"
    }
   ],
   "source": [
    "pd.DataFrame([y[28],mm_y.inverse_transform(model.predict(mm_x.transform(X[28:29])))[0]],\n",
    "            index=['real','est']).T"
   ]
  },
  {
   "cell_type": "markdown",
   "id": "caa41079",
   "metadata": {
    "heading_collapsed": true,
    "hidden": true
   },
   "source": [
    "### Save the model"
   ]
  },
  {
   "cell_type": "code",
   "execution_count": 315,
   "id": "ecdc7d10",
   "metadata": {
    "ExecuteTime": {
     "end_time": "2021-05-04T00:56:34.775133Z",
     "start_time": "2021-05-04T00:56:34.596047Z"
    },
    "hidden": true
   },
   "outputs": [],
   "source": [
    "import pickle\n",
    "\n",
    "#First, save the architecture\n",
    "with open(os.path.join(BASE_DIR,'rnn_ecobici_architecture.json'), 'w') as f:\n",
    "    f.write(model.to_json())\n",
    "\n",
    "#Then, the paramaters learned by itself\n",
    "model.save_weights(os.path.join(BASE_DIR,'rnn_ecobici_weights.h5'))"
   ]
  },
  {
   "cell_type": "markdown",
   "id": "5db6e27a",
   "metadata": {
    "hidden": true
   },
   "source": [
    "import pickle\n",
    "from keras.models import model_from_json\n",
    "\n",
    "with open(os.path.join(BASE_DIR,'rnn_ecobici_architecture.json'), 'r') as f:\n",
    "    model = model_from_json(f.read())\n",
    "\n",
    "#Now, we can use this model whenever we want!\n",
    "model.load_weights(os.path.join(BASE_DIR,'rnn_ecobici_weights.h5'))\n",
    "model.compile(optimizer='adam', loss='mean_squared_error', metrics=[r2])"
   ]
  },
  {
   "cell_type": "code",
   "execution_count": null,
   "id": "404e774f",
   "metadata": {
    "hidden": true
   },
   "outputs": [],
   "source": []
  },
  {
   "cell_type": "code",
   "execution_count": null,
   "id": "de18eac8",
   "metadata": {
    "hidden": true
   },
   "outputs": [],
   "source": []
  },
  {
   "cell_type": "code",
   "execution_count": null,
   "id": "1ac05161",
   "metadata": {
    "hidden": true
   },
   "outputs": [],
   "source": []
  },
  {
   "cell_type": "code",
   "execution_count": null,
   "id": "45839bcc",
   "metadata": {
    "hidden": true
   },
   "outputs": [],
   "source": []
  },
  {
   "cell_type": "code",
   "execution_count": null,
   "id": "b1a81309",
   "metadata": {
    "hidden": true
   },
   "outputs": [],
   "source": []
  },
  {
   "cell_type": "code",
   "execution_count": null,
   "id": "ed2f46ee",
   "metadata": {
    "hidden": true
   },
   "outputs": [],
   "source": []
  },
  {
   "cell_type": "code",
   "execution_count": null,
   "id": "immune-latest",
   "metadata": {
    "hidden": true
   },
   "outputs": [],
   "source": []
  },
  {
   "cell_type": "code",
   "execution_count": null,
   "id": "facial-revolution",
   "metadata": {
    "hidden": true
   },
   "outputs": [],
   "source": []
  },
  {
   "cell_type": "code",
   "execution_count": null,
   "id": "romantic-glass",
   "metadata": {
    "hidden": true
   },
   "outputs": [],
   "source": []
  },
  {
   "cell_type": "markdown",
   "id": "foreign-pollution",
   "metadata": {},
   "source": [
    "## End"
   ]
  },
  {
   "cell_type": "code",
   "execution_count": null,
   "id": "controlling-gateway",
   "metadata": {
    "ExecuteTime": {
     "end_time": "2021-05-03T23:32:19.369486Z",
     "start_time": "2021-05-03T23:28:50.195Z"
    }
   },
   "outputs": [],
   "source": [
    "time_exp(time.time() - start)\n",
    "tone()"
   ]
  }
 ],
 "metadata": {
  "kernelspec": {
   "display_name": "Python 3",
   "language": "python",
   "name": "python3"
  },
  "language_info": {
   "codemirror_mode": {
    "name": "ipython",
    "version": 3
   },
   "file_extension": ".py",
   "mimetype": "text/x-python",
   "name": "python",
   "nbconvert_exporter": "python",
   "pygments_lexer": "ipython3",
   "version": "3.9.1"
  },
  "toc": {
   "base_numbering": 1,
   "nav_menu": {},
   "number_sections": true,
   "sideBar": true,
   "skip_h1_title": true,
   "title_cell": "Table of Contents",
   "title_sidebar": "Contents",
   "toc_cell": false,
   "toc_position": {
    "height": "calc(100% - 180px)",
    "left": "10px",
    "top": "150px",
    "width": "292.641px"
   },
   "toc_section_display": true,
   "toc_window_display": true
  },
  "varInspector": {
   "cols": {
    "lenName": 16,
    "lenType": 16,
    "lenVar": 40
   },
   "kernels_config": {
    "python": {
     "delete_cmd_postfix": "",
     "delete_cmd_prefix": "del ",
     "library": "var_list.py",
     "varRefreshCmd": "print(var_dic_list())"
    },
    "r": {
     "delete_cmd_postfix": ") ",
     "delete_cmd_prefix": "rm(",
     "library": "var_list.r",
     "varRefreshCmd": "cat(var_dic_list()) "
    }
   },
   "types_to_exclude": [
    "module",
    "function",
    "builtin_function_or_method",
    "instance",
    "_Feature"
   ],
   "window_display": false
  }
 },
 "nbformat": 4,
 "nbformat_minor": 5
}
