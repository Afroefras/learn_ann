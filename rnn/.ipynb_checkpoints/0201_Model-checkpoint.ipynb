{
 "cells": [
  {
   "cell_type": "markdown",
   "metadata": {
    "id": "0giL4C7FrgfE"
   },
   "source": [
    "# Generate Asimov's writing"
   ]
  },
  {
   "cell_type": "markdown",
   "metadata": {
    "id": "ZXbkVMMfro4B"
   },
   "source": [
    "## Parameters"
   ]
  },
  {
   "cell_type": "code",
   "execution_count": 1,
   "metadata": {
    "ExecuteTime": {
     "end_time": "2021-04-19T16:58:24.864112Z",
     "start_time": "2021-04-19T16:58:24.851941Z"
    },
    "colab": {
     "base_uri": "https://localhost:8080/"
    },
    "id": "6tLJIWJGrGZ1",
    "outputId": "56dddc19-09ad-4a0f-9b6d-dacf958f0ea6"
   },
   "outputs": [
    {
     "name": "stdout",
     "output_type": "stream",
     "text": [
      "['glove.6B.300d.txt', '.DS_Store', 'glove.6B.100d.txt', 'corpus.txt', 'glove.6B.50d.txt', 'rnn_asimov_weights.h5', 'project', 'glove.6B.200d.txt', 'rnn_asimov_architecture.json', 'glove.6B.zip', 'rnn_asimov_tokenizer.pickle', 'The_Last_Question.pdf']\n"
     ]
    }
   ],
   "source": [
    "import os\n",
    "\n",
    "BASE_DIR = '/Users/efraflores/Desktop/EF/Diplo/Asimov' #'/content' if you're using GColab\n",
    "print(os.listdir(BASE_DIR))\n",
    "SPLIT_PATTERN = \"[\\.\\?\\!]\" #How you want to split your text into sentences\n",
    "UNITS_LIST = [100,50] #List of units for the RNN\n",
    "EMBEDDING_DIM = 300 #from (50,100,200,300) possible embeddings with GloVe\n",
    "EPOCHS = 100"
   ]
  },
  {
   "cell_type": "markdown",
   "metadata": {
    "heading_collapsed": true,
    "id": "vI0mi651rj7P"
   },
   "source": [
    "## Functions"
   ]
  },
  {
   "cell_type": "code",
   "execution_count": 2,
   "metadata": {
    "ExecuteTime": {
     "end_time": "2021-04-19T16:58:24.873045Z",
     "start_time": "2021-04-19T16:58:24.867279Z"
    },
    "hidden": true,
    "id": "x2_LSo63re9m"
   },
   "outputs": [],
   "source": [
    "import time\n",
    "import numpy as np\n",
    "from IPython.lib.display import Audio\n",
    "\n",
    "start = time.time()\n",
    "def time_exp(x):\n",
    "    #Just print how many minutes and seconds have passed\n",
    "    minutes, seconds = np.floor(x/60), 60*(x/60-np.floor(x/60))\n",
    "    print(f\"{'{:.0f}'.format(minutes)} minutos con {'{:.2f}'.format(seconds)} segundos\")\n",
    "    \n",
    "def tone(a=1000, b=700, play_time_seconds=1, framerate=4410):\n",
    "    #Make a sound! Useful while training models\n",
    "    t = np.linspace(0, play_time_seconds, framerate*play_time_seconds)*np.pi\n",
    "    return Audio(np.sin(a*t)+np.sin(b*t), rate=framerate, autoplay=True)"
   ]
  },
  {
   "cell_type": "code",
   "execution_count": 3,
   "metadata": {
    "ExecuteTime": {
     "end_time": "2021-04-19T16:58:27.945892Z",
     "start_time": "2021-04-19T16:58:24.878013Z"
    },
    "colab": {
     "base_uri": "https://localhost:8080/"
    },
    "hidden": true,
    "id": "zY5SJgAbr4mT",
    "outputId": "55b2616e-e9c9-4e0e-f183-09cfc8ff9604"
   },
   "outputs": [
    {
     "name": "stdout",
     "output_type": "stream",
     "text": [
      "\n",
      "Basic cleaning:\t\t i am going to run i ran while i was running\n",
      "Changing the pattern:\t i am going to run!!! i ran while i was running ...\n",
      "Without stopwords:\t going run ran running\n",
      "Lemmatizing verbs:\t i be go to run i run while i be run\n",
      "No stopwords and lemma:\t go run run run\n",
      "\n",
      "It actually corrects the weird accents, example\n",
      "\tFROM: Èl ÉfrâïsMa's?...\n",
      "\tTO: el efraisma's\n"
     ]
    }
   ],
   "source": [
    "#Uncomment the following lines if it's the first time you run this packages\n",
    "'''import nltk\n",
    "nltk.download('stopwords')\n",
    "nltk.download('wordnet')\n",
    "'''\n",
    "import re\n",
    "import unicodedata\n",
    "from nltk.corpus import stopwords\n",
    "from nltk.stem import WordNetLemmatizer\n",
    "\n",
    "lem = WordNetLemmatizer()\n",
    "\n",
    "def clean_text(text,\n",
    "               language='english',\n",
    "               pattern=\"[^a-zA-Z' ]\",\n",
    "               lemma=False,\n",
    "               remove_stopwords=False,\n",
    "               add_stopwords=[]):\n",
    "    #It clean and can remove stopwords or even lemmatize words if specified in params\n",
    "    cleaned_text = unicodedata.normalize('NFD', str(text)).encode('ascii', 'ignore')\n",
    "    cleaned_text = re.sub(pattern,' ',cleaned_text.decode('utf-8'),flags=re.UNICODE)\n",
    "    cleaned_text = ' '.join([(lem.lemmatize(word,pos='v') if lemma else word) for word in \n",
    "                             cleaned_text.lower().split() if word not in \n",
    "                             (stopwords.words(language)+add_stopwords if remove_stopwords else '')])\n",
    "    return cleaned_text\n",
    "\n",
    "#Ex\n",
    "print('\\nBasic cleaning:\\t\\t',clean_text(\"I am going to run!!! I ran while I was running??? ...\"))\n",
    "print('Changing the pattern:\\t',clean_text(\"I am going to run!!! I ran while I was running??? ...\",pattern=\"[^a-zA-Z!\\.]\"))\n",
    "print('Without stopwords:\\t',clean_text(\"I am going to run!!! I ran while I was running??? ...\",remove_stopwords=True))\n",
    "print('Lemmatizing verbs:\\t',clean_text(\"I am going to run!!! I ran while I was running??? ...\",lemma=True))\n",
    "print('No stopwords and lemma:\\t',clean_text(\"I am going to run!!! I ran while I was running??? ...\",remove_stopwords=True,lemma=True))\n",
    "print(\"\\nIt actually corrects the weird accents, example\\n\\tFROM: Èl ÉfrâïsMa's?...\\n\\tTO:\",clean_text(\"Èl ÉfrâïsMa's?...\"))"
   ]
  },
  {
   "cell_type": "code",
   "execution_count": 4,
   "metadata": {
    "ExecuteTime": {
     "end_time": "2021-04-19T16:58:28.349788Z",
     "start_time": "2021-04-19T16:58:27.948885Z"
    },
    "colab": {
     "base_uri": "https://localhost:8080/"
    },
    "hidden": true,
    "id": "Vi0DQoSio09f",
    "outputId": "bbf2dc14-73ed-4a6e-8daa-ab3f0a0e8c7f"
   },
   "outputs": [],
   "source": [
    "#Install this package to read PDFs\n",
    "'''!pip install pyPDF2'''\n",
    "import re\n",
    "import os\n",
    "import PyPDF2\n",
    "import warnings\n",
    "import pandas as pd\n",
    "\n",
    "warnings.filterwarnings(\"ignore\",message=\"Xref table not zero-indexed. ID numbers for objects will be corrected.\")\n",
    "\n",
    "def pdfs_to_sentences(base_dir,split_pattern,output_name='corpus.txt',**clean_args):\n",
    "    total_pages = []\n",
    "    #Loop over all pdf docs in the path provided\n",
    "    for pdf_file in [pdf for pdf in os.listdir(base_dir) if pdf[-4:]=='.pdf']:\n",
    "        #Read every page of a PDF file\n",
    "        pdf_reader = PyPDF2.PdfFileReader(open(os.path.join(base_dir,pdf_file),'rb'))\n",
    "        pdf_text = [pdf_reader.getPage(p).extractText() for p in range(pdf_reader.numPages)]\n",
    "        #Concat all pages for each file\n",
    "        total_pages.append(' '.join(pdf_text))\n",
    "    #Concat all pdf files as a string object and export it as txt\n",
    "    pd.DataFrame(' '.join(total_pages),\n",
    "                 index=[''],columns=['']).to_csv(os.path.join(base_dir,output_name))\n",
    "    with open(os.path.join(base_dir,output_name)) as txt:\n",
    "        #Make sentences with the split-pattern provided\n",
    "        corpus = re.split(split_pattern,txt.read())\n",
    "        #Clean text with additional parameters if specified\n",
    "        corpus = [clean_text(x,**clean_args).strip() for x in corpus]\n",
    "    #Return just the non-empty sentences\n",
    "    return [x for x in corpus if len(x)>0]"
   ]
  },
  {
   "cell_type": "code",
   "execution_count": 5,
   "metadata": {
    "ExecuteTime": {
     "end_time": "2021-04-19T16:58:35.894407Z",
     "start_time": "2021-04-19T16:58:28.352169Z"
    },
    "colab": {
     "base_uri": "https://localhost:8080/"
    },
    "hidden": true,
    "id": "PE9ffpNH7zwT",
    "outputId": "60940396-edbe-41b9-c0bf-58c1517ef1a0"
   },
   "outputs": [
    {
     "name": "stdout",
     "output_type": "stream",
     "text": [
      "INFO:tensorflow:Enabling eager execution\n",
      "INFO:tensorflow:Enabling v2 tensorshape\n",
      "INFO:tensorflow:Enabling resource variables\n",
      "INFO:tensorflow:Enabling tensor equality\n",
      "INFO:tensorflow:Enabling control flow v2\n",
      "[[0 0 0 1]\n",
      " [0 0 1 2]\n",
      " [0 0 0 5]\n",
      " [0 0 0 1]\n",
      " [0 0 1 2]\n",
      " [0 1 2 7]\n",
      " [1 2 7 3]\n",
      " [0 0 0 9]\n",
      " [0 0 9 1]\n",
      " [0 9 1 2]\n",
      " [0 0 0 3]] \n",
      "\n",
      " [[0. 0. 1. 0. 0. 0. 0. 0. 0. 0. 0. 0.]\n",
      " [0. 0. 0. 0. 1. 0. 0. 0. 0. 0. 0. 0.]\n",
      " [0. 0. 0. 0. 0. 0. 1. 0. 0. 0. 0. 0.]\n",
      " [0. 0. 1. 0. 0. 0. 0. 0. 0. 0. 0. 0.]\n",
      " [0. 0. 0. 0. 0. 0. 0. 1. 0. 0. 0. 0.]\n",
      " [0. 0. 0. 1. 0. 0. 0. 0. 0. 0. 0. 0.]\n",
      " [0. 0. 0. 0. 0. 0. 0. 0. 1. 0. 0. 0.]\n",
      " [0. 1. 0. 0. 0. 0. 0. 0. 0. 0. 0. 0.]\n",
      " [0. 0. 1. 0. 0. 0. 0. 0. 0. 0. 0. 0.]\n",
      " [0. 0. 0. 0. 0. 0. 0. 0. 0. 0. 1. 0.]\n",
      " [0. 0. 0. 0. 0. 0. 0. 0. 0. 0. 0. 1.]]\n"
     ]
    }
   ],
   "source": [
    "import tensorflow.keras.utils as keras_utils\n",
    "from tensorflow.keras.preprocessing.text import Tokenizer\n",
    "from tensorflow.keras.preprocessing.sequence import pad_sequences\n",
    "\n",
    "def seq_builder(text,fitted_tokenizer):\n",
    "    seq = []\n",
    "    for sentence in text:\n",
    "        #Tokenize the words in every sentence\n",
    "        tokens = fitted_tokenizer.texts_to_sequences([sentence])[0]\n",
    "        for i in range(1,len(tokens)):\n",
    "            #Build sequences with all possible sizes\n",
    "            seq.append(tokens[:i+1])\n",
    "    #Same lenght for every sequence, filled by 0 to the left\n",
    "    seq = pad_sequences(seq,maxlen=max(map(len,seq)),padding='pre')\n",
    "    #Split the predictors and labels\n",
    "    X,y = seq[:,:-1], seq[:,-1]\n",
    "    #Encode all posible classes (words)\n",
    "    y = keras_utils.to_categorical(y)\n",
    "    return X,y\n",
    "\n",
    "#Ex\n",
    "aux = ['The same words','will have','the same representation in X','and the same vector','in Y']\n",
    "aux_tok = Tokenizer()\n",
    "aux_tok.fit_on_texts(aux)\n",
    "aux = seq_builder(aux,aux_tok)\n",
    "print(aux[0],'\\n'*2,aux[1])"
   ]
  },
  {
   "cell_type": "code",
   "execution_count": 6,
   "metadata": {
    "ExecuteTime": {
     "end_time": "2021-04-19T16:58:35.901774Z",
     "start_time": "2021-04-19T16:58:35.895972Z"
    },
    "colab": {
     "base_uri": "https://localhost:8080/"
    },
    "hidden": true,
    "id": "i8xeDVobu5kP",
    "outputId": "34625a21-33a6-42a6-9527-c947b9a86e0d"
   },
   "outputs": [],
   "source": [
    "#The tutorial for Transfer Embedding is right here!\n",
    "#  https://keras.io/examples/nlp/pretrained_word_embeddings/\n",
    "\n",
    "#If you're running this in GColab, uncomment the following lines to unzip the GloVe embeddings\n",
    "#  (more info about GloVe at https://nlp.stanford.edu/projects/glove/),\n",
    "#  but if you're working locally, move the files from the zip to your base_dir\n",
    "\n",
    "'''!wget http://nlp.stanford.edu/data/glove.6B.zip \n",
    "!unzip -q glove.6B.zip'''\n",
    "\n",
    "def transfer_embedding(base_dir,fitted_tokenizer,total_words,embedding_dim_out):\n",
    "    #Get the pre-trained vectors as a dict\n",
    "    emb_dict = {}\n",
    "    with open(os.path.join(base_dir,f'glove.6B.{embedding_dim_out}d.txt')) as f:\n",
    "        for line in f:\n",
    "            #Each line is a word with its coef sep by \\s\n",
    "            word, coefs = line.split(maxsplit=1)\n",
    "            #Like .split() transforming strings into an array\n",
    "            coefs = np.fromstring(coefs,'f',sep=' ')\n",
    "            #Update the dict with a new word and its coef\n",
    "            emb_dict[word] = coefs\n",
    "    #Keep track of the not-found words\n",
    "    misses = 0\n",
    "    #Build a matrix full of zeros\n",
    "    words_matrix = np.zeros((total_words+1,embedding_dim_out))\n",
    "    #Loop over the words-indexes...\n",
    "    for word, i in fitted_tokenizer.word_index.items():\n",
    "        #... to get its pre-trained value\n",
    "        try: word_vector = emb_dict[word]\n",
    "        #Some words won't be found, keep the zeros-vector\n",
    "        except: misses += 1\n",
    "        #Finally, transfer the pre-trained vector\n",
    "        else: words_matrix[i] = word_vector\n",
    "    print(f'Transfered {round((1-misses/total_words)*100,2)}% of {total_words} words, just {misses} were not found.')\n",
    "    return words_matrix"
   ]
  },
  {
   "cell_type": "code",
   "execution_count": 7,
   "metadata": {
    "ExecuteTime": {
     "end_time": "2021-04-19T16:58:36.162333Z",
     "start_time": "2021-04-19T16:58:35.904092Z"
    },
    "hidden": true,
    "id": "HHG3LHSPVOTv"
   },
   "outputs": [],
   "source": [
    "from keras.models import Sequential\n",
    "from tensorflow.keras import regularizers\n",
    "from tensorflow.keras.initializers import Constant\n",
    "from keras.layers import Embedding,Bidirectional,GRU,LSTM,Dropout,Dense,LeakyReLU\n",
    "\n",
    "def rnn_builder(x,total_words,units,embedding_dim_out,embedded_matrix,\n",
    "                drop_out=0.2,reg_l2=0.01,gru=False):\n",
    "    n = len(units)\n",
    "    rnn = Sequential()\n",
    "    #Transfer an embedded matrix\n",
    "    rnn.add(Embedding(total_words+1,\n",
    "                      embedding_dim_out,\n",
    "                      input_length=x.shape[-1], #max seq length\n",
    "                      embeddings_initializer=Constant(embedded_matrix),\n",
    "                      trainable=False)) #Do not change the pre-trained weights (duh!)\n",
    "    #Loop over the units-per-layer provided\n",
    "    for i,layer in enumerate(units):\n",
    "        #**kwarg to return sequence unless it's the last recurrent layer\n",
    "        seq = {'return_sequences':True if i < n-1 else False}\n",
    "        #Append one GRU/LSTM layer with the units from the iteration\n",
    "        rnn.add(Bidirectional((GRU(units=layer,**seq))\n",
    "                               if gru else\n",
    "                              (LSTM(units=layer,**seq))))\n",
    "        #Exclude % of previous layer to avoid overtfitting\n",
    "        rnn.add(Dropout(drop_out))\n",
    "    #Fully-Connected layer with half #classes and a \"Lasso\" regularization\n",
    "    rnn.add(Dense(int(total_words/2),kernel_regularizer=regularizers.l2(reg_l2)))\n",
    "    #Break linearity of previous layer\n",
    "    rnn.add(LeakyReLU())\n",
    "    #Final layer with the same units as #classes\n",
    "    rnn.add(Dense(total_words,activation='softmax'))\n",
    "    #Show full structure\n",
    "    print(rnn.summary())\n",
    "    return rnn"
   ]
  },
  {
   "cell_type": "code",
   "execution_count": 8,
   "metadata": {
    "ExecuteTime": {
     "end_time": "2021-04-19T16:58:36.544935Z",
     "start_time": "2021-04-19T16:58:36.167754Z"
    },
    "hidden": true,
    "id": "7OqfWnA9JjvU"
   },
   "outputs": [],
   "source": [
    "import matplotlib.pyplot as plt\n",
    "\n",
    "def plot_metrics(training_history,metrics=['accuracy','loss']):\n",
    "    #Show the trend of every metrics provided after training\n",
    "    for metric in metrics:\n",
    "        trend = training_history.history[metric]\n",
    "        plt.figure()\n",
    "        plt.plot(range(len(trend)), trend, 'r', label=f'Training {metric}')\n",
    "        plt.title(f'Training {metric}')\n",
    "    plt.show()"
   ]
  },
  {
   "cell_type": "markdown",
   "metadata": {
    "heading_collapsed": true,
    "id": "I7kohmntsTQX"
   },
   "source": [
    "## Preprocessing"
   ]
  },
  {
   "cell_type": "code",
   "execution_count": 9,
   "metadata": {
    "ExecuteTime": {
     "end_time": "2021-04-19T16:58:36.671764Z",
     "start_time": "2021-04-19T16:58:36.548692Z"
    },
    "colab": {
     "base_uri": "https://localhost:8080/"
    },
    "hidden": true,
    "id": "0W0o9RrusHbA",
    "outputId": "83c0d2ed-37a3-4bdf-a2b0-0ca844ef8138"
   },
   "outputs": [
    {
     "name": "stdout",
     "output_type": "stream",
     "text": [
      "['after all i undertook to tell several trillion years of human history in the space of a short story and i leave it to you as to how well i succeeded', \"i also undertook another task but i won't tell you what that was lest l spoil the story for you\"]\n"
     ]
    }
   ],
   "source": [
    "corpus = pdfs_to_sentences(BASE_DIR,SPLIT_PATTERN)\n",
    "\n",
    "print(corpus[1:3])"
   ]
  },
  {
   "cell_type": "code",
   "execution_count": 10,
   "metadata": {
    "ExecuteTime": {
     "end_time": "2021-04-19T16:58:36.685676Z",
     "start_time": "2021-04-19T16:58:36.674296Z"
    },
    "colab": {
     "base_uri": "https://localhost:8080/"
    },
    "hidden": true,
    "id": "iajukYWMxS1Q",
    "outputId": "bc2ce9ca-d3c1-4b21-e369-0e5f1c2b32db"
   },
   "outputs": [
    {
     "name": "stdout",
     "output_type": "stream",
     "text": [
      "There are 1248 different words, the frequency of the first 6 is: \n",
      "\n",
      " [('the', 252), ('last', 14), ('question', 12), ('by', 14), ('isaac', 1), ('asimov', 1)]\n"
     ]
    }
   ],
   "source": [
    "#Tokenize the words to feed the ANN\n",
    "tokenizer = Tokenizer()\n",
    "tokenizer.fit_on_texts(corpus)\n",
    "\n",
    "tot_words = len(tokenizer.word_counts)\n",
    "\n",
    "print(f'There are {tot_words} different words, the frequency of the first 6 is:',\n",
    "      '\\n'*2,list(tokenizer.word_counts.items())[:6])"
   ]
  },
  {
   "cell_type": "code",
   "execution_count": 11,
   "metadata": {
    "ExecuteTime": {
     "end_time": "2021-04-19T16:58:36.733377Z",
     "start_time": "2021-04-19T16:58:36.687214Z"
    },
    "colab": {
     "base_uri": "https://localhost:8080/"
    },
    "hidden": true,
    "id": "qG9jsEDTytG6",
    "outputId": "4f4a4e80-ee57-42c1-fc2f-d3ac1f68d99c"
   },
   "outputs": [
    {
     "name": "stdout",
     "output_type": "stream",
     "text": [
      "(4292, 62) (4292, 1249)\n"
     ]
    }
   ],
   "source": [
    "X,y = seq_builder(corpus,tokenizer)\n",
    "\n",
    "print(X.shape,y.shape)"
   ]
  },
  {
   "cell_type": "code",
   "execution_count": 12,
   "metadata": {
    "ExecuteTime": {
     "end_time": "2021-04-19T16:59:04.527118Z",
     "start_time": "2021-04-19T16:58:36.735243Z"
    },
    "colab": {
     "base_uri": "https://localhost:8080/"
    },
    "hidden": true,
    "id": "50aaSwG0mu95",
    "outputId": "1a99ed0d-306e-46d3-8392-1b5ea5b16723"
   },
   "outputs": [
    {
     "name": "stdout",
     "output_type": "stream",
     "text": [
      "Transfered 92.07% of 1249 words, just 99 were not found.\n"
     ]
    }
   ],
   "source": [
    "words_matrix = transfer_embedding(BASE_DIR,tokenizer,tot_words+1,EMBEDDING_DIM)"
   ]
  },
  {
   "cell_type": "markdown",
   "metadata": {
    "id": "1j8c7eIeCfyU"
   },
   "source": [
    "## Arquitecture"
   ]
  },
  {
   "cell_type": "code",
   "execution_count": 13,
   "metadata": {
    "ExecuteTime": {
     "end_time": "2021-04-19T16:59:05.733822Z",
     "start_time": "2021-04-19T16:59:04.531238Z"
    },
    "colab": {
     "base_uri": "https://localhost:8080/"
    },
    "id": "1aUMaoMtRi-A",
    "outputId": "31f10e8b-025b-468e-b5b4-b06f3e9f3562"
   },
   "outputs": [
    {
     "name": "stdout",
     "output_type": "stream",
     "text": [
      "Model: \"sequential\"\n",
      "_________________________________________________________________\n",
      "Layer (type)                 Output Shape              Param #   \n",
      "=================================================================\n",
      "embedding (Embedding)        (None, 62, 300)           375000    \n",
      "_________________________________________________________________\n",
      "bidirectional (Bidirectional (None, 62, 200)           241200    \n",
      "_________________________________________________________________\n",
      "dropout (Dropout)            (None, 62, 200)           0         \n",
      "_________________________________________________________________\n",
      "bidirectional_1 (Bidirection (None, 100)               75600     \n",
      "_________________________________________________________________\n",
      "dropout_1 (Dropout)          (None, 100)               0         \n",
      "_________________________________________________________________\n",
      "dense (Dense)                (None, 624)               63024     \n",
      "_________________________________________________________________\n",
      "leaky_re_lu (LeakyReLU)      (None, 624)               0         \n",
      "_________________________________________________________________\n",
      "dense_1 (Dense)              (None, 1249)              780625    \n",
      "=================================================================\n",
      "Total params: 1,535,449\n",
      "Trainable params: 1,160,449\n",
      "Non-trainable params: 375,000\n",
      "_________________________________________________________________\n",
      "None\n"
     ]
    }
   ],
   "source": [
    "rnn = rnn_builder(X,tot_words+1,UNITS_LIST,EMBEDDING_DIM,words_matrix,gru=True)"
   ]
  },
  {
   "cell_type": "markdown",
   "metadata": {
    "heading_collapsed": true,
    "id": "EnBqx3BYJWoX"
   },
   "source": [
    "## Training"
   ]
  },
  {
   "cell_type": "code",
   "execution_count": 14,
   "metadata": {
    "ExecuteTime": {
     "end_time": "2021-04-19T17:20:24.889472Z",
     "start_time": "2021-04-19T16:59:05.737038Z"
    },
    "colab": {
     "base_uri": "https://localhost:8080/",
     "height": 460
    },
    "hidden": true,
    "id": "Nlpkrrgy5ADw",
    "outputId": "3ef5a88c-6330-4cc8-8bff-a179b52484f3",
    "scrolled": true
   },
   "outputs": [
    {
     "name": "stdout",
     "output_type": "stream",
     "text": [
      "Epoch 1/100\n",
      "WARNING:tensorflow:AutoGraph could not transform <bound method Dense.call of <keras.layers.core.Dense object at 0x7f94f6e19a60>> and will run it as-is.\n",
      "Please report this to the TensorFlow team. When filing the bug, set the verbosity to 10 (on Linux, `export AUTOGRAPH_VERBOSITY=10`) and attach the full output.\n",
      "Cause: invalid syntax (tmpgmlmp_qd.py, line 48)\n",
      "To silence this warning, decorate the function with @tf.autograph.experimental.do_not_convert\n",
      "WARNING: AutoGraph could not transform <bound method Dense.call of <keras.layers.core.Dense object at 0x7f94f6e19a60>> and will run it as-is.\n",
      "Please report this to the TensorFlow team. When filing the bug, set the verbosity to 10 (on Linux, `export AUTOGRAPH_VERBOSITY=10`) and attach the full output.\n",
      "Cause: invalid syntax (tmpgmlmp_qd.py, line 48)\n",
      "To silence this warning, decorate the function with @tf.autograph.experimental.do_not_convert\n",
      "135/135 [==============================] - 37s 84ms/step - loss: 7.5597 - accuracy: 0.0368\n",
      "Epoch 2/100\n",
      "135/135 [==============================] - 12s 89ms/step - loss: 6.1766 - accuracy: 0.0493\n",
      "Epoch 3/100\n",
      "135/135 [==============================] - 11s 82ms/step - loss: 5.8549 - accuracy: 0.0634\n",
      "Epoch 4/100\n",
      "135/135 [==============================] - 14s 106ms/step - loss: 5.5713 - accuracy: 0.0908\n",
      "Epoch 5/100\n",
      "135/135 [==============================] - 16s 117ms/step - loss: 5.3093 - accuracy: 0.1040\n",
      "Epoch 6/100\n",
      "135/135 [==============================] - 13s 95ms/step - loss: 5.0467 - accuracy: 0.1140\n",
      "Epoch 7/100\n",
      "135/135 [==============================] - 15s 111ms/step - loss: 4.8715 - accuracy: 0.1270\n",
      "Epoch 8/100\n",
      "135/135 [==============================] - 17s 122ms/step - loss: 4.6613 - accuracy: 0.1401\n",
      "Epoch 9/100\n",
      "135/135 [==============================] - 15s 109ms/step - loss: 4.4548 - accuracy: 0.1558\n",
      "Epoch 10/100\n",
      "135/135 [==============================] - 12s 92ms/step - loss: 4.2065 - accuracy: 0.1898\n",
      "Epoch 11/100\n",
      "135/135 [==============================] - 12s 92ms/step - loss: 4.0988 - accuracy: 0.1854\n",
      "Epoch 12/100\n",
      "135/135 [==============================] - 12s 87ms/step - loss: 3.8698 - accuracy: 0.2231\n",
      "Epoch 13/100\n",
      "135/135 [==============================] - 11s 85ms/step - loss: 3.6782 - accuracy: 0.2370\n",
      "Epoch 14/100\n",
      "135/135 [==============================] - 12s 87ms/step - loss: 3.5598 - accuracy: 0.2636\n",
      "Epoch 15/100\n",
      "135/135 [==============================] - 11s 83ms/step - loss: 3.3909 - accuracy: 0.2777\n",
      "Epoch 16/100\n",
      "135/135 [==============================] - 12s 86ms/step - loss: 3.2706 - accuracy: 0.3111\n",
      "Epoch 17/100\n",
      "135/135 [==============================] - 12s 87ms/step - loss: 3.1565 - accuracy: 0.3335\n",
      "Epoch 18/100\n",
      "135/135 [==============================] - 12s 88ms/step - loss: 2.9746 - accuracy: 0.3621\n",
      "Epoch 19/100\n",
      "135/135 [==============================] - 12s 90ms/step - loss: 2.8266 - accuracy: 0.3975\n",
      "Epoch 20/100\n",
      "135/135 [==============================] - 13s 99ms/step - loss: 2.6864 - accuracy: 0.4338\n",
      "Epoch 21/100\n",
      "135/135 [==============================] - 13s 96ms/step - loss: 2.6284 - accuracy: 0.4367\n",
      "Epoch 22/100\n",
      "135/135 [==============================] - 13s 99ms/step - loss: 2.5178 - accuracy: 0.4782\n",
      "Epoch 23/100\n",
      "135/135 [==============================] - 13s 97ms/step - loss: 2.4061 - accuracy: 0.4878\n",
      "Epoch 24/100\n",
      "135/135 [==============================] - 12s 91ms/step - loss: 2.3111 - accuracy: 0.5203\n",
      "Epoch 25/100\n",
      "135/135 [==============================] - 12s 87ms/step - loss: 2.1848 - accuracy: 0.5531\n",
      "Epoch 26/100\n",
      "135/135 [==============================] - 11s 84ms/step - loss: 2.1885 - accuracy: 0.5320\n",
      "Epoch 27/100\n",
      "135/135 [==============================] - 12s 86ms/step - loss: 2.0764 - accuracy: 0.5698\n",
      "Epoch 28/100\n",
      "135/135 [==============================] - 12s 88ms/step - loss: 1.9553 - accuracy: 0.6122\n",
      "Epoch 29/100\n",
      "135/135 [==============================] - 12s 89ms/step - loss: 1.9538 - accuracy: 0.6151\n",
      "Epoch 30/100\n",
      "135/135 [==============================] - 12s 91ms/step - loss: 1.8776 - accuracy: 0.6284\n",
      "Epoch 31/100\n",
      "135/135 [==============================] - 12s 91ms/step - loss: 1.8097 - accuracy: 0.6461\n",
      "Epoch 32/100\n",
      "135/135 [==============================] - 12s 90ms/step - loss: 1.7722 - accuracy: 0.6441\n",
      "Epoch 33/100\n",
      "135/135 [==============================] - 12s 89ms/step - loss: 1.6694 - accuracy: 0.6784\n",
      "Epoch 34/100\n",
      "135/135 [==============================] - 12s 87ms/step - loss: 1.6377 - accuracy: 0.6941\n",
      "Epoch 35/100\n",
      "135/135 [==============================] - 12s 87ms/step - loss: 1.5858 - accuracy: 0.7004\n",
      "Epoch 36/100\n",
      "135/135 [==============================] - 12s 92ms/step - loss: 1.5589 - accuracy: 0.7125\n",
      "Epoch 37/100\n",
      "135/135 [==============================] - 12s 89ms/step - loss: 1.4893 - accuracy: 0.7097\n",
      "Epoch 38/100\n",
      "135/135 [==============================] - 12s 92ms/step - loss: 1.4539 - accuracy: 0.7288\n",
      "Epoch 39/100\n",
      "135/135 [==============================] - 12s 90ms/step - loss: 1.4057 - accuracy: 0.7325\n",
      "Epoch 40/100\n",
      "135/135 [==============================] - 12s 91ms/step - loss: 1.3486 - accuracy: 0.7432\n",
      "Epoch 41/100\n",
      "135/135 [==============================] - 12s 90ms/step - loss: 1.3657 - accuracy: 0.7480\n",
      "Epoch 42/100\n",
      "135/135 [==============================] - 12s 90ms/step - loss: 1.3526 - accuracy: 0.7521\n",
      "Epoch 43/100\n",
      "135/135 [==============================] - 12s 89ms/step - loss: 1.2949 - accuracy: 0.7674\n",
      "Epoch 44/100\n",
      "135/135 [==============================] - 12s 86ms/step - loss: 1.2735 - accuracy: 0.7708\n",
      "Epoch 45/100\n",
      "135/135 [==============================] - 12s 87ms/step - loss: 1.2724 - accuracy: 0.7696\n",
      "Epoch 46/100\n",
      "135/135 [==============================] - 12s 86ms/step - loss: 1.2501 - accuracy: 0.7700\n",
      "Epoch 47/100\n",
      "135/135 [==============================] - 13s 97ms/step - loss: 1.1929 - accuracy: 0.7815\n",
      "Epoch 48/100\n",
      "135/135 [==============================] - 15s 113ms/step - loss: 1.1927 - accuracy: 0.7800\n",
      "Epoch 49/100\n",
      "135/135 [==============================] - 15s 108ms/step - loss: 1.1351 - accuracy: 0.8034\n",
      "Epoch 50/100\n",
      "135/135 [==============================] - 16s 116ms/step - loss: 1.1483 - accuracy: 0.7999\n",
      "Epoch 51/100\n",
      "135/135 [==============================] - 16s 116ms/step - loss: 1.1804 - accuracy: 0.7815\n",
      "Epoch 52/100\n",
      "135/135 [==============================] - 14s 105ms/step - loss: 1.1029 - accuracy: 0.7981\n",
      "Epoch 53/100\n",
      "135/135 [==============================] - 13s 97ms/step - loss: 1.0598 - accuracy: 0.8127\n",
      "Epoch 54/100\n",
      "135/135 [==============================] - 13s 93ms/step - loss: 1.0613 - accuracy: 0.8106\n",
      "Epoch 55/100\n",
      "135/135 [==============================] - 13s 94ms/step - loss: 1.0422 - accuracy: 0.8245\n",
      "Epoch 56/100\n",
      "135/135 [==============================] - 12s 91ms/step - loss: 1.0332 - accuracy: 0.8130\n",
      "Epoch 57/100\n",
      "135/135 [==============================] - 12s 87ms/step - loss: 1.0364 - accuracy: 0.8068\n",
      "Epoch 58/100\n",
      "135/135 [==============================] - 13s 94ms/step - loss: 1.0050 - accuracy: 0.8213\n",
      "Epoch 59/100\n",
      "135/135 [==============================] - 13s 96ms/step - loss: 0.9615 - accuracy: 0.8376\n",
      "Epoch 60/100\n",
      "135/135 [==============================] - 14s 103ms/step - loss: 1.0379 - accuracy: 0.8051\n",
      "Epoch 61/100\n",
      "135/135 [==============================] - 14s 101ms/step - loss: 1.0035 - accuracy: 0.8258\n",
      "Epoch 62/100\n",
      "135/135 [==============================] - 14s 101ms/step - loss: 0.9240 - accuracy: 0.8485\n",
      "Epoch 63/100\n",
      "135/135 [==============================] - 14s 100ms/step - loss: 0.9378 - accuracy: 0.8341\n",
      "Epoch 64/100\n",
      "135/135 [==============================] - 13s 98ms/step - loss: 0.9390 - accuracy: 0.8322\n",
      "Epoch 65/100\n",
      "135/135 [==============================] - 12s 89ms/step - loss: 0.9760 - accuracy: 0.8258\n",
      "Epoch 66/100\n",
      "135/135 [==============================] - 12s 92ms/step - loss: 0.8703 - accuracy: 0.8569\n",
      "Epoch 67/100\n",
      "135/135 [==============================] - 14s 104ms/step - loss: 0.9214 - accuracy: 0.8311\n",
      "Epoch 68/100\n",
      "135/135 [==============================] - 14s 105ms/step - loss: 0.8827 - accuracy: 0.8469\n",
      "Epoch 69/100\n",
      "135/135 [==============================] - 14s 102ms/step - loss: 0.8410 - accuracy: 0.8548\n",
      "Epoch 70/100\n",
      "135/135 [==============================] - 13s 94ms/step - loss: 0.8592 - accuracy: 0.8451\n",
      "Epoch 71/100\n"
     ]
    },
    {
     "name": "stdout",
     "output_type": "stream",
     "text": [
      "135/135 [==============================] - 11s 84ms/step - loss: 0.8289 - accuracy: 0.8518\n",
      "Epoch 72/100\n",
      "135/135 [==============================] - 11s 84ms/step - loss: 0.8675 - accuracy: 0.8436\n",
      "Epoch 73/100\n",
      "135/135 [==============================] - 11s 84ms/step - loss: 0.8453 - accuracy: 0.8432\n",
      "Epoch 74/100\n",
      "135/135 [==============================] - 11s 85ms/step - loss: 0.8240 - accuracy: 0.8515\n",
      "Epoch 75/100\n",
      "135/135 [==============================] - 12s 85ms/step - loss: 0.8030 - accuracy: 0.8677\n",
      "Epoch 76/100\n",
      "135/135 [==============================] - 11s 84ms/step - loss: 0.7864 - accuracy: 0.8598\n",
      "Epoch 77/100\n",
      "135/135 [==============================] - 11s 83ms/step - loss: 0.8108 - accuracy: 0.8567\n",
      "Epoch 78/100\n",
      "135/135 [==============================] - 12s 85ms/step - loss: 0.7924 - accuracy: 0.8606\n",
      "Epoch 79/100\n",
      "135/135 [==============================] - 13s 93ms/step - loss: 0.8084 - accuracy: 0.8528\n",
      "Epoch 80/100\n",
      "135/135 [==============================] - 12s 88ms/step - loss: 0.7610 - accuracy: 0.8699\n",
      "Epoch 81/100\n",
      "135/135 [==============================] - 12s 87ms/step - loss: 0.7819 - accuracy: 0.8639\n",
      "Epoch 82/100\n",
      "135/135 [==============================] - 11s 85ms/step - loss: 0.7979 - accuracy: 0.8604\n",
      "Epoch 83/100\n",
      "135/135 [==============================] - 11s 83ms/step - loss: 0.7775 - accuracy: 0.8598\n",
      "Epoch 84/100\n",
      "135/135 [==============================] - 11s 79ms/step - loss: 0.8028 - accuracy: 0.8545\n",
      "Epoch 85/100\n",
      "135/135 [==============================] - 11s 85ms/step - loss: 0.7741 - accuracy: 0.8590\n",
      "Epoch 86/100\n",
      "135/135 [==============================] - 12s 85ms/step - loss: 0.8001 - accuracy: 0.8559\n",
      "Epoch 87/100\n",
      "135/135 [==============================] - 11s 83ms/step - loss: 0.7920 - accuracy: 0.8528\n",
      "Epoch 88/100\n",
      "135/135 [==============================] - 12s 87ms/step - loss: 0.7395 - accuracy: 0.8744\n",
      "Epoch 89/100\n",
      "135/135 [==============================] - 12s 87ms/step - loss: 0.7568 - accuracy: 0.8687\n",
      "Epoch 90/100\n",
      "135/135 [==============================] - 12s 87ms/step - loss: 0.7336 - accuracy: 0.8710\n",
      "Epoch 91/100\n",
      "135/135 [==============================] - 14s 104ms/step - loss: 0.7370 - accuracy: 0.8717\n",
      "Epoch 92/100\n",
      "135/135 [==============================] - 13s 98ms/step - loss: 0.7207 - accuracy: 0.8787\n",
      "Epoch 93/100\n",
      "135/135 [==============================] - 15s 108ms/step - loss: 0.7524 - accuracy: 0.8664\n",
      "Epoch 94/100\n",
      "135/135 [==============================] - 15s 109ms/step - loss: 0.7056 - accuracy: 0.8703\n",
      "Epoch 95/100\n",
      "135/135 [==============================] - 14s 104ms/step - loss: 0.7038 - accuracy: 0.8756\n",
      "Epoch 96/100\n",
      "135/135 [==============================] - 11s 85ms/step - loss: 0.7120 - accuracy: 0.8750\n",
      "Epoch 97/100\n",
      "135/135 [==============================] - 12s 87ms/step - loss: 0.7474 - accuracy: 0.8564\n",
      "Epoch 98/100\n",
      "135/135 [==============================] - 12s 88ms/step - loss: 0.7386 - accuracy: 0.8698\n",
      "Epoch 99/100\n",
      "135/135 [==============================] - 12s 87ms/step - loss: 0.7092 - accuracy: 0.8687\n",
      "Epoch 100/100\n",
      "135/135 [==============================] - 12s 90ms/step - loss: 0.7139 - accuracy: 0.8710\n"
     ]
    }
   ],
   "source": [
    "rnn.compile(loss='categorical_crossentropy', optimizer='adam', metrics='accuracy')\n",
    "\n",
    "training = rnn.fit(X, y, epochs=EPOCHS, verbose=1)"
   ]
  },
  {
   "cell_type": "markdown",
   "metadata": {
    "id": "_m1FPPWdQn3I"
   },
   "source": [
    "## Save the model"
   ]
  },
  {
   "cell_type": "code",
   "execution_count": 15,
   "metadata": {
    "ExecuteTime": {
     "end_time": "2021-04-19T17:20:25.318949Z",
     "start_time": "2021-04-19T17:20:24.895349Z"
    },
    "id": "aY7VdRJaHXko"
   },
   "outputs": [
    {
     "data": {
      "image/png": "[encoded data removed]",
      "text/plain": [
       "<Figure size 432x288 with 1 Axes>"
      ]
     },
     "metadata": {
      "needs_background": "light"
     },
     "output_type": "display_data"
    },
    {
     "data": {
      "image/png": "[encoded data removed]",
      "text/plain": [
       "<Figure size 432x288 with 1 Axes>"
      ]
     },
     "metadata": {
      "needs_background": "light"
     },
     "output_type": "display_data"
    }
   ],
   "source": [
    "plot_metrics(training)"
   ]
  },
  {
   "cell_type": "code",
   "execution_count": 16,
   "metadata": {
    "ExecuteTime": {
     "end_time": "2021-04-19T17:20:25.850947Z",
     "start_time": "2021-04-19T17:20:25.321334Z"
    },
    "id": "kFjbbrBrQs_k"
   },
   "outputs": [],
   "source": [
    "import pickle\n",
    "\n",
    "#First, preserve the tokenizer\n",
    "with open(os.path.join(BASE_DIR,'rnn_asimov_tokenizer.pickle'), 'wb') as f:\n",
    "    pickle.dump(tokenizer, f)\n",
    "\n",
    "#Then, save the architecture\n",
    "with open(os.path.join(BASE_DIR,'rnn_asimov_architecture.json'), 'w') as f:\n",
    "    f.write(rnn.to_json())\n",
    "\n",
    "#Finally, the paramaters learned by itself\n",
    "rnn.save_weights(os.path.join(BASE_DIR,'rnn_asimov_weights.h5'))"
   ]
  },
  {
   "cell_type": "code",
   "execution_count": 17,
   "metadata": {
    "ExecuteTime": {
     "end_time": "2021-04-19T17:20:25.876728Z",
     "start_time": "2021-04-19T17:20:25.854552Z"
    },
    "id": "EHUlARTrQwJq"
   },
   "outputs": [
    {
     "name": "stdout",
     "output_type": "stream",
     "text": [
      "22 minutos con 0.98 segundos\n"
     ]
    },
    {
     "data": {
      "text/html": [
       "\n",
       "                <audio  controls=\"controls\" autoplay=\"autoplay\">\n",
       "                    <source src=\"data:audio/wav;base64,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\" type=\"audio/wav\" />\n",
       "                    Your browser does not support the audio element.\n",
       "                </audio>\n",
       "              "
      ],
      "text/plain": [
       "<IPython.lib.display.Audio object>"
      ]
     },
     "execution_count": 17,
     "metadata": {},
     "output_type": "execute_result"
    }
   ],
   "source": [
    "time_exp(time.time()-start)\n",
    "tone()"
   ]
  }
 ],
 "metadata": {
  "colab": {
   "collapsed_sections": [
    "vI0mi651rj7P",
    "I7kohmntsTQX",
    "1j8c7eIeCfyU",
    "_m1FPPWdQn3I"
   ],
   "name": "z_Asimov_2.ipynb",
   "provenance": []
  },
  "kernelspec": {
   "display_name": "Python 3",
   "language": "python",
   "name": "python3"
  },
  "language_info": {
   "codemirror_mode": {
    "name": "ipython",
    "version": 3
   },
   "file_extension": ".py",
   "mimetype": "text/x-python",
   "name": "python",
   "nbconvert_exporter": "python",
   "pygments_lexer": "ipython3",
   "version": "3.9.1"
  },
  "toc": {
   "base_numbering": 1,
   "nav_menu": {},
   "number_sections": true,
   "sideBar": true,
   "skip_h1_title": true,
   "title_cell": "Table of Contents",
   "title_sidebar": "Contents",
   "toc_cell": false,
   "toc_position": {},
   "toc_section_display": true,
   "toc_window_display": true
  },
  "varInspector": {
   "cols": {
    "lenName": 16,
    "lenType": 16,
    "lenVar": 40
   },
   "kernels_config": {
    "python": {
     "delete_cmd_postfix": "",
     "delete_cmd_prefix": "del ",
     "library": "var_list.py",
     "varRefreshCmd": "print(var_dic_list())"
    },
    "r": {
     "delete_cmd_postfix": ") ",
     "delete_cmd_prefix": "rm(",
     "library": "var_list.r",
     "varRefreshCmd": "cat(var_dic_list()) "
    }
   },
   "types_to_exclude": [
    "module",
    "function",
    "builtin_function_or_method",
    "instance",
    "_Feature"
   ],
   "window_display": false
  }
 },
 "nbformat": 4,
 "nbformat_minor": 1
}
