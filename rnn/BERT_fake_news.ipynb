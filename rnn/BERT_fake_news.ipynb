{
 "cells": [
  {
   "cell_type": "markdown",
   "id": "504afe1e",
   "metadata": {},
   "source": [
    "# Fake news"
   ]
  },
  {
   "cell_type": "markdown",
   "id": "4bab1f3a",
   "metadata": {},
   "source": [
    "## Parameters"
   ]
  },
  {
   "cell_type": "code",
   "execution_count": 1,
   "id": "41a0523f",
   "metadata": {
    "ExecuteTime": {
     "end_time": "2021-04-25T12:03:58.658773Z",
     "start_time": "2021-04-25T12:03:58.650176Z"
    }
   },
   "outputs": [],
   "source": [
    "BASE_DIR = ''\n",
    "FILE_NAME = 'fake_news.csv'"
   ]
  },
  {
   "cell_type": "markdown",
   "id": "fa19f7cb",
   "metadata": {},
   "source": [
    "## Import"
   ]
  },
  {
   "cell_type": "code",
   "execution_count": 2,
   "id": "a931a8ce",
   "metadata": {
    "ExecuteTime": {
     "end_time": "2021-04-25T12:04:00.300312Z",
     "start_time": "2021-04-25T12:03:58.661645Z"
    }
   },
   "outputs": [
    {
     "data": {
      "text/html": [
       "<div>\n",
       "<style scoped>\n",
       "    .dataframe tbody tr th:only-of-type {\n",
       "        vertical-align: middle;\n",
       "    }\n",
       "\n",
       "    .dataframe tbody tr th {\n",
       "        vertical-align: top;\n",
       "    }\n",
       "\n",
       "    .dataframe thead th {\n",
       "        text-align: right;\n",
       "    }\n",
       "</style>\n",
       "<table border=\"1\" class=\"dataframe\">\n",
       "  <thead>\n",
       "    <tr style=\"text-align: right;\">\n",
       "      <th></th>\n",
       "      <th>title</th>\n",
       "      <th>author</th>\n",
       "      <th>text</th>\n",
       "      <th>label</th>\n",
       "    </tr>\n",
       "    <tr>\n",
       "      <th>id</th>\n",
       "      <th></th>\n",
       "      <th></th>\n",
       "      <th></th>\n",
       "      <th></th>\n",
       "    </tr>\n",
       "  </thead>\n",
       "  <tbody>\n",
       "    <tr>\n",
       "      <th>5370</th>\n",
       "      <td>Politicians, NATO Officials Furious as Spain P...</td>\n",
       "      <td>NaN</td>\n",
       "      <td>Politicians, NATO Officials Furious as Spain P...</td>\n",
       "      <td>1</td>\n",
       "    </tr>\n",
       "  </tbody>\n",
       "</table>\n",
       "</div>"
      ],
      "text/plain": [
       "                                                  title author  \\\n",
       "id                                                               \n",
       "5370  Politicians, NATO Officials Furious as Spain P...    NaN   \n",
       "\n",
       "                                                   text  label  \n",
       "id                                                              \n",
       "5370  Politicians, NATO Officials Furious as Spain P...      1  "
      ]
     },
     "execution_count": 2,
     "metadata": {},
     "output_type": "execute_result"
    }
   ],
   "source": [
    "import os\n",
    "import pandas as pd\n",
    "df = pd.read_csv(os.path.join(BASE_DIR,FILE_NAME),index_col=0).drop_duplicates()\n",
    "df.sample()"
   ]
  },
  {
   "cell_type": "code",
   "execution_count": 3,
   "id": "0b26f393",
   "metadata": {
    "ExecuteTime": {
     "end_time": "2021-04-25T12:04:00.342504Z",
     "start_time": "2021-04-25T12:04:00.302600Z"
    }
   },
   "outputs": [
    {
     "name": "stdout",
     "output_type": "stream",
     "text": [
      "<class 'pandas.core.frame.DataFrame'>\n",
      "Int64Index: 20134 entries, 0 to 20799\n",
      "Data columns (total 3 columns):\n",
      " #   Column  Non-Null Count  Dtype \n",
      "---  ------  --------------  ----- \n",
      " 0   title   20134 non-null  object\n",
      " 1   text    20134 non-null  object\n",
      " 2   label   20134 non-null  int64 \n",
      "dtypes: int64(1), object(2)\n",
      "memory usage: 629.2+ KB\n"
     ]
    }
   ],
   "source": [
    "df = df.drop(columns='author').dropna()\n",
    "df.info()"
   ]
  },
  {
   "cell_type": "code",
   "execution_count": 4,
   "id": "ee3d1905",
   "metadata": {
    "ExecuteTime": {
     "end_time": "2021-04-25T12:04:00.453639Z",
     "start_time": "2021-04-25T12:04:00.346720Z"
    }
   },
   "outputs": [
    {
     "data": {
      "text/plain": [
       "count    20134.000000\n",
       "mean        12.418595\n",
       "std          4.093237\n",
       "min          1.000000\n",
       "0%           1.000000\n",
       "20%          9.000000\n",
       "40%         11.000000\n",
       "50%         13.000000\n",
       "60%         14.000000\n",
       "80%         16.000000\n",
       "max         72.000000\n",
       "Name: len, dtype: float64"
      ]
     },
     "execution_count": 4,
     "metadata": {},
     "output_type": "execute_result"
    }
   ],
   "source": [
    "#There are outliers in the title length\n",
    "df['len'] = df['title'].str.split().str.len()\n",
    "df['len'].describe([i/10 for i in range(0,10,2)])"
   ]
  },
  {
   "cell_type": "code",
   "execution_count": 5,
   "id": "68d5442b",
   "metadata": {
    "ExecuteTime": {
     "end_time": "2021-04-25T12:04:00.475980Z",
     "start_time": "2021-04-25T12:04:00.455596Z"
    }
   },
   "outputs": [
    {
     "data": {
      "text/plain": [
       "count    19122.000000\n",
       "mean        12.301224\n",
       "std          3.363644\n",
       "min          5.000000\n",
       "0%           5.000000\n",
       "20%          9.000000\n",
       "40%         12.000000\n",
       "50%         13.000000\n",
       "60%         14.000000\n",
       "80%         15.000000\n",
       "max         19.000000\n",
       "Name: len, dtype: float64"
      ]
     },
     "execution_count": 5,
     "metadata": {},
     "output_type": "execute_result"
    }
   ],
   "source": [
    "import numpy as np\n",
    "\n",
    "df = df[(df['len'] < np.percentile(df['len'],98))& \n",
    "        (df['len'] > np.percentile(df['len'],2))].copy()\n",
    "df['len'].describe([i/10 for i in range(0,10,2)])"
   ]
  },
  {
   "cell_type": "markdown",
   "id": "2045155b",
   "metadata": {},
   "source": [
    "## BERT"
   ]
  },
  {
   "cell_type": "code",
   "execution_count": 6,
   "id": "1a49b3d2",
   "metadata": {
    "ExecuteTime": {
     "end_time": "2021-04-25T12:04:02.219540Z",
     "start_time": "2021-04-25T12:04:00.477775Z"
    }
   },
   "outputs": [],
   "source": [
    "import transformers as ppb\n",
    "\n",
    "#Tutorial for BERT is here:\n",
    "#https://jalammar.github.io/a-visual-guide-to-using-bert-for-the-first-time/\n",
    "#model_class = ppb.DistilBertModel\n",
    "tokenizer_class = ppb.DistilBertTokenizer\n",
    "pretrained_weights = 'distilbert-base-uncased'\n",
    "\n",
    "#Want BERT instead of distilBERT? Uncomment the following line:\n",
    "#model_class, tokenizer_class, pretrained_weights = ppb.BertModel, ppb.BertTokenizer, 'bert-base-uncased'\n",
    "\n",
    "#Load pretrained model/tokenizer\n",
    "tokenizer = tokenizer_class.from_pretrained(pretrained_weights)\n",
    "#model = model_class.from_pretrained(pretrained_weights)"
   ]
  },
  {
   "cell_type": "code",
   "execution_count": 7,
   "id": "51afc3ac",
   "metadata": {
    "ExecuteTime": {
     "end_time": "2021-04-25T12:04:09.522623Z",
     "start_time": "2021-04-25T12:04:02.221486Z"
    }
   },
   "outputs": [
    {
     "data": {
      "text/plain": [
       "id\n",
       "0    [101, 2160, 17183, 14895, 1024, 2057, 2134, 15...\n",
       "1    [101, 13259, 1024, 18520, 7207, 1010, 2502, 24...\n",
       "2    [101, 2339, 1996, 3606, 2453, 2131, 2017, 5045...\n",
       "3    [101, 2321, 9272, 2730, 1999, 2309, 2149, 1436...\n",
       "Name: title, dtype: object"
      ]
     },
     "execution_count": 7,
     "metadata": {},
     "output_type": "execute_result"
    }
   ],
   "source": [
    "#Just the first 512 words max for each row because BERT max sequence length\n",
    "tokenized = df['title'].str.split().str[:512].apply(' '.join)\n",
    "tokenized = tokenized.apply(lambda x:tokenizer.encode(x,add_special_tokens=True))\n",
    "tokenized[:4]"
   ]
  },
  {
   "cell_type": "code",
   "execution_count": 8,
   "id": "22394683",
   "metadata": {
    "ExecuteTime": {
     "end_time": "2021-04-25T12:04:13.399169Z",
     "start_time": "2021-04-25T12:04:09.526405Z"
    }
   },
   "outputs": [
    {
     "name": "stdout",
     "output_type": "stream",
     "text": [
      "INFO:tensorflow:Enabling eager execution\n",
      "INFO:tensorflow:Enabling v2 tensorshape\n",
      "INFO:tensorflow:Enabling resource variables\n",
      "INFO:tensorflow:Enabling tensor equality\n",
      "INFO:tensorflow:Enabling control flow v2\n",
      "26 (19122, 1, 109)\n"
     ]
    }
   ],
   "source": [
    "import numpy as np\n",
    "from tensorflow.keras.preprocessing.sequence import pad_sequences\n",
    "\n",
    "#Every sentence should have the same lenght\n",
    "max_seq_len = max(map(len,tokenized))\n",
    "padded = np.array([pad_sequences([x],maxlen=max_seq_len,padding='post') for x in tokenized])\n",
    "print(len(tokenized[0]),padded.shape)"
   ]
  },
  {
   "cell_type": "markdown",
   "id": "d563d7c3",
   "metadata": {},
   "source": [
    "## Model"
   ]
  },
  {
   "cell_type": "code",
   "execution_count": 9,
   "id": "7e720c87",
   "metadata": {
    "ExecuteTime": {
     "end_time": "2021-04-25T12:04:13.957673Z",
     "start_time": "2021-04-25T12:04:13.402017Z"
    }
   },
   "outputs": [
    {
     "name": "stdout",
     "output_type": "stream",
     "text": [
      "(4399, 1, 109)\n",
      "(4399, 109)\n"
     ]
    }
   ],
   "source": [
    "from sklearn.model_selection import train_test_split\n",
    "\n",
    "X_train, X_test, y_train, y_test = train_test_split(padded,df['label'].values,\n",
    "                                                    train_size=0.77,\n",
    "                                                    random_state=22)\n",
    "print(X_test.shape)\n",
    "X_train = [x[0] for x in X_train]\n",
    "X_test = [x[0] for x in X_test]\n",
    "print(np.array(X_test).shape)"
   ]
  },
  {
   "cell_type": "code",
   "execution_count": 10,
   "id": "808de4b3",
   "metadata": {
    "ExecuteTime": {
     "end_time": "2021-04-25T12:04:14.028128Z",
     "start_time": "2021-04-25T12:04:13.960074Z"
    }
   },
   "outputs": [],
   "source": [
    "from sklearn.pipeline import Pipeline\n",
    "from xgboost.sklearn import XGBClassifier\n",
    "from sklearn.preprocessing import MinMaxScaler\n",
    "\n",
    "mm_x = MinMaxScaler()\n",
    "xgb = XGBClassifier()\n",
    "\n",
    "model_xgb = Pipeline(steps=[('scaler', mm_x),\n",
    "                            ('model', xgb)])"
   ]
  },
  {
   "cell_type": "markdown",
   "id": "6a0a856f",
   "metadata": {},
   "source": [
    "## Training"
   ]
  },
  {
   "cell_type": "code",
   "execution_count": 11,
   "id": "90af9859",
   "metadata": {
    "ExecuteTime": {
     "end_time": "2021-04-25T12:04:16.316405Z",
     "start_time": "2021-04-25T12:04:14.030038Z"
    }
   },
   "outputs": [
    {
     "name": "stdout",
     "output_type": "stream",
     "text": [
      "[07:04:14] WARNING: /Users/travis/build/dmlc/xgboost/src/learner.cc:1095: Starting in XGBoost 1.3.0, the default evaluation metric used with the objective 'binary:logistic' was changed from 'error' to 'logloss'. Explicitly set eval_metric if you'd like to restore the old behavior.\n"
     ]
    },
    {
     "name": "stderr",
     "output_type": "stream",
     "text": [
      "/Users/efraflores/Desktop/ann/venv/lib/python3.9/site-packages/xgboost/sklearn.py:1146: UserWarning: The use of label encoder in XGBClassifier is deprecated and will be removed in a future release. To remove this warning, do the following: 1) Pass option use_label_encoder=False when constructing XGBClassifier object; and 2) Encode your labels (y) as integers starting with 0, i.e. 0, 1, 2, ..., [num_class - 1].\n",
      "  warnings.warn(label_encoder_deprecation_msg, UserWarning)\n"
     ]
    },
    {
     "data": {
      "text/plain": [
       "Pipeline(steps=[('scaler', MinMaxScaler()),\n",
       "                ('model',\n",
       "                 XGBClassifier(base_score=0.5, booster='gbtree',\n",
       "                               colsample_bylevel=1, colsample_bynode=1,\n",
       "                               colsample_bytree=1, gamma=0, gpu_id=-1,\n",
       "                               importance_type='gain',\n",
       "                               interaction_constraints='',\n",
       "                               learning_rate=0.300000012, max_delta_step=0,\n",
       "                               max_depth=6, min_child_weight=1, missing=nan,\n",
       "                               monotone_constraints='()', n_estimators=100,\n",
       "                               n_jobs=8, num_parallel_tree=1, random_state=0,\n",
       "                               reg_alpha=0, reg_lambda=1, scale_pos_weight=1,\n",
       "                               subsample=1, tree_method='exact',\n",
       "                               validate_parameters=1, verbosity=None))])"
      ]
     },
     "execution_count": 11,
     "metadata": {},
     "output_type": "execute_result"
    }
   ],
   "source": [
    "model_xgb.fit(X_train,y_train)"
   ]
  },
  {
   "cell_type": "code",
   "execution_count": 12,
   "id": "507a0253",
   "metadata": {
    "ExecuteTime": {
     "end_time": "2021-04-25T12:04:16.380384Z",
     "start_time": "2021-04-25T12:04:16.318458Z"
    }
   },
   "outputs": [
    {
     "name": "stdout",
     "output_type": "stream",
     "text": [
      "Train score: 97.8%\n",
      " Test score: 91.0%\n"
     ]
    }
   ],
   "source": [
    "print(f\"Train score: {'{:.1%}'.format(model_xgb.score(X_train,y_train))}\\n\",\n",
    "      f\"Test score: {'{:.1%}'.format(model_xgb.score(X_test,y_test))}\")"
   ]
  },
  {
   "cell_type": "markdown",
   "id": "d2c8c962",
   "metadata": {},
   "source": [
    "## Save the model"
   ]
  },
  {
   "cell_type": "code",
   "execution_count": 13,
   "id": "f4111a67",
   "metadata": {
    "ExecuteTime": {
     "end_time": "2021-04-25T12:04:16.436332Z",
     "start_time": "2021-04-25T12:04:16.382452Z"
    }
   },
   "outputs": [],
   "source": [
    "import pickle\n",
    "\n",
    "#First, preserve the tokenizer\n",
    "with open(os.path.join(BASE_DIR,'fake_tokenizer.pickle'), 'wb') as f:\n",
    "    pickle.dump(tokenizer, f)\n",
    "    \n",
    "#Then the model-pipeline\n",
    "with open(os.path.join(BASE_DIR,'fake_model.pickle'), 'wb') as f:\n",
    "    pickle.dump(model_xgb, f)"
   ]
  },
  {
   "cell_type": "markdown",
   "id": "981263fa",
   "metadata": {},
   "source": [
    "## Predict"
   ]
  },
  {
   "cell_type": "code",
   "execution_count": 14,
   "id": "fbc8ce56",
   "metadata": {
    "ExecuteTime": {
     "end_time": "2021-04-25T12:04:16.494015Z",
     "start_time": "2021-04-25T12:04:16.438622Z"
    }
   },
   "outputs": [],
   "source": [
    "import pickle\n",
    "\n",
    "with open(os.path.join(BASE_DIR,'fake_tokenizer.pickle'), 'rb') as f:\n",
    "    tokenizer = pickle.load(f)\n",
    "    \n",
    "with open(os.path.join(BASE_DIR,'fake_model.pickle'), 'rb') as f:\n",
    "    model = pickle.load(f)"
   ]
  },
  {
   "cell_type": "code",
   "execution_count": 15,
   "id": "a65f3b1a",
   "metadata": {
    "ExecuteTime": {
     "end_time": "2021-04-25T12:04:16.500997Z",
     "start_time": "2021-04-25T12:04:16.496079Z"
    }
   },
   "outputs": [],
   "source": [
    "import numpy as np\n",
    "from tensorflow.keras.preprocessing.sequence import pad_sequences \n",
    "\n",
    "def fake_predict(text,fake_model,fitted_tokenizer):\n",
    "    text = ' '.join(text.split()[:512])\n",
    "    text = tokenizer.encode(text,add_special_tokens=True)\n",
    "    text = np.array([pad_sequences([x],maxlen=model.n_features_in_,padding='post') for x in [text]])\n",
    "    proba = model.predict_proba([x[0] for x in text])[0][1]\n",
    "    print(f\"{'{:.1%}'.format(proba)} prob this new is fake.\\n\")\n",
    "    return proba"
   ]
  },
  {
   "cell_type": "code",
   "execution_count": 16,
   "id": "1c7a2150",
   "metadata": {
    "ExecuteTime": {
     "end_time": "2021-04-25T12:04:16.551873Z",
     "start_time": "2021-04-25T12:04:16.503313Z"
    }
   },
   "outputs": [
    {
     "name": "stdout",
     "output_type": "stream",
     "text": [
      "FAKE: A very important question about the Scunthorpe hospital computer hack...\n",
      "93.2% prob this new is fake.\n",
      "\n",
      "FAKE: AIG Quadruples Limits for Terrorism Insurance to $1 Billion...\n",
      "88.0% prob this new is fake.\n",
      "\n",
      "FAKE: Here’s What Happened When a Hillary Supporting MIT Professor Decided...\n",
      "98.7% prob this new is fake.\n",
      "\n",
      "REAL: Can Raf Simons Reinvent Calvin Klein? - The New York...\n",
      "5.9% prob this new is fake.\n",
      "\n",
      "REAL: Falluja Restaurant Is Reborn in Baghdad, Offering Nostalgia With Its...\n",
      "1.1% prob this new is fake.\n",
      "\n",
      "REAL: HSBC Bank Executives Face Charges in $3.5 Billion Currency Case...\n",
      "0.6% prob this new is fake.\n",
      "\n",
      "REAL: NYT: ’Bill Maher and Milo Yiannopoulos Find Common Ground’ -...\n",
      "0.3% prob this new is fake.\n",
      "\n",
      "REAL: Hillary Clinton Surprises by Attending Pride Parade in New York...\n",
      "2.5% prob this new is fake.\n",
      "\n",
      "REAL: Parisian Women Face Constant Harassment By Migrants...\n",
      "98.7% prob this new is fake.\n",
      "\n",
      "FAKE: Why Time Magazine’s Joe Klein Is So Wrong About Hillary...\n",
      "90.8% prob this new is fake.\n",
      "\n",
      "FAKE: How demonetisation has affected tipping...\n",
      "89.7% prob this new is fake.\n",
      "\n"
     ]
    }
   ],
   "source": [
    "import random\n",
    "\n",
    "n = len(df)\n",
    "aux = []\n",
    "for _ in range(11):\n",
    "    i = random.randint(0,n)\n",
    "    text = df.iloc[i,:]['title']\n",
    "    label = df.iloc[i,:]['label']==1 \n",
    "    print(('FAKE: 'if label else 'REAL: ')+' '.join(text.split()[:10])+'...')\n",
    "    aux.append((text,label,fake_predict(text,model,tokenizer)))\n",
    "    \n",
    "pred = pd.DataFrame(aux,columns=['title','fake','prediction'])"
   ]
  },
  {
   "cell_type": "code",
   "execution_count": 17,
   "id": "92260d5c",
   "metadata": {
    "ExecuteTime": {
     "end_time": "2021-04-25T12:04:16.564257Z",
     "start_time": "2021-04-25T12:04:16.554155Z"
    }
   },
   "outputs": [
    {
     "data": {
      "text/html": [
       "<div>\n",
       "<style scoped>\n",
       "    .dataframe tbody tr th:only-of-type {\n",
       "        vertical-align: middle;\n",
       "    }\n",
       "\n",
       "    .dataframe tbody tr th {\n",
       "        vertical-align: top;\n",
       "    }\n",
       "\n",
       "    .dataframe thead th {\n",
       "        text-align: right;\n",
       "    }\n",
       "</style>\n",
       "<table border=\"1\" class=\"dataframe\">\n",
       "  <thead>\n",
       "    <tr style=\"text-align: right;\">\n",
       "      <th></th>\n",
       "      <th>title</th>\n",
       "      <th>fake</th>\n",
       "      <th>prediction</th>\n",
       "    </tr>\n",
       "  </thead>\n",
       "  <tbody>\n",
       "    <tr>\n",
       "      <th>0</th>\n",
       "      <td>A very important question about the Scunthorpe...</td>\n",
       "      <td>True</td>\n",
       "      <td>0.932015</td>\n",
       "    </tr>\n",
       "    <tr>\n",
       "      <th>1</th>\n",
       "      <td>AIG Quadruples Limits for Terrorism Insurance ...</td>\n",
       "      <td>True</td>\n",
       "      <td>0.880457</td>\n",
       "    </tr>\n",
       "    <tr>\n",
       "      <th>2</th>\n",
       "      <td>Here’s What Happened When a Hillary Supporting...</td>\n",
       "      <td>True</td>\n",
       "      <td>0.986988</td>\n",
       "    </tr>\n",
       "    <tr>\n",
       "      <th>3</th>\n",
       "      <td>Can Raf Simons Reinvent Calvin Klein? - The Ne...</td>\n",
       "      <td>False</td>\n",
       "      <td>0.059162</td>\n",
       "    </tr>\n",
       "    <tr>\n",
       "      <th>4</th>\n",
       "      <td>Falluja Restaurant Is Reborn in Baghdad, Offer...</td>\n",
       "      <td>False</td>\n",
       "      <td>0.011490</td>\n",
       "    </tr>\n",
       "    <tr>\n",
       "      <th>5</th>\n",
       "      <td>HSBC Bank Executives Face Charges in $3.5 Bill...</td>\n",
       "      <td>False</td>\n",
       "      <td>0.006097</td>\n",
       "    </tr>\n",
       "    <tr>\n",
       "      <th>6</th>\n",
       "      <td>NYT: ’Bill Maher and Milo Yiannopoulos Find Co...</td>\n",
       "      <td>False</td>\n",
       "      <td>0.002501</td>\n",
       "    </tr>\n",
       "    <tr>\n",
       "      <th>7</th>\n",
       "      <td>Hillary Clinton Surprises by Attending Pride P...</td>\n",
       "      <td>False</td>\n",
       "      <td>0.025457</td>\n",
       "    </tr>\n",
       "    <tr>\n",
       "      <th>8</th>\n",
       "      <td>Parisian Women Face Constant Harassment By Mig...</td>\n",
       "      <td>False</td>\n",
       "      <td>0.986693</td>\n",
       "    </tr>\n",
       "    <tr>\n",
       "      <th>9</th>\n",
       "      <td>Why Time Magazine’s Joe Klein Is So Wrong Abou...</td>\n",
       "      <td>True</td>\n",
       "      <td>0.907936</td>\n",
       "    </tr>\n",
       "    <tr>\n",
       "      <th>10</th>\n",
       "      <td>How demonetisation has affected tipping</td>\n",
       "      <td>True</td>\n",
       "      <td>0.896941</td>\n",
       "    </tr>\n",
       "  </tbody>\n",
       "</table>\n",
       "</div>"
      ],
      "text/plain": [
       "                                                title   fake  prediction\n",
       "0   A very important question about the Scunthorpe...   True    0.932015\n",
       "1   AIG Quadruples Limits for Terrorism Insurance ...   True    0.880457\n",
       "2   Here’s What Happened When a Hillary Supporting...   True    0.986988\n",
       "3   Can Raf Simons Reinvent Calvin Klein? - The Ne...  False    0.059162\n",
       "4   Falluja Restaurant Is Reborn in Baghdad, Offer...  False    0.011490\n",
       "5   HSBC Bank Executives Face Charges in $3.5 Bill...  False    0.006097\n",
       "6   NYT: ’Bill Maher and Milo Yiannopoulos Find Co...  False    0.002501\n",
       "7   Hillary Clinton Surprises by Attending Pride P...  False    0.025457\n",
       "8   Parisian Women Face Constant Harassment By Mig...  False    0.986693\n",
       "9   Why Time Magazine’s Joe Klein Is So Wrong Abou...   True    0.907936\n",
       "10            How demonetisation has affected tipping   True    0.896941"
      ]
     },
     "execution_count": 17,
     "metadata": {},
     "output_type": "execute_result"
    }
   ],
   "source": [
    "pred"
   ]
  }
 ],
 "metadata": {
  "kernelspec": {
   "display_name": "Python 3",
   "language": "python",
   "name": "python3"
  },
  "language_info": {
   "codemirror_mode": {
    "name": "ipython",
    "version": 3
   },
   "file_extension": ".py",
   "mimetype": "text/x-python",
   "name": "python",
   "nbconvert_exporter": "python",
   "pygments_lexer": "ipython3",
   "version": "3.9.1"
  },
  "toc": {
   "base_numbering": 1,
   "nav_menu": {},
   "number_sections": true,
   "sideBar": true,
   "skip_h1_title": true,
   "title_cell": "Table of Contents",
   "title_sidebar": "Contents",
   "toc_cell": false,
   "toc_position": {},
   "toc_section_display": true,
   "toc_window_display": true
  },
  "varInspector": {
   "cols": {
    "lenName": 16,
    "lenType": 16,
    "lenVar": 40
   },
   "kernels_config": {
    "python": {
     "delete_cmd_postfix": "",
     "delete_cmd_prefix": "del ",
     "library": "var_list.py",
     "varRefreshCmd": "print(var_dic_list())"
    },
    "r": {
     "delete_cmd_postfix": ") ",
     "delete_cmd_prefix": "rm(",
     "library": "var_list.r",
     "varRefreshCmd": "cat(var_dic_list()) "
    }
   },
   "types_to_exclude": [
    "module",
    "function",
    "builtin_function_or_method",
    "instance",
    "_Feature"
   ],
   "window_display": false
  }
 },
 "nbformat": 4,
 "nbformat_minor": 5
}
